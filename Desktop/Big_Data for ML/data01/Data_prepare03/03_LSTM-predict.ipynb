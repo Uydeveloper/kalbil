{
 "cells": [
  {
   "cell_type": "code",
   "execution_count": 64,
   "id": "1a6ad91f-24d3-4cda-8468-2f01143db4c6",
   "metadata": {},
   "outputs": [],
   "source": [
    "# ライブラリのインポート\n",
    "import numpy as np\n",
    "from sklearn.metrics import r2_score\n",
    "from datetime import datetime\n",
    "from sklearn.preprocessing import MinMaxScaler\n",
    "from keras.models import Sequential\n",
    "from keras.layers import Dense, LSTM, Dropout, RepeatVector, TimeDistributed\n",
    "import keras\n",
    "import joblib"
   ]
  },
  {
   "cell_type": "code",
   "execution_count": 68,
   "id": "1d47173a",
   "metadata": {},
   "outputs": [],
   "source": [
    "# どれくらいの期間を基に予測するか　（例：★ここでは24\n",
    "window_size = 24\n",
    "npyname = \"kddi_06_new\"\n",
    "datedir = \"230316\""
   ]
  },
  {
   "cell_type": "code",
   "execution_count": 69,
   "id": "8d8cf95c",
   "metadata": {},
   "outputs": [],
   "source": [
    "# 交通量データの読込み\n",
    "timeseries_aug = np.load(\"./\"+datedir+'/'+ npyname+\"_01param.npy\", allow_pickle=True)"
   ]
  },
  {
   "cell_type": "code",
   "execution_count": 70,
   "id": "a0097a8d",
   "metadata": {},
   "outputs": [],
   "source": [
    "model = keras.models.load_model(datedir+'/'+npyname+'_model.h5')"
   ]
  },
  {
   "cell_type": "code",
   "execution_count": 71,
   "id": "6a782a20",
   "metadata": {},
   "outputs": [
    {
     "data": {
      "text/plain": [
       "(720, 16814)"
      ]
     },
     "execution_count": 71,
     "metadata": {},
     "output_type": "execute_result"
    }
   ],
   "source": [
    "# 読み込んだ交通量データの確認\n",
    "timeseries_aug.shape"
   ]
  },
  {
   "cell_type": "code",
   "execution_count": 72,
   "id": "7b307a5d",
   "metadata": {
    "scrolled": true
   },
   "outputs": [
    {
     "data": {
      "text/plain": [
       "array([[0., 0., 0., ..., 0., 0., 0.],\n",
       "       [0., 0., 0., ..., 0., 0., 0.],\n",
       "       [0., 0., 0., ..., 0., 0., 0.],\n",
       "       ...,\n",
       "       [0., 0., 0., ..., 0., 0., 0.],\n",
       "       [0., 0., 0., ..., 0., 0., 0.],\n",
       "       [0., 0., 0., ..., 0., 0., 0.]])"
      ]
     },
     "execution_count": 72,
     "metadata": {},
     "output_type": "execute_result"
    }
   ],
   "source": [
    "# 読み込んだ交通量データの確認\n",
    "timeseries_aug"
   ]
  },
  {
   "cell_type": "code",
   "execution_count": 73,
   "id": "f84c4779",
   "metadata": {},
   "outputs": [
    {
     "data": {
      "text/plain": [
       "0.0"
      ]
     },
     "execution_count": 73,
     "metadata": {},
     "output_type": "execute_result"
    }
   ],
   "source": [
    "# データの確認\n",
    "timeseries_aug[3][1]"
   ]
  },
  {
   "cell_type": "code",
   "execution_count": 74,
   "id": "f94c7988",
   "metadata": {},
   "outputs": [
    {
     "data": {
      "text/plain": [
       "array([[0., 0., 0., ..., 0., 0., 0.],\n",
       "       [0., 0., 0., ..., 0., 0., 0.],\n",
       "       [0., 0., 0., ..., 0., 0., 0.],\n",
       "       ...,\n",
       "       [0., 0., 0., ..., 0., 0., 0.],\n",
       "       [0., 0., 0., ..., 0., 0., 0.],\n",
       "       [0., 0., 0., ..., 0., 0., 0.]])"
      ]
     },
     "execution_count": 74,
     "metadata": {},
     "output_type": "execute_result"
    }
   ],
   "source": [
    "# データの正規化\n",
    "# データを0～1の範囲に正規化）\n",
    "scaler = MinMaxScaler(feature_range=(0, 1))\n",
    "train_data = scaler.fit_transform(timeseries_aug)\n",
    "train_data"
   ]
  },
  {
   "cell_type": "code",
   "execution_count": 75,
   "id": "165a2c74-d175-4ec7-9c7a-26da507d2716",
   "metadata": {},
   "outputs": [
    {
     "data": {
      "text/plain": [
       "(720, 16814)"
      ]
     },
     "execution_count": 75,
     "metadata": {},
     "output_type": "execute_result"
    }
   ],
   "source": [
    "# データサイズの確認\n",
    "train_data.shape"
   ]
  },
  {
   "cell_type": "code",
   "execution_count": 76,
   "id": "f528c055-41ba-4916-ae42-379bc1da04f9",
   "metadata": {},
   "outputs": [
    {
     "name": "stdout",
     "output_type": "stream",
     "text": [
      "24\n"
     ]
    }
   ],
   "source": [
    "# データ構造を再確認 \n",
    "print(window_size)"
   ]
  },
  {
   "cell_type": "code",
   "execution_count": 77,
   "id": "23644222",
   "metadata": {},
   "outputs": [],
   "source": [
    "# （予測用）\n",
    "x_test = []\n",
    "# テスト用予測データ\n",
    "for i in range(window_size, len(train_data), window_size):\n",
    "    x_test.append(train_data[i-window_size:i, :])\n",
    "x_test.append(train_data[i-window_size:i, :])\n",
    "    "
   ]
  },
  {
   "cell_type": "code",
   "execution_count": 78,
   "id": "e7bcb0b0",
   "metadata": {
    "scrolled": true
   },
   "outputs": [
    {
     "data": {
      "text/plain": [
       "0.0"
      ]
     },
     "execution_count": 78,
     "metadata": {},
     "output_type": "execute_result"
    }
   ],
   "source": [
    "# データの確認（予測用）\n",
    "x_test[0][3][1]"
   ]
  },
  {
   "cell_type": "code",
   "execution_count": 79,
   "id": "67120cfa",
   "metadata": {},
   "outputs": [
    {
     "name": "stdout",
     "output_type": "stream",
     "text": [
      "(30, 24, 16814)\n"
     ]
    }
   ],
   "source": [
    "# numpy_arrayに変換\n",
    "x_test = np.array(x_test)\n",
    "print(x_test.shape)"
   ]
  },
  {
   "cell_type": "code",
   "execution_count": 80,
   "id": "e240b777",
   "metadata": {},
   "outputs": [
    {
     "name": "stdout",
     "output_type": "stream",
     "text": [
      "1/1 [==============================] - 0s 329ms/step\n"
     ]
    }
   ],
   "source": [
    "# 予測実行\n",
    "predictions = model.predict(x_test)\n",
    "#predictions = scaler.inverse_transform(predictions) "
   ]
  },
  {
   "cell_type": "code",
   "execution_count": 81,
   "id": "aa69efcf",
   "metadata": {
    "scrolled": false
   },
   "outputs": [
    {
     "name": "stdout",
     "output_type": "stream",
     "text": [
      "(30, 24, 16814)\n"
     ]
    },
    {
     "data": {
      "text/plain": [
       "array([[ 7.17828516e-06, -6.73769508e-04,  2.26796861e-03, ...,\n",
       "        -2.78287660e-03,  1.28856231e-03,  5.81815280e-03],\n",
       "       [ 7.03112455e-04, -3.30961542e-03,  9.14974371e-04, ...,\n",
       "        -2.61206063e-03,  2.03201594e-03,  1.30928438e-02],\n",
       "       [ 1.27784570e-03, -4.75327298e-03, -1.61825097e-03, ...,\n",
       "        -2.15111068e-04,  4.20908397e-03,  1.75839663e-02],\n",
       "       ...,\n",
       "       [ 1.87778019e-03, -3.07758572e-04, -2.06965618e-02, ...,\n",
       "         1.93620473e-03, -2.27195956e-03, -2.91968626e-03],\n",
       "       [ 2.10442115e-04,  1.39489910e-03, -2.07841825e-02, ...,\n",
       "         3.25118843e-03, -7.71508436e-04, -2.59569311e-03],\n",
       "       [-4.56204871e-05, -1.03290426e-04, -1.03185540e-02, ...,\n",
       "        -1.93590764e-04,  1.26739545e-03,  3.15290736e-03]], dtype=float32)"
      ]
     },
     "execution_count": 81,
     "metadata": {},
     "output_type": "execute_result"
    }
   ],
   "source": [
    "# 予測結果を確認\n",
    "print(predictions.shape)\n",
    "predictions[0]"
   ]
  },
  {
   "cell_type": "code",
   "execution_count": 82,
   "id": "eeeb6f33",
   "metadata": {},
   "outputs": [],
   "source": [
    "# 保存したScalerの読込み\n",
    "scalers = joblib.load(datedir+'/'+npyname+'_scaler.gz')"
   ]
  },
  {
   "cell_type": "code",
   "execution_count": 83,
   "id": "454446f5",
   "metadata": {},
   "outputs": [],
   "source": [
    "predictions_traffic_volume = []\n",
    "for cnt in range(predictions.shape[0]):\n",
    "    # 正規化されたデータを逆変換\n",
    "    tst_predictions = scalers.inverse_transform(predictions[cnt])\n",
    "    predictions_traffic_volume.append(tst_predictions)"
   ]
  },
  {
   "cell_type": "code",
   "execution_count": 84,
   "id": "283d302f",
   "metadata": {
    "scrolled": true
   },
   "outputs": [
    {
     "data": {
      "text/plain": [
       "30"
      ]
     },
     "execution_count": 84,
     "metadata": {},
     "output_type": "execute_result"
    }
   ],
   "source": [
    "len(predictions_traffic_volume)"
   ]
  },
  {
   "cell_type": "code",
   "execution_count": 85,
   "id": "619ac40b",
   "metadata": {},
   "outputs": [],
   "source": [
    "#予測結果の保存\n",
    "np.save(datedir+'/'+ npyname + '_03res_param.npy', predictions_traffic_volume)"
   ]
  },
  {
   "cell_type": "code",
   "execution_count": 86,
   "id": "25a09009",
   "metadata": {},
   "outputs": [],
   "source": [
    "predictions_traffic_volume = []\n",
    "for cnt in range(predictions.shape[0]):\n",
    "    # 正規化されたデータを逆変換\n",
    "    tst_predictions = predictions[cnt]\n",
    "    predictions_traffic_volume.append(tst_predictions)\n",
    "\n",
    "scaler = MinMaxScaler(feature_range=(0, 1))\n",
    "np.save(datedir+'/'+ npyname + '_03res_weight.npy', predictions_traffic_volume)"
   ]
  },
  {
   "cell_type": "code",
   "execution_count": 87,
   "id": "4ea905c6",
   "metadata": {},
   "outputs": [],
   "source": [
    "#ConvNpyLoadPostgres ->"
   ]
  },
  {
   "cell_type": "code",
   "execution_count": null,
   "id": "106e6c70",
   "metadata": {},
   "outputs": [],
   "source": []
  }
 ],
 "metadata": {
  "kernelspec": {
   "display_name": "Python 3 (ipykernel)",
   "language": "python",
   "name": "python3"
  },
  "language_info": {
   "codemirror_mode": {
    "name": "ipython",
    "version": 3
   },
   "file_extension": ".py",
   "mimetype": "text/x-python",
   "name": "python",
   "nbconvert_exporter": "python",
   "pygments_lexer": "ipython3",
   "version": "3.9.15"
  }
 },
 "nbformat": 4,
 "nbformat_minor": 5
}
