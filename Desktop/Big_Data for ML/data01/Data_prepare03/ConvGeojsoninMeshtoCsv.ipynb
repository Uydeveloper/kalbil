{
 "cells": [
  {
   "cell_type": "code",
   "execution_count": 1,
   "id": "e0aa6032",
   "metadata": {},
   "outputs": [],
   "source": [
    "import json"
   ]
  },
  {
   "cell_type": "code",
   "execution_count": 40,
   "id": "514701f9",
   "metadata": {},
   "outputs": [],
   "source": [
    "with open(\"mesh125.geojson\") as f:\n",
    "    src = json.load(f) # 辞書型で取得"
   ]
  },
  {
   "cell_type": "code",
   "execution_count": 41,
   "id": "b5482e25",
   "metadata": {},
   "outputs": [
    {
     "name": "stdout",
     "output_type": "stream",
     "text": [
      "132.77187500000002\n"
     ]
    }
   ],
   "source": [
    "ftr = src.get('features')[0]    # n番目のフィーチャー\n",
    "print(ftr['geometry']['coordinates'][0][0][0])\n"
   ]
  },
  {
   "cell_type": "code",
   "execution_count": 42,
   "id": "75e74099",
   "metadata": {},
   "outputs": [],
   "source": [
    "f = open('mesh125.csv', 'w')\n",
    "lens = len(src.get('features'))\n",
    "\n",
    "for i in range(lens):\n",
    "    ftr = src.get('features')[i]\n",
    "    poly = ftr['geometry']['coordinates'][0] #ポリゴン\n",
    "\n",
    "    latlnglens = len(poly)\n",
    "    for j in range(latlnglens):\n",
    "        wk = poly[j][0]\n",
    "        poly[j][0] = poly[j][1]\n",
    "        poly[j][1] = wk\n",
    "    grid = ftr['properties']['GRID_CODE']    #グリッド\n",
    "    f.write('\"'+str(grid)+'\",\"'+str(poly)+'\"\\n')\n",
    "f.close()\n"
   ]
  },
  {
   "cell_type": "code",
   "execution_count": null,
   "id": "5b06a225",
   "metadata": {},
   "outputs": [],
   "source": []
  }
 ],
 "metadata": {
  "kernelspec": {
   "display_name": "Python 3 (ipykernel)",
   "language": "python",
   "name": "python3"
  },
  "language_info": {
   "codemirror_mode": {
    "name": "ipython",
    "version": 3
   },
   "file_extension": ".py",
   "mimetype": "text/x-python",
   "name": "python",
   "nbconvert_exporter": "python",
   "pygments_lexer": "ipython3",
   "version": "3.9.15"
  }
 },
 "nbformat": 4,
 "nbformat_minor": 5
}
