{
 "cells": [
  {
   "cell_type": "code",
   "execution_count": 3,
   "id": "e0aa6032",
   "metadata": {},
   "outputs": [],
   "source": [
    "import psycopg2\n",
    "import datetime"
   ]
  },
  {
   "cell_type": "code",
   "execution_count": 9,
   "id": "74333bb8",
   "metadata": {},
   "outputs": [],
   "source": [
    "npyname = \"kddi_all_new_0320_30min_max\"\n",
    "datedir = \"230316\""
   ]
  },
  {
   "cell_type": "code",
   "execution_count": 10,
   "id": "514701f9",
   "metadata": {},
   "outputs": [],
   "source": [
    "connection = psycopg2.connectconnection = psycopg2.connect(host=\"localhost\", database=\"analysisdb\", user=\"postgres\",password=\"setouchi1311\")"
   ]
  },
  {
   "cell_type": "code",
   "execution_count": 11,
   "id": "b5482e25",
   "metadata": {},
   "outputs": [],
   "source": [
    "#geojson情報を作成する。\n",
    "sql = \"SELECT times,tbran,multilinestring FROM trakangeoload \"\n",
    "sql += \"INNER JOIN \" + npyname + \" on trakangeoload.osm_id = \" + npyname + \" .osm_id order by times\"\n",
    "\n",
    "\n",
    "cur =connection.cursor()\n",
    "cur.execute(sql)\n",
    "keylist = []\n",
    "for row in cur:\n",
    "    keylist.append([str(row[0]), str(row[1]), str(row[2])])\n",
    "cur.close()\n",
    "\n"
   ]
  },
  {
   "cell_type": "code",
   "execution_count": null,
   "id": "da46e7c2",
   "metadata": {},
   "outputs": [],
   "source": [
    "keylist"
   ]
  },
  {
   "cell_type": "code",
   "execution_count": 13,
   "id": "75e74099",
   "metadata": {},
   "outputs": [],
   "source": [
    "f = open(datedir+'/leafletTL'+ npyname + '.geojson', 'w')\n",
    "find = 0\n",
    "f.write('{\\n')\n",
    "f.write('    \"type\": \"FeatureCollection\",\\n')\n",
    "f.write('    \"features\": [\\n')\n",
    "\n",
    "for item in keylist:\n",
    "        if find != 0:\n",
    "            f.write('        ,\\n')\n",
    "        f.write('        {\\n')\n",
    "        f.write('           \"type\": \"Feature\",\\n')\n",
    "        f.write('           \"properties\": {\\n')\n",
    "        f.write('               \"start\": \"')\n",
    "        f.write(item[0])\n",
    "        dte = datetime.datetime.strptime(item[0], '%Y-%m-%d %H:%M:%S')\n",
    "        f.write('\",\\n')\n",
    "        f.write('               \"end\": \"')\n",
    "        dte = dte + datetime.timedelta(minutes=30)\n",
    "        f.write(str(dte))\n",
    "        f.write('\",\\n')\n",
    "        f.write('               \"colordata\":\"')\n",
    "        f.write(item[1])\n",
    "        f.write('\"\\n')\n",
    "        f.write('           },\\n')\n",
    "        f.write('           \"geometry\": {\\n')\n",
    "        f.write('               \"type\": \"MultiLineString\",\\n')\n",
    "        f.write('               \"coordinates\":\\n')\n",
    "        f.write('               ')\n",
    "        f.write(item[2])\n",
    "        f.write('           }\\n')\n",
    "        f.write('        }\\n')\n",
    "        find += 1\n",
    "f.write('    ]\\n')\n",
    "f.write('}\\n')\n",
    "f.close()\n"
   ]
  },
  {
   "cell_type": "code",
   "execution_count": null,
   "id": "06c39e84",
   "metadata": {},
   "outputs": [],
   "source": []
  },
  {
   "cell_type": "code",
   "execution_count": null,
   "id": "0fa0d8ce",
   "metadata": {},
   "outputs": [],
   "source": []
  }
 ],
 "metadata": {
  "kernelspec": {
   "display_name": "Python 3 (ipykernel)",
   "language": "python",
   "name": "python3"
  },
  "language_info": {
   "codemirror_mode": {
    "name": "ipython",
    "version": 3
   },
   "file_extension": ".py",
   "mimetype": "text/x-python",
   "name": "python",
   "nbconvert_exporter": "python",
   "pygments_lexer": "ipython3",
   "version": "3.9.15"
  }
 },
 "nbformat": 4,
 "nbformat_minor": 5
}
