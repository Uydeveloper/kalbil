{
 "cells": [
  {
   "cell_type": "code",
   "execution_count": 1,
   "id": "c15cfc15",
   "metadata": {},
   "outputs": [],
   "source": [
    "#Kepler.glの導入\n",
    "from keplergl import KeplerGl\n",
    "#pandasの導入\n",
    "import pandas as pd"
   ]
  },
  {
   "cell_type": "code",
   "execution_count": 3,
   "id": "3ee87209",
   "metadata": {},
   "outputs": [],
   "source": [
    "df = pd.read_csv('C:\\\\Users\\\\BIGDATA_DEV\\\\Desktop\\\\実証実験事業\\\\Notebook\\\\kddidata\\\\220401900_kddi_base.csv')"
   ]
  },
  {
   "cell_type": "code",
   "execution_count": 4,
   "id": "1d91e411",
   "metadata": {},
   "outputs": [
    {
     "data": {
      "text/html": [
       "<div>\n",
       "<style scoped>\n",
       "    .dataframe tbody tr th:only-of-type {\n",
       "        vertical-align: middle;\n",
       "    }\n",
       "\n",
       "    .dataframe tbody tr th {\n",
       "        vertical-align: top;\n",
       "    }\n",
       "\n",
       "    .dataframe thead th {\n",
       "        text-align: right;\n",
       "    }\n",
       "</style>\n",
       "<table border=\"1\" class=\"dataframe\">\n",
       "  <thead>\n",
       "    <tr style=\"text-align: right;\">\n",
       "      <th></th>\n",
       "      <th>date</th>\n",
       "      <th>grid</th>\n",
       "      <th>lat</th>\n",
       "      <th>lng</th>\n",
       "      <th>param</th>\n",
       "    </tr>\n",
       "  </thead>\n",
       "  <tbody>\n",
       "    <tr>\n",
       "      <th>0</th>\n",
       "      <td>2022/04/01 09:00:00</td>\n",
       "      <td>50327682112</td>\n",
       "      <td>33.983854</td>\n",
       "      <td>132.777344</td>\n",
       "      <td>0.346</td>\n",
       "    </tr>\n",
       "    <tr>\n",
       "      <th>1</th>\n",
       "      <td>2022/04/01 09:00:00</td>\n",
       "      <td>50327663144</td>\n",
       "      <td>33.970312</td>\n",
       "      <td>132.792969</td>\n",
       "      <td>1.000</td>\n",
       "    </tr>\n",
       "    <tr>\n",
       "      <th>2</th>\n",
       "      <td>2022/04/01 09:00:00</td>\n",
       "      <td>50327662223</td>\n",
       "      <td>33.968229</td>\n",
       "      <td>132.785156</td>\n",
       "      <td>1.000</td>\n",
       "    </tr>\n",
       "    <tr>\n",
       "      <th>3</th>\n",
       "      <td>2022/04/01 09:00:00</td>\n",
       "      <td>50327652234</td>\n",
       "      <td>33.961979</td>\n",
       "      <td>132.783594</td>\n",
       "      <td>0.798</td>\n",
       "    </tr>\n",
       "    <tr>\n",
       "      <th>4</th>\n",
       "      <td>2022/04/01 09:00:00</td>\n",
       "      <td>50327641444</td>\n",
       "      <td>33.957813</td>\n",
       "      <td>132.774219</td>\n",
       "      <td>1.000</td>\n",
       "    </tr>\n",
       "    <tr>\n",
       "      <th>...</th>\n",
       "      <td>...</td>\n",
       "      <td>...</td>\n",
       "      <td>...</td>\n",
       "      <td>...</td>\n",
       "      <td>...</td>\n",
       "    </tr>\n",
       "    <tr>\n",
       "      <th>401</th>\n",
       "      <td>2022/04/01 09:00:00</td>\n",
       "      <td>50324596313</td>\n",
       "      <td>33.747396</td>\n",
       "      <td>132.700781</td>\n",
       "      <td>1.000</td>\n",
       "    </tr>\n",
       "    <tr>\n",
       "      <th>402</th>\n",
       "      <td>2022/04/01 09:00:00</td>\n",
       "      <td>50324693322</td>\n",
       "      <td>33.746354</td>\n",
       "      <td>132.792969</td>\n",
       "      <td>0.220</td>\n",
       "    </tr>\n",
       "    <tr>\n",
       "      <th>403</th>\n",
       "      <td>2022/04/01 09:00:00</td>\n",
       "      <td>50324683413</td>\n",
       "      <td>33.739063</td>\n",
       "      <td>132.794531</td>\n",
       "      <td>0.815</td>\n",
       "    </tr>\n",
       "    <tr>\n",
       "      <th>404</th>\n",
       "      <td>2022/04/01 09:00:00</td>\n",
       "      <td>50324682212</td>\n",
       "      <td>33.733854</td>\n",
       "      <td>132.783594</td>\n",
       "      <td>0.928</td>\n",
       "    </tr>\n",
       "    <tr>\n",
       "      <th>405</th>\n",
       "      <td>2022/04/01 09:00:00</td>\n",
       "      <td>50324771143</td>\n",
       "      <td>33.728646</td>\n",
       "      <td>132.891406</td>\n",
       "      <td>1.000</td>\n",
       "    </tr>\n",
       "  </tbody>\n",
       "</table>\n",
       "<p>406 rows × 5 columns</p>\n",
       "</div>"
      ],
      "text/plain": [
       "                    date         grid        lat         lng  param\n",
       "0    2022/04/01 09:00:00  50327682112  33.983854  132.777344  0.346\n",
       "1    2022/04/01 09:00:00  50327663144  33.970312  132.792969  1.000\n",
       "2    2022/04/01 09:00:00  50327662223  33.968229  132.785156  1.000\n",
       "3    2022/04/01 09:00:00  50327652234  33.961979  132.783594  0.798\n",
       "4    2022/04/01 09:00:00  50327641444  33.957813  132.774219  1.000\n",
       "..                   ...          ...        ...         ...    ...\n",
       "401  2022/04/01 09:00:00  50324596313  33.747396  132.700781  1.000\n",
       "402  2022/04/01 09:00:00  50324693322  33.746354  132.792969  0.220\n",
       "403  2022/04/01 09:00:00  50324683413  33.739063  132.794531  0.815\n",
       "404  2022/04/01 09:00:00  50324682212  33.733854  132.783594  0.928\n",
       "405  2022/04/01 09:00:00  50324771143  33.728646  132.891406  1.000\n",
       "\n",
       "[406 rows x 5 columns]"
      ]
     },
     "execution_count": 4,
     "metadata": {},
     "output_type": "execute_result"
    }
   ],
   "source": [
    "df"
   ]
  },
  {
   "cell_type": "code",
   "execution_count": 5,
   "id": "d0c9a973",
   "metadata": {
    "scrolled": true
   },
   "outputs": [
    {
     "name": "stdout",
     "output_type": "stream",
     "text": [
      "User Guide: https://docs.kepler.gl/docs/keplergl-jupyter\n"
     ]
    },
    {
     "data": {
      "application/vnd.jupyter.widget-view+json": {
       "model_id": "a8a2ed2257e44359b2591d0d5098f6d4",
       "version_major": 2,
       "version_minor": 0
      },
      "text/plain": [
       "KeplerGl(data={'data1': {'index': [0, 1, 2, 3, 4, 5, 6, 7, 8, 9, 10, 11, 12, 13, 14, 15, 16, 17, 18, 19, 20, 2…"
      ]
     },
     "metadata": {},
     "output_type": "display_data"
    }
   ],
   "source": [
    "map1 = KeplerGl(height=400)\n",
    "map1.add_data(data=df, name='data1')\n",
    "map1 "
   ]
  },
  {
   "cell_type": "code",
   "execution_count": 8,
   "id": "86fdb52c",
   "metadata": {},
   "outputs": [],
   "source": [
    "df2 = pd.read_csv('C:\\\\Users\\\\BIGDATA_DEV\\\\Desktop\\\\実証実験事業\\\\Notebook\\\\kddidata\\\\kddi_22040109H_trandata.csv')"
   ]
  },
  {
   "cell_type": "code",
   "execution_count": 9,
   "id": "d3cc8798",
   "metadata": {},
   "outputs": [
    {
     "data": {
      "text/html": [
       "<div>\n",
       "<style scoped>\n",
       "    .dataframe tbody tr th:only-of-type {\n",
       "        vertical-align: middle;\n",
       "    }\n",
       "\n",
       "    .dataframe tbody tr th {\n",
       "        vertical-align: top;\n",
       "    }\n",
       "\n",
       "    .dataframe thead th {\n",
       "        text-align: right;\n",
       "    }\n",
       "</style>\n",
       "<table border=\"1\" class=\"dataframe\">\n",
       "  <thead>\n",
       "    <tr style=\"text-align: right;\">\n",
       "      <th></th>\n",
       "      <th>date</th>\n",
       "      <th>grid</th>\n",
       "      <th>lat</th>\n",
       "      <th>lng</th>\n",
       "      <th>param</th>\n",
       "    </tr>\n",
       "  </thead>\n",
       "  <tbody>\n",
       "    <tr>\n",
       "      <th>0</th>\n",
       "      <td>2022/4/1 9:00</td>\n",
       "      <td>51320614132</td>\n",
       "      <td>34.010937</td>\n",
       "      <td>132.802344</td>\n",
       "      <td>-0.005870</td>\n",
       "    </tr>\n",
       "    <tr>\n",
       "      <th>1</th>\n",
       "      <td>2022/4/1 9:00</td>\n",
       "      <td>51320614113</td>\n",
       "      <td>34.009896</td>\n",
       "      <td>132.800781</td>\n",
       "      <td>0.010200</td>\n",
       "    </tr>\n",
       "    <tr>\n",
       "      <th>2</th>\n",
       "      <td>2022/4/1 9:00</td>\n",
       "      <td>51320614114</td>\n",
       "      <td>34.009896</td>\n",
       "      <td>132.802344</td>\n",
       "      <td>0.000782</td>\n",
       "    </tr>\n",
       "    <tr>\n",
       "      <th>3</th>\n",
       "      <td>2022/4/1 9:00</td>\n",
       "      <td>51320612221</td>\n",
       "      <td>34.008854</td>\n",
       "      <td>132.785156</td>\n",
       "      <td>0.010000</td>\n",
       "    </tr>\n",
       "    <tr>\n",
       "      <th>4</th>\n",
       "      <td>2022/4/1 9:00</td>\n",
       "      <td>51320613211</td>\n",
       "      <td>34.008854</td>\n",
       "      <td>132.794531</td>\n",
       "      <td>0.020900</td>\n",
       "    </tr>\n",
       "    <tr>\n",
       "      <th>...</th>\n",
       "      <td>...</td>\n",
       "      <td>...</td>\n",
       "      <td>...</td>\n",
       "      <td>...</td>\n",
       "      <td>...</td>\n",
       "    </tr>\n",
       "    <tr>\n",
       "      <th>7434</th>\n",
       "      <td>2022/4/1 9:00</td>\n",
       "      <td>50324521233</td>\n",
       "      <td>33.686979</td>\n",
       "      <td>132.644531</td>\n",
       "      <td>0.026300</td>\n",
       "    </tr>\n",
       "    <tr>\n",
       "      <th>7435</th>\n",
       "      <td>2022/4/1 9:00</td>\n",
       "      <td>50324521234</td>\n",
       "      <td>33.686979</td>\n",
       "      <td>132.646094</td>\n",
       "      <td>-0.004110</td>\n",
       "    </tr>\n",
       "    <tr>\n",
       "      <th>7436</th>\n",
       "      <td>2022/4/1 9:00</td>\n",
       "      <td>50324525233</td>\n",
       "      <td>33.686979</td>\n",
       "      <td>132.694531</td>\n",
       "      <td>-0.001400</td>\n",
       "    </tr>\n",
       "    <tr>\n",
       "      <th>7437</th>\n",
       "      <td>2022/4/1 9:00</td>\n",
       "      <td>50324525243</td>\n",
       "      <td>33.686979</td>\n",
       "      <td>132.697656</td>\n",
       "      <td>0.001390</td>\n",
       "    </tr>\n",
       "    <tr>\n",
       "      <th>7438</th>\n",
       "      <td>2022/4/1 9:00</td>\n",
       "      <td>50324526133</td>\n",
       "      <td>33.686979</td>\n",
       "      <td>132.700781</td>\n",
       "      <td>-0.000132</td>\n",
       "    </tr>\n",
       "  </tbody>\n",
       "</table>\n",
       "<p>7439 rows × 5 columns</p>\n",
       "</div>"
      ],
      "text/plain": [
       "               date         grid        lat         lng     param\n",
       "0     2022/4/1 9:00  51320614132  34.010937  132.802344 -0.005870\n",
       "1     2022/4/1 9:00  51320614113  34.009896  132.800781  0.010200\n",
       "2     2022/4/1 9:00  51320614114  34.009896  132.802344  0.000782\n",
       "3     2022/4/1 9:00  51320612221  34.008854  132.785156  0.010000\n",
       "4     2022/4/1 9:00  51320613211  34.008854  132.794531  0.020900\n",
       "...             ...          ...        ...         ...       ...\n",
       "7434  2022/4/1 9:00  50324521233  33.686979  132.644531  0.026300\n",
       "7435  2022/4/1 9:00  50324521234  33.686979  132.646094 -0.004110\n",
       "7436  2022/4/1 9:00  50324525233  33.686979  132.694531 -0.001400\n",
       "7437  2022/4/1 9:00  50324525243  33.686979  132.697656  0.001390\n",
       "7438  2022/4/1 9:00  50324526133  33.686979  132.700781 -0.000132\n",
       "\n",
       "[7439 rows x 5 columns]"
      ]
     },
     "execution_count": 9,
     "metadata": {},
     "output_type": "execute_result"
    }
   ],
   "source": [
    "df2"
   ]
  },
  {
   "cell_type": "code",
   "execution_count": 10,
   "id": "a8dcdcbc",
   "metadata": {},
   "outputs": [
    {
     "name": "stdout",
     "output_type": "stream",
     "text": [
      "User Guide: https://docs.kepler.gl/docs/keplergl-jupyter\n"
     ]
    },
    {
     "data": {
      "application/vnd.jupyter.widget-view+json": {
       "model_id": "b0ff9842f36d419bbe710e85bb34a97b",
       "version_major": 2,
       "version_minor": 0
      },
      "text/plain": [
       "KeplerGl(data={'data1': {'index': [0, 1, 2, 3, 4, 5, 6, 7, 8, 9, 10, 11, 12, 13, 14, 15, 16, 17, 18, 19, 20, 2…"
      ]
     },
     "metadata": {},
     "output_type": "display_data"
    }
   ],
   "source": [
    "map2 = KeplerGl(height=400)\n",
    "map2.add_data(data=df2, name='data1')\n",
    "map2 "
   ]
  },
  {
   "cell_type": "code",
   "execution_count": 11,
   "id": "e9c582bb",
   "metadata": {},
   "outputs": [],
   "source": [
    "df3 = pd.read_csv('C:\\\\Users\\\\BIGDATA_DEV\\\\Desktop\\\\実証実験事業\\\\Notebook\\\\pointdata_all.csv')"
   ]
  },
  {
   "cell_type": "code",
   "execution_count": 12,
   "id": "9f4b2f8f",
   "metadata": {},
   "outputs": [
    {
     "name": "stdout",
     "output_type": "stream",
     "text": [
      "User Guide: https://docs.kepler.gl/docs/keplergl-jupyter\n"
     ]
    },
    {
     "data": {
      "application/vnd.jupyter.widget-view+json": {
       "model_id": "3266ab77e40b469d8b8f93f1a69ac54a",
       "version_major": 2,
       "version_minor": 0
      },
      "text/plain": [
       "KeplerGl(data={'data1': {'index': [0, 1, 2, 3, 4, 5, 6, 7, 8, 9, 10, 11, 12, 13, 14, 15, 16, 17, 18, 19, 20, 2…"
      ]
     },
     "metadata": {},
     "output_type": "display_data"
    }
   ],
   "source": [
    "map3 = KeplerGl(height=400)\n",
    "map3.add_data(data=df3, name='data1')\n",
    "map3 "
   ]
  },
  {
   "cell_type": "code",
   "execution_count": null,
   "id": "7430b698",
   "metadata": {},
   "outputs": [],
   "source": []
  }
 ],
 "metadata": {
  "kernelspec": {
   "display_name": "Python 3 (ipykernel)",
   "language": "python",
   "name": "python3"
  },
  "language_info": {
   "codemirror_mode": {
    "name": "ipython",
    "version": 3
   },
   "file_extension": ".py",
   "mimetype": "text/x-python",
   "name": "python",
   "nbconvert_exporter": "python",
   "pygments_lexer": "ipython3",
   "version": "3.9.15"
  }
 },
 "nbformat": 4,
 "nbformat_minor": 5
}
