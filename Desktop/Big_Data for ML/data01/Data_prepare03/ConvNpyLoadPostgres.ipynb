{
 "cells": [
  {
   "cell_type": "code",
   "execution_count": 31,
   "id": "6fd65a56",
   "metadata": {},
   "outputs": [],
   "source": [
    "# ライブラリのインポート\n",
    "import numpy as np\n",
    "import pandas as pd\n",
    "import psycopg2\n",
    "import datetime"
   ]
  },
  {
   "cell_type": "code",
   "execution_count": 97,
   "id": "03ba6d6f",
   "metadata": {},
   "outputs": [],
   "source": [
    "npyname = \"kddi_12_new_average_marge\"\n",
    "datedir = \"230301\"\n",
    "sttime = \"2022-04-01 12:00:00\""
   ]
  },
  {
   "cell_type": "code",
   "execution_count": 98,
   "id": "708be170",
   "metadata": {},
   "outputs": [],
   "source": [
    "#解析結果の読み込み\n",
    "timeseries_sep = np.load(\"./\" +  datedir+'/'+ npyname + \"_01param.npy\")"
   ]
  },
  {
   "cell_type": "code",
   "execution_count": 99,
   "id": "71655e82",
   "metadata": {},
   "outputs": [
    {
     "data": {
      "text/plain": [
       "(24, 18930)"
      ]
     },
     "execution_count": 99,
     "metadata": {},
     "output_type": "execute_result"
    }
   ],
   "source": [
    "timeseries_sep.shape"
   ]
  },
  {
   "cell_type": "code",
   "execution_count": 100,
   "id": "894aae8f",
   "metadata": {},
   "outputs": [
    {
     "data": {
      "text/plain": [
       "array([[0.08185913, 0.0397979 , 0.20691438, ..., 0.10310875, 0.12635259,\n",
       "        0.        ],\n",
       "       [0.07853346, 0.03520688, 0.1911634 , ..., 0.10553632, 0.12657127,\n",
       "        0.        ],\n",
       "       [0.07863927, 0.03526049, 0.19116366, ..., 0.10551447, 0.12648949,\n",
       "        0.        ],\n",
       "       ...,\n",
       "       [0.07892344, 0.03541299, 0.19087353, ..., 0.10550342, 0.12641607,\n",
       "        0.        ],\n",
       "       [0.07892344, 0.03541299, 0.19087353, ..., 0.10550342, 0.12641607,\n",
       "        0.        ],\n",
       "       [0.07892344, 0.03541299, 0.19087353, ..., 0.10550342, 0.12641607,\n",
       "        0.12641607]])"
      ]
     },
     "execution_count": 100,
     "metadata": {},
     "output_type": "execute_result"
    }
   ],
   "source": [
    "timeseries_sep"
   ]
  },
  {
   "cell_type": "code",
   "execution_count": 101,
   "id": "7df1eed8",
   "metadata": {},
   "outputs": [],
   "source": [
    "#メッシュ情報の読み込み\n",
    "csv_file = r'./'+ datedir+'/'+ npyname+'_header.csv'\n",
    "df = pd.read_csv(csv_file, dtype={'date':str}, index_col=0, parse_dates=True)\n",
    "df_i = df.loc[\"mesh\"] #gridcode #end_mesh_area"
   ]
  },
  {
   "cell_type": "code",
   "execution_count": 102,
   "id": "9fb7053e",
   "metadata": {},
   "outputs": [
    {
     "data": {
      "text/plain": [
       "(18930,)"
      ]
     },
     "execution_count": 102,
     "metadata": {},
     "output_type": "execute_result"
    }
   ],
   "source": [
    "df_i.values.shape"
   ]
  },
  {
   "cell_type": "code",
   "execution_count": 103,
   "id": "8b07d805",
   "metadata": {},
   "outputs": [],
   "source": [
    "connection = psycopg2.connectconnection = psycopg2.connect(host=\"localhost\", database=\"analysisdb\", user=\"postgres\",password=\"setouchi1311\")"
   ]
  },
  {
   "cell_type": "code",
   "execution_count": 104,
   "id": "d664f021",
   "metadata": {},
   "outputs": [],
   "source": [
    "sql = \"CREATE TABLE \" + npyname + \"_result (times TIMESTAMP NULL DEFAULT NULL,mesh BIGINT NULL DEFAULT NULL,tbran DOUBLE PRECISION NULL DEFAULT NULL )\"\n",
    "cur =connection.cursor()\n",
    "cur.execute(sql)\n",
    "cur.close()\n",
    "connection.commit()"
   ]
  },
  {
   "cell_type": "code",
   "execution_count": 105,
   "id": "8a94f73c",
   "metadata": {},
   "outputs": [],
   "source": [
    "cur =connection.cursor()\n",
    "meshcnt = 0\n",
    "for mesh in df_i.values:\n",
    "    dte = datetime.datetime.strptime(sttime, '%Y-%m-%d %H:%M:%S')\n",
    "    for i in range(timeseries_sep.shape[0]):\n",
    "        #負数は対象としない\n",
    "        if timeseries_sep[i][meshcnt] < 0:\n",
    "            dte = dte + datetime.timedelta(minutes=15)\n",
    "            continue\n",
    "        sql = \"INSERT INTO \" + npyname + \"_result (times, mesh,tbran) VALUES ('\"+ str(dte) + \"',\"  + str(mesh) + \",\" + str(timeseries_sep[i][meshcnt]) + \");\"\n",
    "        cur.execute(sql)\n",
    "        dte = dte + datetime.timedelta(minutes=15)\n",
    "    meshcnt += 1\n",
    "cur.close()\n",
    "connection.commit()"
   ]
  },
  {
   "cell_type": "code",
   "execution_count": 106,
   "id": "2115817e",
   "metadata": {},
   "outputs": [],
   "source": [
    "connection.close()"
   ]
  },
  {
   "cell_type": "code",
   "execution_count": null,
   "id": "454a73ad",
   "metadata": {},
   "outputs": [],
   "source": [
    "#ConvertMeshtoRoad"
   ]
  }
 ],
 "metadata": {
  "kernelspec": {
   "display_name": "Python 3 (ipykernel)",
   "language": "python",
   "name": "python3"
  },
  "language_info": {
   "codemirror_mode": {
    "name": "ipython",
    "version": 3
   },
   "file_extension": ".py",
   "mimetype": "text/x-python",
   "name": "python",
   "nbconvert_exporter": "python",
   "pygments_lexer": "ipython3",
   "version": "3.9.15"
  }
 },
 "nbformat": 4,
 "nbformat_minor": 5
}
