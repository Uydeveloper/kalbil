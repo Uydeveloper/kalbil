{
 "cells": [
  {
   "cell_type": "code",
   "execution_count": 1,
   "id": "6fd65a56",
   "metadata": {},
   "outputs": [],
   "source": [
    "# ライブラリのインポート\n",
    "import numpy as np\n",
    "import pandas as pd\n",
    "import psycopg2\n",
    "import datetime\n",
    "import math"
   ]
  },
  {
   "cell_type": "code",
   "execution_count": 51,
   "id": "03ba6d6f",
   "metadata": {},
   "outputs": [],
   "source": [
    "npyname = \"kddi_06_new\"\n",
    "sttime = \"2022-04-01 12:00:00\"\n",
    "datedir = \"230316\""
   ]
  },
  {
   "cell_type": "code",
   "execution_count": 52,
   "id": "708be170",
   "metadata": {},
   "outputs": [],
   "source": [
    "#解析結果の読み込み\n",
    "timeseries_sep = np.load(\"./\" +datedir+'/'+ npyname + \"_03res_param.npy\")"
   ]
  },
  {
   "cell_type": "code",
   "execution_count": 53,
   "id": "71655e82",
   "metadata": {},
   "outputs": [
    {
     "data": {
      "text/plain": [
       "(30, 24, 16814)"
      ]
     },
     "execution_count": 53,
     "metadata": {},
     "output_type": "execute_result"
    }
   ],
   "source": [
    "timeseries_sep.shape"
   ]
  },
  {
   "cell_type": "code",
   "execution_count": 54,
   "id": "f9579820",
   "metadata": {},
   "outputs": [
    {
     "data": {
      "text/plain": [
       "30"
      ]
     },
     "execution_count": 54,
     "metadata": {},
     "output_type": "execute_result"
    }
   ],
   "source": [
    "timeseries_sep.shape[0]"
   ]
  },
  {
   "cell_type": "code",
   "execution_count": null,
   "id": "0bbb3fad",
   "metadata": {},
   "outputs": [],
   "source": [
    "timeseries_sep"
   ]
  },
  {
   "cell_type": "code",
   "execution_count": 56,
   "id": "7df1eed8",
   "metadata": {},
   "outputs": [],
   "source": [
    "#メッシュ情報の読み込み\n",
    "csv_file = r'./'+datedir+'/'+ npyname+'_header.csv'\n",
    "df = pd.read_csv(csv_file, dtype={'date':str}, index_col=0, parse_dates=True)\n",
    "df_i = df.loc[\"mesh\"] #gridcode #end_mesh_area"
   ]
  },
  {
   "cell_type": "code",
   "execution_count": 57,
   "id": "9fb7053e",
   "metadata": {},
   "outputs": [
    {
     "data": {
      "text/plain": [
       "(16814,)"
      ]
     },
     "execution_count": 57,
     "metadata": {},
     "output_type": "execute_result"
    }
   ],
   "source": [
    "df_i.values.shape"
   ]
  },
  {
   "cell_type": "code",
   "execution_count": 48,
   "id": "db34f998",
   "metadata": {},
   "outputs": [
    {
     "data": {
      "text/plain": [
       "16814"
      ]
     },
     "execution_count": 48,
     "metadata": {},
     "output_type": "execute_result"
    }
   ],
   "source": [
    "timeseries_sep[0][0].shape[0]"
   ]
  },
  {
   "cell_type": "code",
   "execution_count": 49,
   "id": "8a94f73c",
   "metadata": {},
   "outputs": [],
   "source": [
    "meshcnt = 0\n",
    "f = open(datedir+'/'+ npyname + '_importdata.csv', 'w')\n",
    "\n",
    "#send data loop\n",
    "for i in range(timeseries_sep.shape[0]):\n",
    "    dte = datetime.datetime.strptime(sttime, '%Y-%m-%d %H:%M:%S')\n",
    "    if i != 0:\n",
    "        dte = dte + datetime.timedelta(days=i)\n",
    "    #24term loop\n",
    "    meshcnt = 0   \n",
    "    j = 0\n",
    "    #mesh loop\n",
    "    for j in range(24):\n",
    "        for k in range(timeseries_sep[i][j].shape[0]):\n",
    "            #負数は対象としない\n",
    "            if timeseries_sep[i][j][k] < 0:\n",
    "                continue\n",
    "            f.write(str(dte) +  \",\" + str(int(df_i[k])) +  \",\" + str(timeseries_sep[i][j][k]) + '\\n')\n",
    "        dte = dte + datetime.timedelta(minutes=15)\n",
    "f.close()"
   ]
  },
  {
   "cell_type": "code",
   "execution_count": 78,
   "id": "454a73ad",
   "metadata": {},
   "outputs": [],
   "source": [
    "#ConvertMeshtoRoad\n",
    "#\n",
    "# \\c analysisdb\n",
    "#\\COPY kddi_18_param FROM 'C:\\\\Users\\\\BIGDATA_DEV\\\\Desktop\\\\実証実験事業\\\\Notebook\\\\230120\\\\kddi_18_importdata.csv' DELIMITER ',' CSV HEADER;"
   ]
  },
  {
   "cell_type": "code",
   "execution_count": null,
   "id": "d0580061",
   "metadata": {},
   "outputs": [],
   "source": []
  }
 ],
 "metadata": {
  "kernelspec": {
   "display_name": "Python 3 (ipykernel)",
   "language": "python",
   "name": "python3"
  },
  "language_info": {
   "codemirror_mode": {
    "name": "ipython",
    "version": 3
   },
   "file_extension": ".py",
   "mimetype": "text/x-python",
   "name": "python",
   "nbconvert_exporter": "python",
   "pygments_lexer": "ipython3",
   "version": "3.9.15"
  }
 },
 "nbformat": 4,
 "nbformat_minor": 5
}
