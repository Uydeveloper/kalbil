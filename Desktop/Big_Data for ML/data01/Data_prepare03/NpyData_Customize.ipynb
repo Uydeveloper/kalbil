{
 "cells": [
  {
   "cell_type": "code",
   "execution_count": null,
   "id": "6fd65a56",
   "metadata": {},
   "outputs": [],
   "source": [
    "# ライブラリのインポート\n",
    "import numpy as np\n",
    "import pandas as pd\n",
    "import psycopg2\n",
    "import datetime"
   ]
  },
  {
   "cell_type": "code",
   "execution_count": 62,
   "id": "03ba6d6f",
   "metadata": {},
   "outputs": [],
   "source": [
    "dbname = \"kddi_18_param\"\n",
    "npyname = \"trkn_18\"\n",
    "datedir = \"230120\"\n",
    "sttime = \"2022-04-01 18:00:00\""
   ]
  },
  {
   "cell_type": "code",
   "execution_count": 63,
   "id": "708be170",
   "metadata": {},
   "outputs": [],
   "source": [
    "#解析結果の読み込み\n",
    "timeseries_sep = np.load(\"./\" + datedir+'/'+ npyname + \".npy\")"
   ]
  },
  {
   "cell_type": "code",
   "execution_count": 64,
   "id": "71655e82",
   "metadata": {},
   "outputs": [
    {
     "data": {
      "text/plain": [
       "(24, 207)"
      ]
     },
     "execution_count": 64,
     "metadata": {},
     "output_type": "execute_result"
    }
   ],
   "source": [
    "timeseries_sep.shape"
   ]
  },
  {
   "cell_type": "code",
   "execution_count": 65,
   "id": "abab8fed",
   "metadata": {},
   "outputs": [
    {
     "data": {
      "text/plain": [
       "array([[ 88,  62,  95, ..., 109, 109,   1],\n",
       "       [ 77,  74,  90, ..., 116, 116,   0],\n",
       "       [ 64,  74,  86, ..., 106, 106,   0],\n",
       "       ...,\n",
       "       [ 13,   4,  24, ...,  26,  26,   0],\n",
       "       [ 21,  12,  12, ...,  28,  28,   0],\n",
       "       [ 16,   6,  11, ...,  23,  23,   0]], dtype=int64)"
      ]
     },
     "execution_count": 65,
     "metadata": {},
     "output_type": "execute_result"
    }
   ],
   "source": [
    "timeseries_sep"
   ]
  },
  {
   "cell_type": "code",
   "execution_count": 66,
   "id": "7df1eed8",
   "metadata": {},
   "outputs": [],
   "source": [
    "#メッシュ情報の読み込み\n",
    "csv_file = r'./'+datedir+'/'+ npyname+'_header.csv'\n",
    "df = pd.read_csv(csv_file, dtype={'date':str}, index_col=0, parse_dates=True)\n",
    "df_i = df.loc[\"gridcode\"] #gridcode #end_mesh_area"
   ]
  },
  {
   "cell_type": "code",
   "execution_count": 67,
   "id": "9fb7053e",
   "metadata": {},
   "outputs": [
    {
     "data": {
      "text/plain": [
       "(207,)"
      ]
     },
     "execution_count": 67,
     "metadata": {},
     "output_type": "execute_result"
    }
   ],
   "source": [
    "df_i.values.shape"
   ]
  },
  {
   "cell_type": "code",
   "execution_count": 82,
   "id": "55840049",
   "metadata": {},
   "outputs": [],
   "source": [
    "df_i = df_i.iloc[::-1]"
   ]
  },
  {
   "cell_type": "code",
   "execution_count": 83,
   "id": "c5945df0",
   "metadata": {},
   "outputs": [
    {
     "data": {
      "text/plain": [
       "traffic.206    5.132077e+10\n",
       "traffic.205    5.132076e+10\n",
       "traffic.204    5.132063e+10\n",
       "traffic.203    5.132063e+10\n",
       "traffic.202    5.032769e+10\n",
       "                   ...     \n",
       "traffic.4      5.032459e+10\n",
       "traffic.3      5.032454e+10\n",
       "traffic.2      5.032454e+10\n",
       "traffic.1      5.032453e+10\n",
       "traffic        5.032453e+10\n",
       "Name: gridcode, Length: 207, dtype: float64"
      ]
     },
     "execution_count": 83,
     "metadata": {},
     "output_type": "execute_result"
    }
   ],
   "source": [
    "df_i"
   ]
  },
  {
   "cell_type": "code",
   "execution_count": 68,
   "id": "8b07d805",
   "metadata": {},
   "outputs": [],
   "source": [
    "connection = psycopg2.connectconnection = psycopg2.connect(host=\"localhost\", database=\"analysisdb\", user=\"postgres\",password=\"setouchi1311\")"
   ]
  },
  {
   "cell_type": "code",
   "execution_count": null,
   "id": "8a94f73c",
   "metadata": {
    "scrolled": false
   },
   "outputs": [],
   "source": [
    "cur =connection.cursor()\n",
    "curs =connection.cursor()\n",
    "meshcnt = 0\n",
    "for mesh in df_i.values:\n",
    "    dte = datetime.datetime.strptime(sttime, '%Y-%m-%d %H:%M:%S')\n",
    "\n",
    "    sql = \"select times, tbran from \" + dbname + \" where mesh = \"+ str(mesh) + \" order by times, mesh;\"\n",
    "    print(str(mesh))\n",
    "    curs.execute(sql)\n",
    "    meshlists = curs.fetchall()\n",
    "    for i in range(timeseries_sep.shape[0]):\n",
    "        #負数は対象としない\n",
    "        if timeseries_sep[i][meshcnt] < 0:\n",
    "            dte = dte + datetime.timedelta(minutes=15)\n",
    "            print(\"minus continue:\")\n",
    "            continue\n",
    "        finds = 0\n",
    "        for doc in meshlists:\n",
    "            if doc[0] == dte:\n",
    "                finds = 1\n",
    "                if doc[1] != timeseries_sep[i][meshcnt]:\n",
    "                    print(str(doc[1]) + \":\" + str(timeseries_sep[i][meshcnt]))\n",
    "                    finds = 2\n",
    "        if finds == 1:\n",
    "            dte = dte + datetime.timedelta(minutes=15)\n",
    "            continue\n",
    "                    \n",
    "        if finds == 0:\n",
    "            sql = \"INSERT INTO \" + dbname + \" (times, mesh,tbran) VALUES ('\"+ str(dte) + \"',\"  + str(mesh) + \",\" + str(timeseries_sep[i][meshcnt]) + \");\"\n",
    "        else:\n",
    "            sql = \"UPDATE \" + dbname + \" set tbran = \"+ str(timeseries_sep[i][meshcnt]) + \" where times = '\"  + str(dte) + \"' and mesh = \" + str(mesh) + \";\"\n",
    "        #print(sql)\n",
    "        cur.execute(sql)\n",
    "        dte = dte + datetime.timedelta(minutes=15)\n",
    "    connection.commit()\n",
    "    meshcnt += 1\n",
    "cur.close()\n",
    "curs.close()\n",
    "connection.commit()"
   ]
  },
  {
   "cell_type": "code",
   "execution_count": 88,
   "id": "2115817e",
   "metadata": {},
   "outputs": [],
   "source": [
    "connection.close()"
   ]
  },
  {
   "cell_type": "code",
   "execution_count": null,
   "id": "454a73ad",
   "metadata": {},
   "outputs": [],
   "source": [
    "#ConvertMeshtoRoad"
   ]
  }
 ],
 "metadata": {
  "kernelspec": {
   "display_name": "Python 3 (ipykernel)",
   "language": "python",
   "name": "python3"
  },
  "language_info": {
   "codemirror_mode": {
    "name": "ipython",
    "version": 3
   },
   "file_extension": ".py",
   "mimetype": "text/x-python",
   "name": "python",
   "nbconvert_exporter": "python",
   "pygments_lexer": "ipython3",
   "version": "3.9.15"
  }
 },
 "nbformat": 4,
 "nbformat_minor": 5
}
