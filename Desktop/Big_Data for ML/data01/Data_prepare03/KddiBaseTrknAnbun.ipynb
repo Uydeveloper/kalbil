{
 "cells": [
  {
   "cell_type": "code",
   "execution_count": null,
   "id": "2896714f",
   "metadata": {},
   "outputs": [],
   "source": [
    "#2点間のトラカン案分を行う。テストのため、案分対象は緯度経度で絞っている\n",
    "#トラカンの位置にKDDIODデータが存在しないなら案分の対象としない。"
   ]
  },
  {
   "cell_type": "code",
   "execution_count": 1,
   "id": "72c3dd0f",
   "metadata": {},
   "outputs": [],
   "source": [
    "import numpy as np\n",
    "import psycopg2\n",
    "import datetime\n",
    "import pandas as pd"
   ]
  },
  {
   "cell_type": "code",
   "execution_count": 2,
   "id": "6586da88",
   "metadata": {},
   "outputs": [],
   "source": [
    "connection = psycopg2.connectconnection = psycopg2.connect(host=\"localhost\", database=\"analysisdb\", user=\"postgres\",password=\"setouchi1311\")"
   ]
  },
  {
   "cell_type": "code",
   "execution_count": 3,
   "id": "d8de06dc",
   "metadata": {},
   "outputs": [],
   "source": [
    "dbname = \"kddi_12_new\"\n",
    "stdir = \"230313\""
   ]
  },
  {
   "cell_type": "code",
   "execution_count": 11,
   "id": "72468601",
   "metadata": {},
   "outputs": [
    {
     "name": "stdout",
     "output_type": "stream",
     "text": [
      "1000\n"
     ]
    }
   ],
   "source": [
    "find = 0\n",
    "\n",
    "#KDDI生データを読み込む\n",
    "f = open(stdir+'/'+ dbname + 'dummy.csv', 'w')\n",
    "f.write(\"times,mesh,tbran\\n\")\n",
    "\n",
    "cur =connection.cursor()\n",
    "sql = \"SELECT kddi.times, kddi.mesh, kddi.tbran, pt.latitude, pt.longitude, pt.geom FROM \"+dbname+\" AS kddi \"\n",
    "sql += \"INNER JOIN pointdata AS pt on kddi.mesh = cast(pt.grid_code AS BIGINT) \"\n",
    "sql += \"WHERE pt.latitude < 33.822785 AND pt.longitude > 132.755106 AND pt.latitude > 33.790157 AND pt.longitude < 132.789578 \"\n",
    "sql += \"ORDER BY kddi.times, kddi.mesh \"\n",
    "cur.execute(sql)\n",
    "for row in cur:\n",
    "    #print(row)\n",
    "    latlngStr = str(row[4]) + \" \" + str(row[3])\n",
    "    latlng = str(row[4]) + \",\" + str(row[3])\n",
    "    andlatlng = \" where pt.latitude > \"+ str(float(row[3])-0.2) +\" AND pt.latitude < \"+ str(float(row[3])+0.2)\n",
    "    andlatlng += \" AND pt.longitude > \"+ str(float(row[4])-0.2) +\" AND pt.longitude < \"+ str(float(row[4])+0.2) + \" \"\n",
    "    #一番近いKDDI測定値の2点を導き出す\n",
    "    #ただし、同じ拠点データは加算すること\n",
    "    cur2 =connection.cursor()\n",
    "    sql = \"SELECT \"\n",
    "    sql += \"trkn.gridcode, (ST_Distance('SRID=4612;POINT(\"+latlngStr+\")'::GEOGRAPHY, pt.geom) / 125) AS st, \"\n",
    "    sql += \"trkn.断面交通量 AS danmen, kddi.tbran, pt.latitude, pt.longitude \"\n",
    "    sql += \"FROM trakan2204_z3out_15min AS trkn \"\n",
    "    sql += \"INNER JOIN \"+dbname+\" AS kddi ON  trkn.gridcode = kddi.mesh AND  kddi.times = trkn.時刻 \"\n",
    "    sql += \"INNER JOIN pointdata AS pt ON cast(pt.grid_code AS BIGINT) = trkn.gridcode \"\n",
    "    sql += \"WHERE trkn.時刻 = '\"+str(row[0])+\"'\"\n",
    "    sql += \"ORDER BY trkn.place <-> point(\"+latlng+\")\"\n",
    "    sql += \"LIMIT 10 \"\n",
    "    #print(sql)\n",
    "    cur2.execute(sql)\n",
    "    kddiDf = pd.DataFrame.from_records(cur2.fetchall(), columns=[\"gridcode\",\"st\",\"danmen\",\"tbran\",\"latitude\",\"longitude\"])\n",
    "    #print(kddiDf)\n",
    "    cur2.close()\n",
    "    \n",
    "    if len(kddiDf) < 2:\n",
    "        print(\"check error \" + str(len(kddiDf)) + \" finds!!\")\n",
    "        continue\n",
    "    \n",
    "    mode = 0\n",
    "    for i in range(len(kddiDf)):\n",
    "        wktrkn = kddiDf.iloc[i]\n",
    "        wklatlng = str(wktrkn[\"longitude\"]) + \" \" + str(wktrkn[\"latitude\"])\n",
    "        if i == 0:\n",
    "            chktrknA = wktrkn\n",
    "            latlngA = str(wktrkn[\"longitude\"]) + \" \" + str(wktrkn[\"latitude\"])\n",
    "            tbranA =  wktrkn[\"tbran\"]\n",
    "        if mode == 0:\n",
    "            if latlngA == wklatlng:\n",
    "                tbranA = tbranA + wktrkn[\"tbran\"]\n",
    "            else:\n",
    "                mode = 1\n",
    "                chktrknB = wktrkn\n",
    "                tbranB =  wktrkn[\"tbran\"]\n",
    "                latlngB = str(wktrkn[\"longitude\"]) + \" \" + str(wktrkn[\"latitude\"])\n",
    "        elif latlngB == wklatlng:\n",
    "            tbranB = tbranB + wktrkn[\"tbran\"]\n",
    "        else:\n",
    "            break\n",
    "\n",
    "    #一番近いKDDI測定値の2点を導き出す\n",
    "    cur3 =connection.cursor()\n",
    "    sql = \"SELECT \"\n",
    "    sql += \"(ST_Distance('SRID=4612;POINT(\"+latlngA+\")'::GEOGRAPHY, 'SRID=4612;POINT(\"+latlngB+\")'::GEOGRAPHY) / 125) AS st  \"\n",
    "    sql += \"FROM kddi_00_new AS kddi \"\n",
    "    cur3.execute(sql)\n",
    "    chkAB = 0\n",
    "\n",
    "    for row3 in cur3:\n",
    "        chkAB = row3[0]\n",
    "    cur3.close()\n",
    "\n",
    "    if chkAB == 0:\n",
    "        print(latlngA + \"*\" + latlngB + \"check A-B is zero!!\")\n",
    "        continue\n",
    "\n",
    "    #片方によっている\n",
    "    #print(str(chkAB))\n",
    "    if chkAB <  chktrknA[\"st\"]:\n",
    "        #Aのみで案分\n",
    "        chg = chktrknA[\"danmen\"] * (row[2] / tbranA)\n",
    "    elif chkAB <  chktrknB[\"st\"]:\n",
    "        #Bのみで案分\n",
    "        chg = chktrknB[\"danmen\"] * (row[2] / tbranB) \n",
    "    else:\n",
    "        if chktrknA[\"danmen\"] > chktrknB[\"danmen\"]:\n",
    "            wk = chktrknA\n",
    "            chktrknA = chktrknB\n",
    "            chktrknB = wk\n",
    "        x = (chktrknB[\"danmen\"] - chktrknA[\"danmen\"]) / (chktrknA[\"st\"] + chktrknB[\"st\"])\n",
    "        chg = (chktrknA[\"danmen\"] + (x * chktrknA[\"st\"])) *  (row[2] / tbranA) \n",
    "        if chg > 2000:\n",
    "            print(\"(\"+str(chktrknA[\"danmen\"]) + \"+(\" + str(x) + \"*\" + str(chktrknA[\"st\"]) + \"))*\" + str(row[2]) + \"/\" + str(chktrknA[\"tbran\"]))\n",
    "            print(str(chg))\n",
    "    f.write(str(row[0]) + \",\" + str(row[1]) + \",\" + str(chg) + \"\\n\")\n",
    "    #print(str(row[0]) + \",\" + str(row[1]) + \",\" + str(chg))\n",
    "    find = find + 1\n",
    "\n",
    "    if find % 1000 == 0:\n",
    "        print(str(find))\n",
    "        break\n",
    "f.close()   \n",
    "cur.close()\n",
    "    \n",
    "    "
   ]
  },
  {
   "cell_type": "code",
   "execution_count": 12,
   "id": "9af830bf",
   "metadata": {},
   "outputs": [],
   "source": [
    "connection.close()"
   ]
  },
  {
   "cell_type": "code",
   "execution_count": null,
   "id": "049a725f",
   "metadata": {},
   "outputs": [],
   "source": [
    "#CreateGeojsonFile"
   ]
  }
 ],
 "metadata": {
  "kernelspec": {
   "display_name": "Python 3 (ipykernel)",
   "language": "python",
   "name": "python3"
  },
  "language_info": {
   "codemirror_mode": {
    "name": "ipython",
    "version": 3
   },
   "file_extension": ".py",
   "mimetype": "text/x-python",
   "name": "python",
   "nbconvert_exporter": "python",
   "pygments_lexer": "ipython3",
   "version": "3.9.15"
  }
 },
 "nbformat": 4,
 "nbformat_minor": 5
}
