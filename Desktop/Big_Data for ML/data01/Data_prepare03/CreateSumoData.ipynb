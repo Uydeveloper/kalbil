{
 "cells": [
  {
   "cell_type": "code",
   "execution_count": null,
   "id": "915486c5",
   "metadata": {},
   "outputs": [],
   "source": [
    "import csv\n",
    "import collections\n",
    "import datetime"
   ]
  },
  {
   "cell_type": "code",
   "execution_count": null,
   "id": "ea938951",
   "metadata": {},
   "outputs": [],
   "source": [
    "basedatetime = datetime.datetime.strptime('2022-09-01 00:00:00', '%Y-%m-%d %H:%M:%S')\n",
    "\n",
    "readfname = 'targetroot_list.csv'\n",
    "datafname = 'danmen_202209.csv'\n",
    "writefname = 'ehime_tonnel.flows.xml'\n",
    "lstpt = []"
   ]
  },
  {
   "cell_type": "code",
   "execution_count": null,
   "id": "8637954f",
   "metadata": {},
   "outputs": [],
   "source": [
    "with open(writefname, mode='w') as fwrite:\n",
    "    fwrite.write('<flowdefs>\\n')\n",
    "    with open(readfname, encoding='utf8', newline='') as f:\n",
    "        csvreader = csv.reader(f, delimiter=',')\n",
    "        with open(datafname, encoding='sjis', newline='') as dataf:\n",
    "            csvreader2 = csv.reader(dataf, delimiter=',')\n",
    "\n",
    "            lpdtcnt = 0\n",
    "            stcnt = 0\n",
    "            for row2 in csvreader2:\n",
    "                lpdtcnt += 1\n",
    "                if lpdtcnt == 1:\n",
    "                    continue\n",
    "                if int(row2[7]) == 0:\n",
    "                    continue\n",
    "\n",
    "                sttime = datetime.datetime.strptime(str(row2[0]), '%Y/%m/%d %H:%M')\n",
    "                dt_delta = sttime - basedatetime\n",
    "                begin = dt_delta.days * 1440 + dt_delta.seconds / 60\n",
    "\n",
    "                f.seek(0)\n",
    "                lpcnt = 0\n",
    "                for row in csvreader:\n",
    "                    lpcnt += 1\n",
    "                    if lpcnt == 1:\n",
    "                        continue\n",
    "                    if int(row[0]) == 0:\n",
    "                        continue\n",
    "                    if str(row[1]) == str(row2[2]):\n",
    "                        end = begin + 4\n",
    "                        stcnt += 1\n",
    "                        fwrite.write('    <flow id=\"flow')\n",
    "                        fwrite.write(str(stcnt))\n",
    "                        fwrite.write('\" from=\"')\n",
    "                        fwrite.write(str(row[3]))\n",
    "                        fwrite.write('\" to=\"')\n",
    "                        fwrite.write(str(row[4]))\n",
    "                        fwrite.write('\" begin=\"')\n",
    "                        fwrite.write(str(begin))\n",
    "                        fwrite.write('\" end=\"')\n",
    "                        fwrite.write(str(end))\n",
    "                        fwrite.write('\" number=\"')\n",
    "                        fwrite.write(str(row2[7]))\n",
    "                        fwrite.write('\" />\\n')\n",
    "                        break\n",
    "    fwrite.write('</flowdefs>\\n')\n"
   ]
  }
 ],
 "metadata": {
  "kernelspec": {
   "display_name": "Python 3 (ipykernel)",
   "language": "python",
   "name": "python3"
  },
  "language_info": {
   "codemirror_mode": {
    "name": "ipython",
    "version": 3
   },
   "file_extension": ".py",
   "mimetype": "text/x-python",
   "name": "python",
   "nbconvert_exporter": "python",
   "pygments_lexer": "ipython3",
   "version": "3.9.15"
  }
 },
 "nbformat": 4,
 "nbformat_minor": 5
}
