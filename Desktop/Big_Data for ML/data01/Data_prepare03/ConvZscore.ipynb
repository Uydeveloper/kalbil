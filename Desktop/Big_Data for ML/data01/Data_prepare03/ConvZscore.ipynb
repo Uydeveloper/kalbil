{
 "cells": [
  {
   "cell_type": "code",
   "execution_count": 31,
   "id": "d1757be5",
   "metadata": {},
   "outputs": [],
   "source": [
    "import psycopg2\n",
    "import pandas as pd\n",
    "import scipy.stats as stats\n",
    "import warnings"
   ]
  },
  {
   "cell_type": "code",
   "execution_count": 18,
   "id": "5840d74e",
   "metadata": {},
   "outputs": [],
   "source": [
    "connection = psycopg2.connectconnection = psycopg2.connect(host=\"localhost\", database=\"analysisdb\", user=\"postgres\",password=\"setouchi1311\")"
   ]
  },
  {
   "cell_type": "code",
   "execution_count": 19,
   "id": "cb1b773c",
   "metadata": {},
   "outputs": [
    {
     "name": "stderr",
     "output_type": "stream",
     "text": [
      "C:\\Users\\BIGDATA_DEV\\AppData\\Local\\Temp\\ipykernel_8448\\1600466108.py:1: UserWarning: pandas only supports SQLAlchemy connectable (engine/connection) or database string URI or sqlite3 DBAPI2 connection. Other DBAPI2 objects are not tested. Please consider using SQLAlchemy.\n",
      "  df = pd.read_sql(\"SELECT gridcode FROM trakan2204 INNER JOIN trakanmap ON trakan2204.計測地点番号 = trakanmap.地点番号 WHERE trakanmap.gridcode != '0' GROUP BY gridcode\", con=connection )\n"
     ]
    }
   ],
   "source": [
    "df = pd.read_sql(\"SELECT gridcode FROM trakan2204 INNER JOIN trakanmap ON trakan2204.計測地点番号 = trakanmap.地点番号 WHERE trakanmap.gridcode != '0' GROUP BY gridcode\", con=connection )"
   ]
  },
  {
   "cell_type": "code",
   "execution_count": 20,
   "id": "9cce8fb3",
   "metadata": {},
   "outputs": [
    {
     "data": {
      "text/plain": [
       "gridcode    207\n",
       "dtype: int64"
      ]
     },
     "execution_count": 20,
     "metadata": {},
     "output_type": "execute_result"
    }
   ],
   "source": [
    "df.count()"
   ]
  },
  {
   "cell_type": "code",
   "execution_count": 38,
   "id": "459e611b",
   "metadata": {},
   "outputs": [
    {
     "name": "stdout",
     "output_type": "stream",
     "text": [
      "4590除外\n"
     ]
    }
   ],
   "source": [
    "nCt = 0\n",
    "warnings.simplefilter('ignore')\n",
    "for row in df.values:\n",
    "    df2 = pd.read_sql(\"select 時刻,trakanmap.gridcode,断面交通量,case when stddev(t.断面交通量) over() = 0  then 0 else (t.断面交通量 - avg(t.断面交通量) over()) / stddev(t.断面交通量) over() end as zscore from trakan2204 AS t INNER JOIN trakanmap ON t.計測地点番号 = trakanmap.地点番号 where trakanmap.gridcode = '\"+str(row[0])+\"' ORDER BY 断面交通量 desc\", con=connection )\n",
    "    df3over = df2[df2['zscore'] >= 3].count()\n",
    "    if nCt == 0:\n",
    "        df3=df2[df2['zscore'] < 3]\n",
    "    else:\n",
    "        df3=df3.append(df2[df2['zscore'] < 3], ignore_index=True)\n",
    "    nCt = nCt + df3over.gridcode\n",
    "print(str(nCt) + \"除外\")\n"
   ]
  },
  {
   "cell_type": "code",
   "execution_count": 39,
   "id": "6a8a205e",
   "metadata": {},
   "outputs": [
    {
     "data": {
      "text/html": [
       "<div>\n",
       "<style scoped>\n",
       "    .dataframe tbody tr th:only-of-type {\n",
       "        vertical-align: middle;\n",
       "    }\n",
       "\n",
       "    .dataframe tbody tr th {\n",
       "        vertical-align: top;\n",
       "    }\n",
       "\n",
       "    .dataframe thead th {\n",
       "        text-align: right;\n",
       "    }\n",
       "</style>\n",
       "<table border=\"1\" class=\"dataframe\">\n",
       "  <thead>\n",
       "    <tr style=\"text-align: right;\">\n",
       "      <th></th>\n",
       "      <th>時刻</th>\n",
       "      <th>gridcode</th>\n",
       "      <th>断面交通量</th>\n",
       "      <th>zscore</th>\n",
       "    </tr>\n",
       "  </thead>\n",
       "  <tbody>\n",
       "    <tr>\n",
       "      <th>0</th>\n",
       "      <td>2022-04-08 07:20:00</td>\n",
       "      <td>50324526133</td>\n",
       "      <td>57</td>\n",
       "      <td>2.97371</td>\n",
       "    </tr>\n",
       "    <tr>\n",
       "      <th>1</th>\n",
       "      <td>2022-04-01 07:40:00</td>\n",
       "      <td>50324526133</td>\n",
       "      <td>57</td>\n",
       "      <td>2.97371</td>\n",
       "    </tr>\n",
       "    <tr>\n",
       "      <th>2</th>\n",
       "      <td>2022-04-30 11:25:00</td>\n",
       "      <td>50324526133</td>\n",
       "      <td>57</td>\n",
       "      <td>2.97371</td>\n",
       "    </tr>\n",
       "    <tr>\n",
       "      <th>3</th>\n",
       "      <td>2022-04-10 08:40:00</td>\n",
       "      <td>50324526133</td>\n",
       "      <td>57</td>\n",
       "      <td>2.97371</td>\n",
       "    </tr>\n",
       "    <tr>\n",
       "      <th>4</th>\n",
       "      <td>2022-04-14 11:25:00</td>\n",
       "      <td>50324526133</td>\n",
       "      <td>57</td>\n",
       "      <td>2.97371</td>\n",
       "    </tr>\n",
       "  </tbody>\n",
       "</table>\n",
       "</div>"
      ],
      "text/plain": [
       "                   時刻     gridcode  断面交通量   zscore\n",
       "0 2022-04-08 07:20:00  50324526133     57  2.97371\n",
       "1 2022-04-01 07:40:00  50324526133     57  2.97371\n",
       "2 2022-04-30 11:25:00  50324526133     57  2.97371\n",
       "3 2022-04-10 08:40:00  50324526133     57  2.97371\n",
       "4 2022-04-14 11:25:00  50324526133     57  2.97371"
      ]
     },
     "execution_count": 39,
     "metadata": {},
     "output_type": "execute_result"
    }
   ],
   "source": [
    "df3.head()"
   ]
  },
  {
   "cell_type": "code",
   "execution_count": 43,
   "id": "ad861ed3",
   "metadata": {},
   "outputs": [],
   "source": [
    "df = df3.sort_values(['時刻', 'gridcode']).drop('zscore', axis=1)"
   ]
  },
  {
   "cell_type": "code",
   "execution_count": 44,
   "id": "e53d54f7",
   "metadata": {},
   "outputs": [],
   "source": [
    "connection.close()"
   ]
  },
  {
   "cell_type": "code",
   "execution_count": 45,
   "id": "308bba5f",
   "metadata": {
    "scrolled": true
   },
   "outputs": [
    {
     "data": {
      "text/html": [
       "<div>\n",
       "<style scoped>\n",
       "    .dataframe tbody tr th:only-of-type {\n",
       "        vertical-align: middle;\n",
       "    }\n",
       "\n",
       "    .dataframe tbody tr th {\n",
       "        vertical-align: top;\n",
       "    }\n",
       "\n",
       "    .dataframe thead th {\n",
       "        text-align: right;\n",
       "    }\n",
       "</style>\n",
       "<table border=\"1\" class=\"dataframe\">\n",
       "  <thead>\n",
       "    <tr style=\"text-align: right;\">\n",
       "      <th></th>\n",
       "      <th>時刻</th>\n",
       "      <th>gridcode</th>\n",
       "      <th>断面交通量</th>\n",
       "    </tr>\n",
       "  </thead>\n",
       "  <tbody>\n",
       "    <tr>\n",
       "      <th>8278</th>\n",
       "      <td>2022-04-01</td>\n",
       "      <td>50324526133</td>\n",
       "      <td>1</td>\n",
       "    </tr>\n",
       "    <tr>\n",
       "      <th>16248</th>\n",
       "      <td>2022-04-01</td>\n",
       "      <td>50324526341</td>\n",
       "      <td>1</td>\n",
       "    </tr>\n",
       "    <tr>\n",
       "      <th>24033</th>\n",
       "      <td>2022-04-01</td>\n",
       "      <td>50324542441</td>\n",
       "      <td>4</td>\n",
       "    </tr>\n",
       "    <tr>\n",
       "      <th>33187</th>\n",
       "      <td>2022-04-01</td>\n",
       "      <td>50324542442</td>\n",
       "      <td>2</td>\n",
       "    </tr>\n",
       "    <tr>\n",
       "      <th>43560</th>\n",
       "      <td>2022-04-01</td>\n",
       "      <td>50324585213</td>\n",
       "      <td>1</td>\n",
       "    </tr>\n",
       "  </tbody>\n",
       "</table>\n",
       "</div>"
      ],
      "text/plain": [
       "              時刻     gridcode  断面交通量\n",
       "8278  2022-04-01  50324526133      1\n",
       "16248 2022-04-01  50324526341      1\n",
       "24033 2022-04-01  50324542441      4\n",
       "33187 2022-04-01  50324542442      2\n",
       "43560 2022-04-01  50324585213      1"
      ]
     },
     "execution_count": 45,
     "metadata": {},
     "output_type": "execute_result"
    }
   ],
   "source": [
    "df.head()"
   ]
  },
  {
   "cell_type": "code",
   "execution_count": 46,
   "id": "73bf7c10",
   "metadata": {},
   "outputs": [],
   "source": [
    "df.to_csv(\"trakan2204_z3item.csv\", index = False)"
   ]
  },
  {
   "cell_type": "code",
   "execution_count": null,
   "id": "bc277c64",
   "metadata": {},
   "outputs": [],
   "source": [
    "#SELECT * FROM trakan2209_z3out WHERE  extract(hour FROM 時刻) = 9 ORDER BY 時刻,gridcode"
   ]
  },
  {
   "cell_type": "code",
   "execution_count": 15,
   "id": "3fdcd71d",
   "metadata": {},
   "outputs": [
    {
     "name": "stderr",
     "output_type": "stream",
     "text": [
      "C:\\Users\\BIGDATA_DEV\\AppData\\Local\\Temp\\ipykernel_8216\\2294289007.py:1: UserWarning: pandas only supports SQLAlchemy connectable (engine/connection) or database string URI or sqlite3 DBAPI2 connection. Other DBAPI2 objects are not tested. Please consider using SQLAlchemy.\n",
      "  df = pd.read_sql(\"SELECT yyyymmdd,start_mesh_area,start_time,end_mesh_area,end_time, cast(REGEXP_REPLACE(population,'[^.0-9]+','', 'g') AS FLOAT) as population   FROM kddi_location where odroutetype = 'K' and trim(translate(population, '.0123456789', ' ')) is not null AND population != ''\", con=connection )\n"
     ]
    }
   ],
   "source": [
    "df = pd.read_sql(\"SELECT yyyymmdd,start_mesh_area,start_time,end_mesh_area,end_time, cast(REGEXP_REPLACE(population,'[^.0-9]+','', 'g') AS FLOAT) as population   FROM kddi_location where odroutetype = 'K' and trim(translate(population, '.0123456789', ' ')) is not null AND population != ''\", con=connection )"
   ]
  },
  {
   "cell_type": "code",
   "execution_count": 16,
   "id": "dac56cfe",
   "metadata": {},
   "outputs": [
    {
     "data": {
      "text/plain": [
       "yyyymmdd           228386\n",
       "start_mesh_area    228386\n",
       "start_time         228386\n",
       "end_mesh_area      228386\n",
       "end_time           228386\n",
       "population         228386\n",
       "dtype: int64"
      ]
     },
     "execution_count": 16,
     "metadata": {},
     "output_type": "execute_result"
    }
   ],
   "source": [
    "df.count()"
   ]
  },
  {
   "cell_type": "code",
   "execution_count": 17,
   "id": "c6a06391",
   "metadata": {},
   "outputs": [],
   "source": [
    "df['zscore'] = stats.zscore(df['population'])"
   ]
  },
  {
   "cell_type": "code",
   "execution_count": 18,
   "id": "81ac10d4",
   "metadata": {},
   "outputs": [
    {
     "data": {
      "text/html": [
       "<div>\n",
       "<style scoped>\n",
       "    .dataframe tbody tr th:only-of-type {\n",
       "        vertical-align: middle;\n",
       "    }\n",
       "\n",
       "    .dataframe tbody tr th {\n",
       "        vertical-align: top;\n",
       "    }\n",
       "\n",
       "    .dataframe thead th {\n",
       "        text-align: right;\n",
       "    }\n",
       "</style>\n",
       "<table border=\"1\" class=\"dataframe\">\n",
       "  <thead>\n",
       "    <tr style=\"text-align: right;\">\n",
       "      <th></th>\n",
       "      <th>yyyymmdd</th>\n",
       "      <th>start_mesh_area</th>\n",
       "      <th>start_time</th>\n",
       "      <th>end_mesh_area</th>\n",
       "      <th>end_time</th>\n",
       "      <th>population</th>\n",
       "      <th>zscore</th>\n",
       "    </tr>\n",
       "  </thead>\n",
       "  <tbody>\n",
       "    <tr>\n",
       "      <th>0</th>\n",
       "      <td>20211001</td>\n",
       "      <td>50323475431</td>\n",
       "      <td>11:30:00</td>\n",
       "      <td>50325641432</td>\n",
       "      <td>13:30:00</td>\n",
       "      <td>30.82</td>\n",
       "      <td>-0.729910</td>\n",
       "    </tr>\n",
       "    <tr>\n",
       "      <th>1</th>\n",
       "      <td>20211001</td>\n",
       "      <td>50323475443</td>\n",
       "      <td>11:30:00</td>\n",
       "      <td>50323486123</td>\n",
       "      <td>12:00:00</td>\n",
       "      <td>74.89</td>\n",
       "      <td>1.268918</td>\n",
       "    </tr>\n",
       "    <tr>\n",
       "      <th>2</th>\n",
       "      <td>20211001</td>\n",
       "      <td>50323475443</td>\n",
       "      <td>14:30:00</td>\n",
       "      <td>50325526414</td>\n",
       "      <td>15:00:00</td>\n",
       "      <td>50.13</td>\n",
       "      <td>0.145910</td>\n",
       "    </tr>\n",
       "    <tr>\n",
       "      <th>3</th>\n",
       "      <td>20211001</td>\n",
       "      <td>50323486141</td>\n",
       "      <td>13:00:00</td>\n",
       "      <td>50324510341</td>\n",
       "      <td>13:30:00</td>\n",
       "      <td>34.60</td>\n",
       "      <td>-0.558465</td>\n",
       "    </tr>\n",
       "    <tr>\n",
       "      <th>4</th>\n",
       "      <td>20211001</td>\n",
       "      <td>50323566232</td>\n",
       "      <td>11:00:00</td>\n",
       "      <td>50323563232</td>\n",
       "      <td>11:30:00</td>\n",
       "      <td>55.94</td>\n",
       "      <td>0.409427</td>\n",
       "    </tr>\n",
       "  </tbody>\n",
       "</table>\n",
       "</div>"
      ],
      "text/plain": [
       "   yyyymmdd  start_mesh_area start_time  end_mesh_area  end_time  population  \\\n",
       "0  20211001      50323475431   11:30:00    50325641432  13:30:00       30.82   \n",
       "1  20211001      50323475443   11:30:00    50323486123  12:00:00       74.89   \n",
       "2  20211001      50323475443   14:30:00    50325526414  15:00:00       50.13   \n",
       "3  20211001      50323486141   13:00:00    50324510341  13:30:00       34.60   \n",
       "4  20211001      50323566232   11:00:00    50323563232  11:30:00       55.94   \n",
       "\n",
       "     zscore  \n",
       "0 -0.729910  \n",
       "1  1.268918  \n",
       "2  0.145910  \n",
       "3 -0.558465  \n",
       "4  0.409427  "
      ]
     },
     "execution_count": 18,
     "metadata": {},
     "output_type": "execute_result"
    }
   ],
   "source": [
    "df.head()"
   ]
  },
  {
   "cell_type": "code",
   "execution_count": 19,
   "id": "2985259d",
   "metadata": {},
   "outputs": [
    {
     "data": {
      "text/plain": [
       "yyyymmdd           4161\n",
       "start_mesh_area    4161\n",
       "start_time         4161\n",
       "end_mesh_area      4161\n",
       "end_time           4161\n",
       "population         4161\n",
       "zscore             4161\n",
       "dtype: int64"
      ]
     },
     "execution_count": 19,
     "metadata": {},
     "output_type": "execute_result"
    }
   ],
   "source": [
    "df[df['zscore'] >= 3].count()"
   ]
  },
  {
   "cell_type": "code",
   "execution_count": 20,
   "id": "99e8eb73",
   "metadata": {},
   "outputs": [],
   "source": [
    "outdf = df[df['zscore'] < 3].drop('zscore', axis=1)\n",
    "outdf.to_csv(\"kddi_location_out_K.csv\", index = False)"
   ]
  },
  {
   "cell_type": "code",
   "execution_count": 85,
   "id": "b02d0ab3",
   "metadata": {},
   "outputs": [
    {
     "data": {
      "text/html": [
       "<div>\n",
       "<style scoped>\n",
       "    .dataframe tbody tr th:only-of-type {\n",
       "        vertical-align: middle;\n",
       "    }\n",
       "\n",
       "    .dataframe tbody tr th {\n",
       "        vertical-align: top;\n",
       "    }\n",
       "\n",
       "    .dataframe thead th {\n",
       "        text-align: right;\n",
       "    }\n",
       "</style>\n",
       "<table border=\"1\" class=\"dataframe\">\n",
       "  <thead>\n",
       "    <tr style=\"text-align: right;\">\n",
       "      <th></th>\n",
       "      <th>yyyymmdd</th>\n",
       "      <th>start_mesh_area</th>\n",
       "      <th>start_time</th>\n",
       "      <th>end_mesh_area</th>\n",
       "      <th>end_time</th>\n",
       "      <th>population</th>\n",
       "    </tr>\n",
       "  </thead>\n",
       "  <tbody>\n",
       "    <tr>\n",
       "      <th>19</th>\n",
       "      <td>20211001</td>\n",
       "      <td>50325546322</td>\n",
       "      <td>11:45:00</td>\n",
       "      <td>50325546433</td>\n",
       "      <td>12:30:00</td>\n",
       "      <td>17542</td>\n",
       "    </tr>\n",
       "    <tr>\n",
       "      <th>22</th>\n",
       "      <td>20211001</td>\n",
       "      <td>50325546323</td>\n",
       "      <td>08:30:00</td>\n",
       "      <td>50326620132</td>\n",
       "      <td>09:15:00</td>\n",
       "      <td>23491</td>\n",
       "    </tr>\n",
       "    <tr>\n",
       "      <th>67</th>\n",
       "      <td>20211001</td>\n",
       "      <td>50325546411</td>\n",
       "      <td>16:00:00</td>\n",
       "      <td>50326579211</td>\n",
       "      <td>17:45:00</td>\n",
       "      <td>17542</td>\n",
       "    </tr>\n",
       "    <tr>\n",
       "      <th>100</th>\n",
       "      <td>20211001</td>\n",
       "      <td>50325546433</td>\n",
       "      <td>13:15:00</td>\n",
       "      <td>50325546411</td>\n",
       "      <td>13:45:00</td>\n",
       "      <td>17542</td>\n",
       "    </tr>\n",
       "    <tr>\n",
       "      <th>169</th>\n",
       "      <td>20211001</td>\n",
       "      <td>50325547312</td>\n",
       "      <td>20:45:00</td>\n",
       "      <td>50325516142</td>\n",
       "      <td>21:30:00</td>\n",
       "      <td>18545</td>\n",
       "    </tr>\n",
       "    <tr>\n",
       "      <th>...</th>\n",
       "      <td>...</td>\n",
       "      <td>...</td>\n",
       "      <td>...</td>\n",
       "      <td>...</td>\n",
       "      <td>...</td>\n",
       "      <td>...</td>\n",
       "    </tr>\n",
       "    <tr>\n",
       "      <th>1434990</th>\n",
       "      <td>20211006</td>\n",
       "      <td>50325681412</td>\n",
       "      <td>15:45:00</td>\n",
       "      <td>50324693322</td>\n",
       "      <td>17:00:00</td>\n",
       "      <td>23633</td>\n",
       "    </tr>\n",
       "    <tr>\n",
       "      <th>1434995</th>\n",
       "      <td>20211008</td>\n",
       "      <td>50327631232</td>\n",
       "      <td>13:30:00</td>\n",
       "      <td>50326650332</td>\n",
       "      <td>15:30:00</td>\n",
       "      <td>17542</td>\n",
       "    </tr>\n",
       "    <tr>\n",
       "      <th>1435034</th>\n",
       "      <td>20220417</td>\n",
       "      <td>50325620311</td>\n",
       "      <td>13:15:00</td>\n",
       "      <td>50325680312</td>\n",
       "      <td>14:00:00</td>\n",
       "      <td>35027</td>\n",
       "    </tr>\n",
       "    <tr>\n",
       "      <th>1435230</th>\n",
       "      <td>20211026</td>\n",
       "      <td>50325671141</td>\n",
       "      <td>13:00:00</td>\n",
       "      <td>50325539123</td>\n",
       "      <td>13:45:00</td>\n",
       "      <td>20824</td>\n",
       "    </tr>\n",
       "    <tr>\n",
       "      <th>1435240</th>\n",
       "      <td>20211017</td>\n",
       "      <td>50325620311</td>\n",
       "      <td>14:15:00</td>\n",
       "      <td>50325577334</td>\n",
       "      <td>15:30:00</td>\n",
       "      <td>22278</td>\n",
       "    </tr>\n",
       "  </tbody>\n",
       "</table>\n",
       "<p>35543 rows × 6 columns</p>\n",
       "</div>"
      ],
      "text/plain": [
       "         yyyymmdd  start_mesh_area start_time  end_mesh_area  end_time  \\\n",
       "19       20211001      50325546322   11:45:00    50325546433  12:30:00   \n",
       "22       20211001      50325546323   08:30:00    50326620132  09:15:00   \n",
       "67       20211001      50325546411   16:00:00    50326579211  17:45:00   \n",
       "100      20211001      50325546433   13:15:00    50325546411  13:45:00   \n",
       "169      20211001      50325547312   20:45:00    50325516142  21:30:00   \n",
       "...           ...              ...        ...            ...       ...   \n",
       "1434990  20211006      50325681412   15:45:00    50324693322  17:00:00   \n",
       "1434995  20211008      50327631232   13:30:00    50326650332  15:30:00   \n",
       "1435034  20220417      50325620311   13:15:00    50325680312  14:00:00   \n",
       "1435230  20211026      50325671141   13:00:00    50325539123  13:45:00   \n",
       "1435240  20211017      50325620311   14:15:00    50325577334  15:30:00   \n",
       "\n",
       "         population  \n",
       "19            17542  \n",
       "22            23491  \n",
       "67            17542  \n",
       "100           17542  \n",
       "169           18545  \n",
       "...             ...  \n",
       "1434990       23633  \n",
       "1434995       17542  \n",
       "1435034       35027  \n",
       "1435230       20824  \n",
       "1435240       22278  \n",
       "\n",
       "[35543 rows x 6 columns]"
      ]
     },
     "execution_count": 85,
     "metadata": {},
     "output_type": "execute_result"
    }
   ],
   "source": [
    "outdf"
   ]
  }
 ],
 "metadata": {
  "kernelspec": {
   "display_name": "Python 3 (ipykernel)",
   "language": "python",
   "name": "python3"
  },
  "language_info": {
   "codemirror_mode": {
    "name": "ipython",
    "version": 3
   },
   "file_extension": ".py",
   "mimetype": "text/x-python",
   "name": "python",
   "nbconvert_exporter": "python",
   "pygments_lexer": "ipython3",
   "version": "3.9.15"
  }
 },
 "nbformat": 4,
 "nbformat_minor": 5
}
