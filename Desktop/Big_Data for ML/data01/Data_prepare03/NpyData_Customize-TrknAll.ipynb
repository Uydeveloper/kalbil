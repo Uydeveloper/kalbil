{
 "cells": [
  {
   "cell_type": "code",
   "execution_count": 42,
   "id": "6fd65a56",
   "metadata": {},
   "outputs": [],
   "source": [
    "# ライブラリのインポート\n",
    "import numpy as np\n",
    "import pandas as pd\n",
    "import psycopg2\n",
    "import datetime"
   ]
  },
  {
   "cell_type": "code",
   "execution_count": 43,
   "id": "03ba6d6f",
   "metadata": {},
   "outputs": [],
   "source": [
    "dbname = \"kddi_18_param_custom2\"\n",
    "npyname = \"trkn_18\"\n",
    "datedir = \"230120\"\n",
    "sttime = \"2022-04-01 18:00:00\""
   ]
  },
  {
   "cell_type": "code",
   "execution_count": 44,
   "id": "708be170",
   "metadata": {},
   "outputs": [],
   "source": [
    "#解析結果の読み込み\n",
    "timeseries_sep = np.load(\"./\" + datedir+'/'+ npyname + \".npy\")"
   ]
  },
  {
   "cell_type": "code",
   "execution_count": 45,
   "id": "71655e82",
   "metadata": {},
   "outputs": [
    {
     "data": {
      "text/plain": [
       "(24, 207)"
      ]
     },
     "execution_count": 45,
     "metadata": {},
     "output_type": "execute_result"
    }
   ],
   "source": [
    "timeseries_sep.shape"
   ]
  },
  {
   "cell_type": "code",
   "execution_count": 46,
   "id": "abab8fed",
   "metadata": {
    "scrolled": true
   },
   "outputs": [
    {
     "data": {
      "text/plain": [
       "array([[ 88,  62,  95, ..., 109, 109,   1],\n",
       "       [ 77,  74,  90, ..., 116, 116,   0],\n",
       "       [ 64,  74,  86, ..., 106, 106,   0],\n",
       "       ...,\n",
       "       [ 13,   4,  24, ...,  26,  26,   0],\n",
       "       [ 21,  12,  12, ...,  28,  28,   0],\n",
       "       [ 16,   6,  11, ...,  23,  23,   0]], dtype=int64)"
      ]
     },
     "execution_count": 46,
     "metadata": {},
     "output_type": "execute_result"
    }
   ],
   "source": [
    "timeseries_sep"
   ]
  },
  {
   "cell_type": "code",
   "execution_count": 47,
   "id": "7df1eed8",
   "metadata": {},
   "outputs": [],
   "source": [
    "#メッシュ情報の読み込み\n",
    "csv_file = r'./'+datedir+'/'+ npyname+'_header.csv'\n",
    "df = pd.read_csv(csv_file, dtype={'date':str}, index_col=0, parse_dates=True)\n",
    "df_i = df.loc[\"gridcode\"] #gridcode #end_mesh_area"
   ]
  },
  {
   "cell_type": "code",
   "execution_count": 48,
   "id": "8b07d805",
   "metadata": {},
   "outputs": [],
   "source": [
    "connection = psycopg2.connectconnection = psycopg2.connect(host=\"localhost\", database=\"analysisdb\", user=\"postgres\",password=\"setouchi1311\")"
   ]
  },
  {
   "cell_type": "code",
   "execution_count": null,
   "id": "02154cf5",
   "metadata": {},
   "outputs": [],
   "source": [
    "dte = datetime.datetime.strptime(sttime, '%Y-%m-%d %H:%M:%S')\n",
    "\n",
    "for lp in range(4):\n",
    "    cur =connection.cursor()\n",
    "    curs =connection.cursor()\n",
    "\n",
    "    checkMeshtbranList = [] #確認対象メッシュのKDDI値\n",
    "\n",
    "    #まずは時刻ごとのメッシュ一覧を取得\n",
    "    sql = \"select mesh from \" + dbname + \" WHERE times = '\"+str(dte)+\"'\"\n",
    "    cur.execute(sql)\n",
    "    meshLists = cur.fetchall()\n",
    "    \n",
    "    print(\"time =\" + str(dte) + \" target =\" + str(len(meshLists)))\n",
    "    for mesh in meshLists:\n",
    "        \n",
    "        meshkey = str(int(mesh[0]))\n",
    "        \n",
    "        #トラカン値を持つメッシュならば解析しない\n",
    "        find = 0\n",
    "        for chkm in df_i.values:\n",
    "            if str(int(chkm)) == meshkey:\n",
    "                find = 1\n",
    "                break\n",
    "        if find == 1:\n",
    "            continue\n",
    "            \n",
    "        if meshkey <= \"50325626324\":\n",
    "            continue\n",
    "\n",
    "        sql = \"select kddi_tran.tbran, T.gridcode,T.断面交通量,kddi_tran.mesh \"\n",
    "        sql += \"from \" + dbname + \" AS kddi_tran \"\n",
    "        sql += \"INNER JOIN pointdata as a ON kddi_tran.mesh = cast(a.grid_code AS BIGINT) \"\n",
    "        sql += \"CROSS JOIN LATERAL \"\n",
    "        sql += \"(\"\n",
    "        sql += \"SELECT 時刻, gridcode , 断面交通量 from trakan2204_z3out AS trakan_tran \"\n",
    "        sql += \"inner JOIN pointdata as b ON trakan_tran.gridcode = cast(grid_code AS BIGINT) \"\n",
    "        sql += \"WHERE 時刻 = '\"+str(dte)+\"' \"\n",
    "        sql += \"ORDER BY a.geom <-> b.geom, ST_Distance(a.geom, b.geom) \"\n",
    "        sql += \"LIMIT 1) AS T \"\n",
    "        sql += \"WHERE times = '\"+str(dte)+\"' and kddi_tran.mesh = \" + meshkey\n",
    "        curs.execute(sql)\n",
    "        datalists = curs.fetchall()\n",
    "        #print(datalists) #(88.0, 50324526133, 13) #対象MESH値、確認対象メッシュ、対象の断面交通量\n",
    "        \n",
    "        if len(datalists) == 0:\n",
    "            #print(sql)\n",
    "            continue\n",
    "\n",
    "        print(meshkey)\n",
    "        #確認対象メッシュの kddi_tran.tbran値\n",
    "        enabledcheck = meshkey in checkMeshtbranList\n",
    "        baseMeshItem = 0\n",
    "        if enabledcheck == True:\n",
    "            for meshitem in checkMeshtbranList:\n",
    "                if str(int(mesh)) == meshitem[0]:\n",
    "                    baseMeshItem = meshitem[1]\n",
    "                    break\n",
    "        else:\n",
    "            cur3 =connection.cursor()\n",
    "            sql = \"select kddi_tran.tbran from \" + dbname + \" AS kddi_tran \"\n",
    "            sql += \"WHERE times = '\"+str(dte)+\"' and kddi_tran.mesh = \" + str(datalists[0][1])\n",
    "            cur3.execute(sql)\n",
    "            baseMeshParam = cur3.fetchall()\n",
    "            setparam = 0\n",
    "            if len(baseMeshParam) != 0:\n",
    "                setparam = baseMeshParam[0][0]\n",
    "            if len(checkMeshtbranList) == 0:\n",
    "                checkMeshtbranList = [meshkey , setparam]\n",
    "            else:\n",
    "                checkMeshtbranList.append([meshkey , setparam])\n",
    "            cur3.close()\n",
    "            baseMeshItem = setparam\n",
    "\n",
    "        #メッシュ値を算出\n",
    "        if baseMeshItem == 0:\n",
    "            param = 0\n",
    "        else:\n",
    "            param = datalists[0][0] / baseMeshItem * datalists[0][2]\n",
    "        print(str(datalists[0][0]) + \":\" +  str(baseMeshItem) + \":\" +  str( datalists[0][2]) )\n",
    "            \n",
    "        sql = \"UPDATE \" + dbname + \" set tbran = \"+ str(param) + \" where times = '\"  + str(dte) + \"' and mesh = \" + meshkey + \";\"\n",
    "        #print(sql)\n",
    "        cur.execute(sql)\n",
    "        connection.commit()\n",
    "    cur.close()\n",
    "    curs.close()\n",
    "    dte = dte + datetime.timedelta(minutes=15)\n",
    "connection.commit()"
   ]
  },
  {
   "cell_type": "code",
   "execution_count": null,
   "id": "454a73ad",
   "metadata": {},
   "outputs": [],
   "source": [
    "#ConvertMeshtoRoad"
   ]
  },
  {
   "cell_type": "code",
   "execution_count": null,
   "id": "6412b5ba",
   "metadata": {},
   "outputs": [],
   "source": [
    "connection.close()"
   ]
  },
  {
   "cell_type": "code",
   "execution_count": null,
   "id": "8f2344af",
   "metadata": {},
   "outputs": [],
   "source": []
  }
 ],
 "metadata": {
  "kernelspec": {
   "display_name": "Python 3 (ipykernel)",
   "language": "python",
   "name": "python3"
  },
  "language_info": {
   "codemirror_mode": {
    "name": "ipython",
    "version": 3
   },
   "file_extension": ".py",
   "mimetype": "text/x-python",
   "name": "python",
   "nbconvert_exporter": "python",
   "pygments_lexer": "ipython3",
   "version": "3.9.15"
  }
 },
 "nbformat": 4,
 "nbformat_minor": 5
}
