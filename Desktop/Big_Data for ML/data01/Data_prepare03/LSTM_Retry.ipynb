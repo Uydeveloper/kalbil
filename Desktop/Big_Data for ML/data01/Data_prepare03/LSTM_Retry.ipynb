{
 "cells": [
  {
   "cell_type": "code",
   "execution_count": 1,
   "id": "39833c0a",
   "metadata": {},
   "outputs": [],
   "source": [
    "# ライブラリのインポート\n",
    "import numpy as np\n",
    "import keras\n",
    "from sklearn.preprocessing import MinMaxScaler\n",
    "# モデルの視覚化\n",
    "from tensorflow.keras.utils import plot_model\n",
    "import joblib"
   ]
  },
  {
   "cell_type": "code",
   "execution_count": 36,
   "id": "556cba64",
   "metadata": {},
   "outputs": [],
   "source": [
    "# どれくらいの期間を基に予測するか　（例：★ここでは24\n",
    "window_size = 24\n",
    "npyname = \"kddi_18_03res_param\"\n",
    "readname = \"kddi_18\""
   ]
  },
  {
   "cell_type": "code",
   "execution_count": 37,
   "id": "8c79772b",
   "metadata": {},
   "outputs": [],
   "source": [
    "# 交通量データの読込み\n",
    "timeseries_aug = np.load(\"./\"+npyname+\".npy\", allow_pickle=True)"
   ]
  },
  {
   "cell_type": "code",
   "execution_count": 38,
   "id": "fafda674",
   "metadata": {},
   "outputs": [
    {
     "data": {
      "text/plain": [
       "array([[[-1.29942954e-01,  4.53081168e-03,  7.06819117e-01, ...,\n",
       "          1.11773062e+00, -3.56468976e-01, -4.79993373e-01],\n",
       "        [-7.85965472e-02,  7.32132345e-02,  1.03786623e+00, ...,\n",
       "          5.37903666e-01, -2.67633470e-03, -1.22422412e-01],\n",
       "        [ 3.01075019e-02,  3.86693567e-01,  3.05742085e-01, ...,\n",
       "          1.33093047e+00, -1.19968779e-01, -2.90439844e-01],\n",
       "        ...,\n",
       "        [ 5.04391342e-02,  3.27259041e-02,  1.25383381e-02, ...,\n",
       "          4.63396430e-01, -1.52826607e-01, -4.53658290e-02],\n",
       "        [ 3.06478795e-02,  2.02710815e-02,  1.15571488e-02, ...,\n",
       "          4.23128158e-01, -1.28880531e-01, -3.26925889e-02],\n",
       "        [ 8.17433000e-03,  1.90720502e-02,  1.10351779e-02, ...,\n",
       "          5.97345054e-01, -1.02755204e-01,  1.65408999e-02]],\n",
       "\n",
       "       [[-1.08338960e-01, -2.73385048e-01,  8.08724701e-01, ...,\n",
       "          2.85705924e-01,  3.92688997e-02, -2.01209694e-01],\n",
       "        [ 5.81979901e-02, -1.24305896e-01, -1.13104507e-01, ...,\n",
       "          6.53768241e-01,  8.80259126e-02, -1.87472120e-01],\n",
       "        [-3.13303262e-01, -2.89470464e-01, -4.14996475e-01, ...,\n",
       "         -2.15082154e-01,  2.28298992e-01, -2.02031098e-02],\n",
       "        ...,\n",
       "        [-1.22580854e-02, -1.20896483e-02,  1.73365045e-02, ...,\n",
       "         -1.62620008e-01, -6.52001426e-02,  5.45631126e-02],\n",
       "        [ 1.07231624e-01,  2.50554800e-01,  7.06208572e-02, ...,\n",
       "         -3.00316036e-01,  8.32569748e-02,  3.82724971e-01],\n",
       "        [ 1.33845791e-01,  3.51337284e-01,  2.57916987e-01, ...,\n",
       "         -7.06574440e-01,  2.89180517e-01,  4.93115216e-01]],\n",
       "\n",
       "       [[-8.81296247e-02, -3.68723184e-01,  5.17882466e-01, ...,\n",
       "          1.18648060e-01,  3.26802939e-01, -2.39861161e-01],\n",
       "        [-5.34034193e-01, -7.74677575e-01, -1.50993600e-01, ...,\n",
       "          4.92103189e-01,  1.97544590e-01, -2.34094217e-01],\n",
       "        [-8.46005261e-01, -2.16048136e-01, -1.43626228e-01, ...,\n",
       "          2.42389902e-01,  5.53509109e-02, -8.73704925e-02],\n",
       "        ...,\n",
       "        [ 8.90687183e-02,  2.39884242e-01,  9.84620973e-02, ...,\n",
       "         -5.41953504e-01,  4.65276651e-02,  3.31533074e-01],\n",
       "        [ 7.04904571e-02,  2.66437978e-01,  1.64646864e-01, ...,\n",
       "         -6.82107687e-01,  1.21664070e-01,  2.70303786e-01],\n",
       "        [ 1.03707708e-01,  2.01486379e-01,  1.41075388e-01, ...,\n",
       "         -5.68426132e-01,  2.00353831e-01,  1.76800311e-01]],\n",
       "\n",
       "       ...,\n",
       "\n",
       "       [[-1.25004068e-01,  5.43976948e-03, -1.19496882e-02, ...,\n",
       "          2.56579787e-01, -3.55495602e-01, -3.26222360e-01],\n",
       "        [-3.39597575e-02,  2.17475742e-01, -6.27487600e-02, ...,\n",
       "         -6.77653193e-01, -3.32222968e-01, -2.76269168e-01],\n",
       "        [-1.00147933e-01,  4.59750623e-01, -6.54380769e-02, ...,\n",
       "          2.07771659e-01, -1.66611075e-01, -1.95974305e-01],\n",
       "        ...,\n",
       "        [ 1.35919983e-02,  5.02513573e-02,  9.87033844e-02, ...,\n",
       "          3.00091219e+00,  5.15541621e-03, -2.65619904e-01],\n",
       "        [-4.00199601e-03,  1.49318771e-02,  5.10178432e-02, ...,\n",
       "          1.70259082e+00, -1.48892120e-01, -1.71261013e-01],\n",
       "        [-4.19685603e-05, -3.88275343e-03,  3.15305367e-02, ...,\n",
       "          1.07171118e+00, -2.15650082e-01, -1.38581604e-01]],\n",
       "\n",
       "       [[-1.33176848e-01,  1.05121292e-01, -8.01377520e-02, ...,\n",
       "          3.84074569e-01, -3.94544393e-01, -4.12044674e-01],\n",
       "        [-1.23541839e-01,  4.31607842e-01, -1.00947477e-01, ...,\n",
       "         -1.99671835e-01, -2.24405795e-01, -2.54031330e-01],\n",
       "        [-1.08138829e-01,  1.17250395e+00,  1.96884707e-01, ...,\n",
       "          5.93016267e-01,  5.54304905e-02,  1.61369238e-02],\n",
       "        ...,\n",
       "        [ 4.00213944e-03,  1.76918879e-02,  4.08654474e-02, ...,\n",
       "          1.03087020e+00, -1.89630911e-01, -1.30184323e-01],\n",
       "        [ 1.12353703e-02,  7.26215448e-03,  2.61820760e-02, ...,\n",
       "          5.51478326e-01, -2.19595298e-01, -1.02027833e-01],\n",
       "        [ 1.30271278e-02, -2.06833729e-03,  2.45164875e-02, ...,\n",
       "          3.91888946e-01, -2.26288095e-01, -1.09068245e-01]],\n",
       "\n",
       "       [[-1.28273204e-01,  1.88009530e-01,  3.27830054e-02, ...,\n",
       "          3.61347258e-01, -2.96620667e-01, -4.04868156e-01],\n",
       "        [-7.13835359e-02,  8.43805790e-01,  2.54479736e-01, ...,\n",
       "         -1.50495917e-01, -3.45344692e-02, -7.69908130e-02],\n",
       "        [ 3.85303907e-02,  4.69173521e-01,  4.24333036e-01, ...,\n",
       "         -1.11695755e+00,  2.53535688e-01,  1.19641066e-01],\n",
       "        ...,\n",
       "        [ 1.49844950e-02,  1.59922466e-02,  2.17017476e-02, ...,\n",
       "          2.24055141e-01, -1.92631409e-01, -6.34772256e-02],\n",
       "        [ 4.37332463e-04,  6.28629606e-03,  1.91917587e-02, ...,\n",
       "          1.10731952e-01, -1.75279692e-01, -6.45802915e-02],\n",
       "        [-2.84120869e-02, -9.20617487e-03,  2.18771212e-02, ...,\n",
       "          1.99288115e-01, -1.70707673e-01, -9.17679965e-02]]],\n",
       "      dtype=float32)"
      ]
     },
     "execution_count": 38,
     "metadata": {},
     "output_type": "execute_result"
    }
   ],
   "source": [
    "timeseries_aug"
   ]
  },
  {
   "cell_type": "code",
   "execution_count": 39,
   "id": "f33f30f6",
   "metadata": {},
   "outputs": [],
   "source": [
    "# 保存したScalerの読込み\n",
    "scalers = joblib.load(readname+'_scaler.gz')"
   ]
  },
  {
   "cell_type": "code",
   "execution_count": 40,
   "id": "06c11a96",
   "metadata": {},
   "outputs": [],
   "source": [
    "# トレーニングデータの大きさを取得\n",
    "# 全体の80%をトレーニングデータとして扱う）\n",
    "training_data_len = int(np.ceil(len(timeseries_aug) * 1))"
   ]
  },
  {
   "cell_type": "code",
   "execution_count": 41,
   "id": "bad139bd",
   "metadata": {},
   "outputs": [],
   "source": [
    "# （予測用）\n",
    "x_test = []\n",
    "# テスト用予測データ\n",
    "for i in range(window_size, len(timeseries_aug)):\n",
    "    ##  timestep 24hの場合：0 → 24, 1 → 25 ・・・\n",
    "    x_test.append(timeseries_aug[i-window_size:i, :])"
   ]
  },
  {
   "cell_type": "code",
   "execution_count": 42,
   "id": "e056a0d1",
   "metadata": {},
   "outputs": [],
   "source": [
    "# 訓練（学習）データと教師（正解）データをnumpy arrayに変換\n",
    "x_train = np.array(x_test)"
   ]
  },
  {
   "cell_type": "code",
   "execution_count": 43,
   "id": "d6a48794",
   "metadata": {},
   "outputs": [],
   "source": [
    "model = keras.models.load_model(readname + '_model.h5')"
   ]
  },
  {
   "cell_type": "code",
   "execution_count": 44,
   "id": "508860a9",
   "metadata": {},
   "outputs": [
    {
     "name": "stdout",
     "output_type": "stream",
     "text": [
      "You must install pydot (`pip install pydot`) and install graphviz (see instructions at https://graphviz.gitlab.io/download/) for plot_model/model_to_dot to work.\n",
      "Epoch 1/30\n"
     ]
    },
    {
     "ename": "ValueError",
     "evalue": "in user code:\n\n    File \"C:\\Users\\BIGDATA_DEV\\anaconda3\\envs\\bigdata_dev\\lib\\site-packages\\keras\\engine\\training.py\", line 1051, in train_function  *\n        return step_function(self, iterator)\n    File \"C:\\Users\\BIGDATA_DEV\\anaconda3\\envs\\bigdata_dev\\lib\\site-packages\\keras\\engine\\training.py\", line 1040, in step_function  **\n        outputs = model.distribute_strategy.run(run_step, args=(data,))\n    File \"C:\\Users\\BIGDATA_DEV\\anaconda3\\envs\\bigdata_dev\\lib\\site-packages\\keras\\engine\\training.py\", line 1030, in run_step  **\n        outputs = model.train_step(data)\n    File \"C:\\Users\\BIGDATA_DEV\\anaconda3\\envs\\bigdata_dev\\lib\\site-packages\\keras\\engine\\training.py\", line 889, in train_step\n        y_pred = self(x, training=True)\n    File \"C:\\Users\\BIGDATA_DEV\\anaconda3\\envs\\bigdata_dev\\lib\\site-packages\\keras\\utils\\traceback_utils.py\", line 67, in error_handler\n        raise e.with_traceback(filtered_tb) from None\n    File \"C:\\Users\\BIGDATA_DEV\\anaconda3\\envs\\bigdata_dev\\lib\\site-packages\\keras\\engine\\input_spec.py\", line 264, in assert_input_compatibility\n        raise ValueError(f'Input {input_index} of layer \"{layer_name}\" is '\n\n    ValueError: Input 0 of layer \"sequential_6\" is incompatible with the layer: expected shape=(None, 24, 9995), found shape=(8, 24, 24, 9995)\n",
     "output_type": "error",
     "traceback": [
      "\u001b[1;31m---------------------------------------------------------------------------\u001b[0m",
      "\u001b[1;31mValueError\u001b[0m                                Traceback (most recent call last)",
      "Cell \u001b[1;32mIn[44], line 2\u001b[0m\n\u001b[0;32m      1\u001b[0m plot_model(model,show_shapes\u001b[38;5;241m=\u001b[39m\u001b[38;5;28;01mTrue\u001b[39;00m)\n\u001b[1;32m----> 2\u001b[0m history \u001b[38;5;241m=\u001b[39m \u001b[43mmodel\u001b[49m\u001b[38;5;241;43m.\u001b[39;49m\u001b[43mfit\u001b[49m\u001b[43m(\u001b[49m\u001b[43mx_train\u001b[49m\u001b[43m,\u001b[49m\u001b[43m \u001b[49m\u001b[43mx_train\u001b[49m\u001b[43m,\u001b[49m\u001b[43m \u001b[49m\u001b[43mbatch_size\u001b[49m\u001b[38;5;241;43m=\u001b[39;49m\u001b[38;5;241;43m8\u001b[39;49m\u001b[43m,\u001b[49m\u001b[43m \u001b[49m\u001b[43mepochs\u001b[49m\u001b[38;5;241;43m=\u001b[39;49m\u001b[38;5;241;43m30\u001b[39;49m\u001b[43m)\u001b[49m\n",
      "File \u001b[1;32m~\\anaconda3\\envs\\bigdata_dev\\lib\\site-packages\\keras\\utils\\traceback_utils.py:67\u001b[0m, in \u001b[0;36mfilter_traceback.<locals>.error_handler\u001b[1;34m(*args, **kwargs)\u001b[0m\n\u001b[0;32m     65\u001b[0m \u001b[38;5;28;01mexcept\u001b[39;00m \u001b[38;5;167;01mException\u001b[39;00m \u001b[38;5;28;01mas\u001b[39;00m e:  \u001b[38;5;66;03m# pylint: disable=broad-except\u001b[39;00m\n\u001b[0;32m     66\u001b[0m   filtered_tb \u001b[38;5;241m=\u001b[39m _process_traceback_frames(e\u001b[38;5;241m.\u001b[39m__traceback__)\n\u001b[1;32m---> 67\u001b[0m   \u001b[38;5;28;01mraise\u001b[39;00m e\u001b[38;5;241m.\u001b[39mwith_traceback(filtered_tb) \u001b[38;5;28;01mfrom\u001b[39;00m \u001b[38;5;28mNone\u001b[39m\n\u001b[0;32m     68\u001b[0m \u001b[38;5;28;01mfinally\u001b[39;00m:\n\u001b[0;32m     69\u001b[0m   \u001b[38;5;28;01mdel\u001b[39;00m filtered_tb\n",
      "File \u001b[1;32mC:\\Users\\BIGDAT~1\\AppData\\Local\\Temp\\__autograph_generated_file2j936_yf.py:15\u001b[0m, in \u001b[0;36mouter_factory.<locals>.inner_factory.<locals>.tf__train_function\u001b[1;34m(iterator)\u001b[0m\n\u001b[0;32m     13\u001b[0m \u001b[38;5;28;01mtry\u001b[39;00m:\n\u001b[0;32m     14\u001b[0m     do_return \u001b[38;5;241m=\u001b[39m \u001b[38;5;28;01mTrue\u001b[39;00m\n\u001b[1;32m---> 15\u001b[0m     retval_ \u001b[38;5;241m=\u001b[39m ag__\u001b[38;5;241m.\u001b[39mconverted_call(ag__\u001b[38;5;241m.\u001b[39mld(step_function), (ag__\u001b[38;5;241m.\u001b[39mld(\u001b[38;5;28mself\u001b[39m), ag__\u001b[38;5;241m.\u001b[39mld(iterator)), \u001b[38;5;28;01mNone\u001b[39;00m, fscope)\n\u001b[0;32m     16\u001b[0m \u001b[38;5;28;01mexcept\u001b[39;00m:\n\u001b[0;32m     17\u001b[0m     do_return \u001b[38;5;241m=\u001b[39m \u001b[38;5;28;01mFalse\u001b[39;00m\n",
      "\u001b[1;31mValueError\u001b[0m: in user code:\n\n    File \"C:\\Users\\BIGDATA_DEV\\anaconda3\\envs\\bigdata_dev\\lib\\site-packages\\keras\\engine\\training.py\", line 1051, in train_function  *\n        return step_function(self, iterator)\n    File \"C:\\Users\\BIGDATA_DEV\\anaconda3\\envs\\bigdata_dev\\lib\\site-packages\\keras\\engine\\training.py\", line 1040, in step_function  **\n        outputs = model.distribute_strategy.run(run_step, args=(data,))\n    File \"C:\\Users\\BIGDATA_DEV\\anaconda3\\envs\\bigdata_dev\\lib\\site-packages\\keras\\engine\\training.py\", line 1030, in run_step  **\n        outputs = model.train_step(data)\n    File \"C:\\Users\\BIGDATA_DEV\\anaconda3\\envs\\bigdata_dev\\lib\\site-packages\\keras\\engine\\training.py\", line 889, in train_step\n        y_pred = self(x, training=True)\n    File \"C:\\Users\\BIGDATA_DEV\\anaconda3\\envs\\bigdata_dev\\lib\\site-packages\\keras\\utils\\traceback_utils.py\", line 67, in error_handler\n        raise e.with_traceback(filtered_tb) from None\n    File \"C:\\Users\\BIGDATA_DEV\\anaconda3\\envs\\bigdata_dev\\lib\\site-packages\\keras\\engine\\input_spec.py\", line 264, in assert_input_compatibility\n        raise ValueError(f'Input {input_index} of layer \"{layer_name}\" is '\n\n    ValueError: Input 0 of layer \"sequential_6\" is incompatible with the layer: expected shape=(None, 24, 9995), found shape=(8, 24, 24, 9995)\n"
     ]
    }
   ],
   "source": [
    "plot_model(model,show_shapes=True)\n",
    "history = model.fit(x_train, x_train, batch_size=8, epochs=30)"
   ]
  },
  {
   "cell_type": "code",
   "execution_count": 18,
   "id": "b350b0c5",
   "metadata": {},
   "outputs": [
    {
     "name": "stdout",
     "output_type": "stream",
     "text": [
      "Model: \"sequential_1\"\n",
      "_________________________________________________________________\n",
      " Layer (type)                Output Shape              Param #   \n",
      "=================================================================\n",
      " lstm_4 (LSTM)               (None, 24, 128)           5183488   \n",
      "                                                                 \n",
      " dropout_1 (Dropout)         (None, 24, 128)           0         \n",
      "                                                                 \n",
      " lstm_5 (LSTM)               (None, 64)                49408     \n",
      "                                                                 \n",
      " repeat_vector_1 (RepeatVect  (None, 24, 64)           0         \n",
      " or)                                                             \n",
      "                                                                 \n",
      " lstm_6 (LSTM)               (None, 24, 64)            33024     \n",
      "                                                                 \n",
      " lstm_7 (LSTM)               (None, 24, 128)           98816     \n",
      "                                                                 \n",
      " time_distributed_1 (TimeDis  (None, 24, 9995)         1289355   \n",
      " tributed)                                                       \n",
      "                                                                 \n",
      "=================================================================\n",
      "Total params: 6,654,091\n",
      "Trainable params: 6,654,091\n",
      "Non-trainable params: 0\n",
      "_________________________________________________________________\n"
     ]
    },
    {
     "data": {
      "image/png": "[encoded data removed]",
      "text/plain": [
       "<Figure size 640x480 with 1 Axes>"
      ]
     },
     "metadata": {},
     "output_type": "display_data"
    }
   ],
   "source": [
    "# モデルの概要\n",
    "model.summary()\n",
    "\n",
    "import matplotlib.pyplot as plt\n",
    "plt.plot(history.history['loss'], label='Train Loss')\n",
    "plt.title('model loss')\n",
    "plt.ylabel('loss')\n",
    "plt.xlabel('epochs')\n",
    "plt.legend(loc='upper right')\n",
    "plt.show()"
   ]
  },
  {
   "cell_type": "code",
   "execution_count": 19,
   "id": "f2c16f74",
   "metadata": {},
   "outputs": [],
   "source": [
    "# モデルの保存　⇔ モデルの読込み model = load_model('traffic_pattern.h5')\n",
    "model.save(npyname + '_model2.h5')"
   ]
  },
  {
   "cell_type": "code",
   "execution_count": null,
   "id": "1187cc28",
   "metadata": {},
   "outputs": [],
   "source": []
  }
 ],
 "metadata": {
  "kernelspec": {
   "display_name": "Python 3 (ipykernel)",
   "language": "python",
   "name": "python3"
  },
  "language_info": {
   "codemirror_mode": {
    "name": "ipython",
    "version": 3
   },
   "file_extension": ".py",
   "mimetype": "text/x-python",
   "name": "python",
   "nbconvert_exporter": "python",
   "pygments_lexer": "ipython3",
   "version": "3.9.15"
  }
 },
 "nbformat": 4,
 "nbformat_minor": 5
}
