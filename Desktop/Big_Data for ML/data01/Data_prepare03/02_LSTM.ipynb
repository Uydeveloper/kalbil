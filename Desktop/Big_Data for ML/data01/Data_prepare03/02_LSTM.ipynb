{
 "cells": [
  {
   "cell_type": "code",
   "execution_count": 62,
   "id": "1a6ad91f-24d3-4cda-8468-2f01143db4c6",
   "metadata": {},
   "outputs": [],
   "source": [
    "# ライブラリのインポート\n",
    "import numpy as np\n",
    "from sklearn.metrics import r2_score\n",
    "from datetime import datetime\n",
    "from sklearn.preprocessing import MinMaxScaler\n",
    "from keras.models import Sequential\n",
    "from keras.layers import Dense, LSTM, Dropout, RepeatVector, TimeDistributed"
   ]
  },
  {
   "cell_type": "code",
   "execution_count": 93,
   "id": "8d8cf95c",
   "metadata": {},
   "outputs": [],
   "source": [
    "# 交通量データの読込み\n",
    "npyname = \"kddi_06_new\"\n",
    "datedir = \"230316\""
   ]
  },
  {
   "cell_type": "code",
   "execution_count": 94,
   "id": "2298e085",
   "metadata": {},
   "outputs": [],
   "source": [
    "timeseries_aug = np.load(\"./\" + datedir+'/'+ npyname + \"_01param.npy\", allow_pickle=True)"
   ]
  },
  {
   "cell_type": "code",
   "execution_count": 95,
   "id": "6a782a20",
   "metadata": {},
   "outputs": [
    {
     "data": {
      "text/plain": [
       "(720, 16814)"
      ]
     },
     "execution_count": 95,
     "metadata": {},
     "output_type": "execute_result"
    }
   ],
   "source": [
    "# 読み込んだ交通量データの確認\n",
    "timeseries_aug.shape"
   ]
  },
  {
   "cell_type": "code",
   "execution_count": 96,
   "id": "7b307a5d",
   "metadata": {},
   "outputs": [
    {
     "data": {
      "text/plain": [
       "array([[0., 0., 0., ..., 0., 0., 0.],\n",
       "       [0., 0., 0., ..., 0., 0., 0.],\n",
       "       [0., 0., 0., ..., 0., 0., 0.],\n",
       "       ...,\n",
       "       [0., 0., 0., ..., 0., 0., 0.],\n",
       "       [0., 0., 0., ..., 0., 0., 0.],\n",
       "       [0., 0., 0., ..., 0., 0., 0.]])"
      ]
     },
     "execution_count": 96,
     "metadata": {},
     "output_type": "execute_result"
    }
   ],
   "source": [
    "# 読み込んだ交通量データの確認\n",
    "timeseries_aug"
   ]
  },
  {
   "cell_type": "code",
   "execution_count": 97,
   "id": "f40f98ec",
   "metadata": {
    "scrolled": true
   },
   "outputs": [
    {
     "data": {
      "text/plain": [
       "array([[0., 0., 0., ..., 0., 0., 0.],\n",
       "       [0., 0., 0., ..., 0., 0., 0.],\n",
       "       [0., 0., 0., ..., 0., 0., 0.],\n",
       "       ...,\n",
       "       [0., 0., 0., ..., 0., 0., 0.],\n",
       "       [0., 0., 0., ..., 0., 0., 0.],\n",
       "       [0., 0., 0., ..., 0., 0., 0.]])"
      ]
     },
     "execution_count": 97,
     "metadata": {},
     "output_type": "execute_result"
    }
   ],
   "source": [
    "# データの正規化\n",
    "# データを0～1の範囲に正規化）\n",
    "scaler = MinMaxScaler(feature_range=(0, 1))\n",
    "scaled_data = scaler.fit_transform(timeseries_aug)\n",
    "scaled_data"
   ]
  },
  {
   "cell_type": "code",
   "execution_count": 98,
   "id": "3960ca20",
   "metadata": {},
   "outputs": [
    {
     "data": {
      "text/plain": [
       "['230316/kddi_06_new_scaler.gz']"
      ]
     },
     "execution_count": 98,
     "metadata": {},
     "output_type": "execute_result"
    }
   ],
   "source": [
    "# scalerの保存\n",
    "import joblib\n",
    "joblib.dump(scaler, datedir+'/'+ npyname + '_scaler.gz')\n",
    "# 保存したScalerの読込み\n",
    "# load_scaler = joblib.load('scaler.gz')"
   ]
  },
  {
   "cell_type": "code",
   "execution_count": 99,
   "id": "6d2f2d78-428d-4648-b156-ad2af083238f",
   "metadata": {},
   "outputs": [
    {
     "data": {
      "text/plain": [
       "(720, 16814)"
      ]
     },
     "execution_count": 99,
     "metadata": {},
     "output_type": "execute_result"
    }
   ],
   "source": [
    "# データサイズの確認\n",
    "scaled_data.shape"
   ]
  },
  {
   "cell_type": "code",
   "execution_count": 100,
   "id": "0f415724",
   "metadata": {},
   "outputs": [],
   "source": [
    "# トレーニングデータの大きさを取得\n",
    "# 全体の80%をトレーニングデータとして扱う）\n",
    "training_data_len = int(np.ceil(len(timeseries_aug) * 1))"
   ]
  },
  {
   "cell_type": "code",
   "execution_count": 101,
   "id": "6150ef00-315e-4b6b-b984-8c5d3d8b57d6",
   "metadata": {},
   "outputs": [
    {
     "data": {
      "text/plain": [
       "720"
      ]
     },
     "execution_count": 101,
     "metadata": {},
     "output_type": "execute_result"
    }
   ],
   "source": [
    "# トレーニングデータの大きさを確認\n",
    "training_data_len"
   ]
  },
  {
   "cell_type": "code",
   "execution_count": 102,
   "id": "e6eb68ec",
   "metadata": {},
   "outputs": [
    {
     "data": {
      "text/plain": [
       "array([[0., 0., 0., ..., 0., 0., 0.],\n",
       "       [0., 0., 0., ..., 0., 0., 0.],\n",
       "       [0., 0., 0., ..., 0., 0., 0.],\n",
       "       ...,\n",
       "       [0., 0., 0., ..., 0., 0., 0.],\n",
       "       [0., 0., 0., ..., 0., 0., 0.],\n",
       "       [0., 0., 0., ..., 0., 0., 0.]])"
      ]
     },
     "execution_count": 102,
     "metadata": {},
     "output_type": "execute_result"
    }
   ],
   "source": [
    "# どれくらいの期間を基に予測するか　（例：★ここでは24\n",
    "window_size = 24\n",
    "train_data = scaled_data[0:int(training_data_len), :]\n",
    "train_data"
   ]
  },
  {
   "cell_type": "code",
   "execution_count": 103,
   "id": "165a2c74-d175-4ec7-9c7a-26da507d2716",
   "metadata": {},
   "outputs": [
    {
     "data": {
      "text/plain": [
       "(720, 16814)"
      ]
     },
     "execution_count": 103,
     "metadata": {},
     "output_type": "execute_result"
    }
   ],
   "source": [
    "# データサイズの確認\n",
    "train_data.shape"
   ]
  },
  {
   "cell_type": "code",
   "execution_count": 104,
   "id": "525e6bf3-f4b6-49be-b8da-8765fa3a92e0",
   "metadata": {},
   "outputs": [],
   "source": [
    "x_train = []\n",
    "for i in range(window_size, len(train_data)):\n",
    "    x_train.append(train_data[i-window_size:i, :])\n"
   ]
  },
  {
   "cell_type": "code",
   "execution_count": 105,
   "id": "a003c7bd-a535-4805-8941-a03fe35aeade",
   "metadata": {},
   "outputs": [],
   "source": [
    "# 訓練（学習）データと教師（正解）データをnumpy arrayに変換\n",
    "x_train = np.array(x_train)"
   ]
  },
  {
   "cell_type": "code",
   "execution_count": 106,
   "id": "00e41e6f-0ab5-42b5-b22e-10bfe28d2e73",
   "metadata": {},
   "outputs": [
    {
     "name": "stdout",
     "output_type": "stream",
     "text": [
      "(696, 24, 16814)\n"
     ]
    },
    {
     "data": {
      "text/plain": [
       "array([[[0., 0., 0., ..., 0., 0., 0.],\n",
       "        [0., 0., 0., ..., 0., 0., 0.],\n",
       "        [0., 0., 0., ..., 0., 0., 0.],\n",
       "        ...,\n",
       "        [0., 0., 0., ..., 0., 0., 0.],\n",
       "        [0., 0., 0., ..., 0., 0., 0.],\n",
       "        [0., 0., 0., ..., 0., 0., 0.]],\n",
       "\n",
       "       [[0., 0., 0., ..., 0., 0., 0.],\n",
       "        [0., 0., 0., ..., 0., 0., 0.],\n",
       "        [0., 0., 0., ..., 0., 0., 0.],\n",
       "        ...,\n",
       "        [0., 0., 0., ..., 0., 0., 0.],\n",
       "        [0., 0., 0., ..., 0., 0., 0.],\n",
       "        [0., 0., 0., ..., 0., 0., 0.]],\n",
       "\n",
       "       [[0., 0., 0., ..., 0., 0., 0.],\n",
       "        [0., 0., 0., ..., 0., 0., 0.],\n",
       "        [0., 0., 0., ..., 0., 0., 0.],\n",
       "        ...,\n",
       "        [0., 0., 0., ..., 0., 0., 0.],\n",
       "        [0., 0., 0., ..., 0., 0., 0.],\n",
       "        [0., 0., 0., ..., 0., 0., 0.]],\n",
       "\n",
       "       ...,\n",
       "\n",
       "       [[0., 0., 0., ..., 0., 0., 0.],\n",
       "        [0., 0., 0., ..., 0., 0., 0.],\n",
       "        [0., 0., 0., ..., 0., 0., 0.],\n",
       "        ...,\n",
       "        [0., 0., 0., ..., 0., 0., 0.],\n",
       "        [0., 0., 0., ..., 0., 0., 0.],\n",
       "        [0., 0., 0., ..., 0., 0., 0.]],\n",
       "\n",
       "       [[0., 0., 0., ..., 0., 0., 0.],\n",
       "        [0., 0., 0., ..., 0., 0., 0.],\n",
       "        [0., 0., 0., ..., 0., 0., 0.],\n",
       "        ...,\n",
       "        [0., 0., 0., ..., 0., 0., 0.],\n",
       "        [0., 0., 0., ..., 0., 0., 0.],\n",
       "        [0., 0., 0., ..., 0., 0., 0.]],\n",
       "\n",
       "       [[0., 0., 0., ..., 0., 0., 0.],\n",
       "        [0., 0., 0., ..., 0., 0., 0.],\n",
       "        [0., 0., 0., ..., 0., 0., 0.],\n",
       "        ...,\n",
       "        [0., 0., 0., ..., 0., 0., 0.],\n",
       "        [0., 0., 0., ..., 0., 0., 0.],\n",
       "        [0., 0., 0., ..., 0., 0., 0.]]])"
      ]
     },
     "execution_count": 106,
     "metadata": {},
     "output_type": "execute_result"
    }
   ],
   "source": [
    "# numpy_array変換後（訓練（学習）データ）【参考】https://qiita.com/ken_yoshi/items/4cbe3abb7d46c5252fdd\n",
    "print(x_train.shape)\n",
    "x_train"
   ]
  },
  {
   "cell_type": "code",
   "execution_count": 107,
   "id": "8f761419",
   "metadata": {
    "scrolled": false
   },
   "outputs": [
    {
     "name": "stdout",
     "output_type": "stream",
     "text": [
      "You must install pydot (`pip install pydot`) and install graphviz (see instructions at https://graphviz.gitlab.io/download/) for plot_model/model_to_dot to work.\n",
      "Epoch 1/30\n",
      "87/87 [==============================] - 18s 182ms/step - loss: 0.0046\n",
      "Epoch 2/30\n",
      "87/87 [==============================] - 16s 184ms/step - loss: 0.0045\n",
      "Epoch 3/30\n",
      "87/87 [==============================] - 16s 187ms/step - loss: 0.0045\n",
      "Epoch 4/30\n",
      "87/87 [==============================] - 16s 187ms/step - loss: 0.0044\n",
      "Epoch 5/30\n",
      "87/87 [==============================] - 16s 185ms/step - loss: 0.0044\n",
      "Epoch 6/30\n",
      "87/87 [==============================] - 16s 187ms/step - loss: 0.0044\n",
      "Epoch 7/30\n",
      "87/87 [==============================] - 16s 186ms/step - loss: 0.0044\n",
      "Epoch 8/30\n",
      "87/87 [==============================] - 16s 187ms/step - loss: 0.0043\n",
      "Epoch 9/30\n",
      "87/87 [==============================] - 16s 185ms/step - loss: 0.0044\n",
      "Epoch 10/30\n",
      "87/87 [==============================] - 16s 185ms/step - loss: 0.0043\n",
      "Epoch 11/30\n",
      "87/87 [==============================] - 16s 187ms/step - loss: 0.0043\n",
      "Epoch 12/30\n",
      "87/87 [==============================] - 16s 186ms/step - loss: 0.0043\n",
      "Epoch 13/30\n",
      "87/87 [==============================] - 16s 185ms/step - loss: 0.0042\n",
      "Epoch 14/30\n",
      "87/87 [==============================] - 16s 185ms/step - loss: 0.0042\n",
      "Epoch 15/30\n",
      "87/87 [==============================] - 16s 187ms/step - loss: 0.0042\n",
      "Epoch 16/30\n",
      "87/87 [==============================] - 16s 185ms/step - loss: 0.0042\n",
      "Epoch 17/30\n",
      "87/87 [==============================] - 16s 185ms/step - loss: 0.0042\n",
      "Epoch 18/30\n",
      "87/87 [==============================] - 16s 183ms/step - loss: 0.0041\n",
      "Epoch 19/30\n",
      "87/87 [==============================] - 16s 186ms/step - loss: 0.0041\n",
      "Epoch 20/30\n",
      "87/87 [==============================] - 16s 184ms/step - loss: 0.0041\n",
      "Epoch 21/30\n",
      "87/87 [==============================] - 16s 188ms/step - loss: 0.0041\n",
      "Epoch 22/30\n",
      "87/87 [==============================] - 16s 187ms/step - loss: 0.0041\n",
      "Epoch 23/30\n",
      "87/87 [==============================] - 16s 186ms/step - loss: 0.0040\n",
      "Epoch 24/30\n",
      "87/87 [==============================] - 16s 184ms/step - loss: 0.0040\n",
      "Epoch 25/30\n",
      "87/87 [==============================] - 16s 185ms/step - loss: 0.0040\n",
      "Epoch 26/30\n",
      "87/87 [==============================] - 16s 187ms/step - loss: 0.0040\n",
      "Epoch 27/30\n",
      "87/87 [==============================] - 16s 186ms/step - loss: 0.0039\n",
      "Epoch 28/30\n",
      "87/87 [==============================] - 16s 186ms/step - loss: 0.0039\n",
      "Epoch 29/30\n",
      "87/87 [==============================] - 16s 185ms/step - loss: 0.0039\n",
      "Epoch 30/30\n",
      "87/87 [==============================] - 16s 186ms/step - loss: 0.0039\n"
     ]
    }
   ],
   "source": [
    "# （AE）数ヵ所の観測点から全体の推測\n",
    "# （モデル作成）\n",
    "model = Sequential()\n",
    "model.add(LSTM(units=128, activation='relu', return_sequences=True, input_shape=(x_train.shape[1],x_train.shape[2])))\n",
    "model.add(Dropout(0.2))\n",
    "# (Encoder)\n",
    "model.add(LSTM(64, activation='relu', return_sequences=False))\n",
    "# (Bridge)\n",
    "model.add(RepeatVector(x_train.shape[1]))\n",
    "model.add(LSTM(64, activation='relu', return_sequences=True))\n",
    "# (Decoder)\n",
    "model.add(LSTM(128, activation='relu', return_sequences=True))\n",
    "model.add(TimeDistributed(Dense(units=x_train.shape[2])))\n",
    "\n",
    "model.compile(optimizer='adam', loss='mean_squared_error')\n",
    "# モデルの視覚化\n",
    "from tensorflow.keras.utils import plot_model\n",
    "plot_model(model,show_shapes=True)\n",
    "history = model.fit(x_train, x_train, batch_size=8, epochs=30)"
   ]
  },
  {
   "cell_type": "code",
   "execution_count": 108,
   "id": "7e5e9583-5db3-4308-9569-98593f16d1f7",
   "metadata": {
    "scrolled": false
   },
   "outputs": [
    {
     "name": "stdout",
     "output_type": "stream",
     "text": [
      "Model: \"sequential_3\"\n",
      "_________________________________________________________________\n",
      " Layer (type)                Output Shape              Param #   \n",
      "=================================================================\n",
      " lstm_12 (LSTM)              (None, 24, 128)           8674816   \n",
      "                                                                 \n",
      " dropout_3 (Dropout)         (None, 24, 128)           0         \n",
      "                                                                 \n",
      " lstm_13 (LSTM)              (None, 64)                49408     \n",
      "                                                                 \n",
      " repeat_vector_3 (RepeatVect  (None, 24, 64)           0         \n",
      " or)                                                             \n",
      "                                                                 \n",
      " lstm_14 (LSTM)              (None, 24, 64)            33024     \n",
      "                                                                 \n",
      " lstm_15 (LSTM)              (None, 24, 128)           98816     \n",
      "                                                                 \n",
      " time_distributed_3 (TimeDis  (None, 24, 16814)        2169006   \n",
      " tributed)                                                       \n",
      "                                                                 \n",
      "=================================================================\n",
      "Total params: 11,025,070\n",
      "Trainable params: 11,025,070\n",
      "Non-trainable params: 0\n",
      "_________________________________________________________________\n"
     ]
    },
    {
     "data": {
      "image/png": "[encoded data removed]",
      "text/plain": [
       "<Figure size 640x480 with 1 Axes>"
      ]
     },
     "metadata": {},
     "output_type": "display_data"
    }
   ],
   "source": [
    "# モデルの概要\n",
    "model.summary()\n",
    "\n",
    "import matplotlib.pyplot as plt\n",
    "plt.plot(history.history['loss'], label='Train Loss')\n",
    "plt.title('model loss')\n",
    "plt.ylabel('loss')\n",
    "plt.xlabel('epochs')\n",
    "plt.legend(loc='upper right')\n",
    "plt.show()"
   ]
  },
  {
   "cell_type": "markdown",
   "id": "afe3e27b-d1ad-494b-a336-8a3822769406",
   "metadata": {},
   "source": [
    "# 検証"
   ]
  },
  {
   "cell_type": "code",
   "execution_count": 109,
   "id": "f528c055-41ba-4916-ae42-379bc1da04f9",
   "metadata": {},
   "outputs": [
    {
     "name": "stdout",
     "output_type": "stream",
     "text": [
      "720\n",
      "24\n"
     ]
    }
   ],
   "source": [
    "# データ構造を再確認 \n",
    "print(training_data_len)\n",
    "print(window_size)"
   ]
  },
  {
   "cell_type": "code",
   "execution_count": 110,
   "id": "93549ca9-e8d2-4473-9db6-3c5f593afbf7",
   "metadata": {},
   "outputs": [],
   "source": [
    "# テストデータを作成\n",
    "test_data = scaled_data[training_data_len - window_size: , :]"
   ]
  },
  {
   "cell_type": "code",
   "execution_count": 111,
   "id": "542fe50b-3dc0-44f5-aef1-3cf74792aad9",
   "metadata": {},
   "outputs": [
    {
     "data": {
      "text/plain": [
       "(24, 16814)"
      ]
     },
     "execution_count": 111,
     "metadata": {},
     "output_type": "execute_result"
    }
   ],
   "source": [
    "# テストデータの構造を確認\n",
    "test_data.shape"
   ]
  },
  {
   "cell_type": "code",
   "execution_count": 112,
   "id": "9975eca9",
   "metadata": {},
   "outputs": [],
   "source": [
    "x_test ={}\n",
    "# （正解判定用）\n",
    "y_test = timeseries_aug[window_size:, :]"
   ]
  },
  {
   "cell_type": "code",
   "execution_count": 113,
   "id": "3830cd87-410d-4738-aa57-e9c6cded4264",
   "metadata": {},
   "outputs": [
    {
     "data": {
      "text/plain": [
       "(696, 16814)"
      ]
     },
     "execution_count": 113,
     "metadata": {},
     "output_type": "execute_result"
    }
   ],
   "source": [
    "# 正解データの構造を確認\n",
    "y_test.shape"
   ]
  },
  {
   "cell_type": "code",
   "execution_count": 114,
   "id": "243d83a8",
   "metadata": {},
   "outputs": [],
   "source": [
    "# テスト用予測データ\n",
    "x_test = []\n",
    "for i in range(0, len(test_data)):\n",
    "    ##  timestep 24hの場合：0 → 24, 1 → 25 ・・・\n",
    "    x_test.append(test_data[i-window_size:i, :])"
   ]
  },
  {
   "cell_type": "code",
   "execution_count": 115,
   "id": "66f36a30-c099-4357-9130-a46266178629",
   "metadata": {},
   "outputs": [
    {
     "data": {
      "text/plain": [
       "array([], shape=(0, 16814), dtype=float64)"
      ]
     },
     "execution_count": 115,
     "metadata": {},
     "output_type": "execute_result"
    }
   ],
   "source": [
    "# データの確認（予測用）\n",
    "x_test[0]"
   ]
  },
  {
   "cell_type": "code",
   "execution_count": 116,
   "id": "0c183fa2",
   "metadata": {},
   "outputs": [
    {
     "data": {
      "text/plain": [
       "array([0., 0., 0., ..., 0., 0., 0.])"
      ]
     },
     "execution_count": 116,
     "metadata": {},
     "output_type": "execute_result"
    }
   ],
   "source": [
    "# データの確認（正解）\n",
    "y_test[0]"
   ]
  },
  {
   "cell_type": "code",
   "execution_count": 117,
   "id": "67120cfa",
   "metadata": {},
   "outputs": [
    {
     "name": "stdout",
     "output_type": "stream",
     "text": [
      "(24, 0, 16814)\n"
     ]
    }
   ],
   "source": [
    "# numpy_arrayに変換\n",
    "x_test = np.array(x_test)\n",
    "print(x_test.shape)"
   ]
  },
  {
   "cell_type": "code",
   "execution_count": 118,
   "id": "e240b777",
   "metadata": {},
   "outputs": [
    {
     "name": "stdout",
     "output_type": "stream",
     "text": [
      "22/22 [==============================] - 2s 57ms/step\n"
     ]
    }
   ],
   "source": [
    "# 予測実行\n",
    "predictions = model.predict(x_train)"
   ]
  },
  {
   "cell_type": "code",
   "execution_count": 119,
   "id": "aa69efcf",
   "metadata": {},
   "outputs": [
    {
     "name": "stdout",
     "output_type": "stream",
     "text": [
      "(696, 24, 16814)\n"
     ]
    },
    {
     "data": {
      "text/plain": [
       "array([[[ 7.17828516e-06, -6.73769508e-04,  2.26796861e-03, ...,\n",
       "         -2.78287660e-03,  1.28856231e-03,  5.81815280e-03],\n",
       "        [ 7.03112455e-04, -3.30961542e-03,  9.14974371e-04, ...,\n",
       "         -2.61206063e-03,  2.03201594e-03,  1.30928438e-02],\n",
       "        [ 1.27784570e-03, -4.75327298e-03, -1.61825097e-03, ...,\n",
       "         -2.15111068e-04,  4.20908397e-03,  1.75839663e-02],\n",
       "        ...,\n",
       "        [ 1.87778019e-03, -3.07758572e-04, -2.06965618e-02, ...,\n",
       "          1.93620473e-03, -2.27195956e-03, -2.91968626e-03],\n",
       "        [ 2.10442115e-04,  1.39489910e-03, -2.07841825e-02, ...,\n",
       "          3.25118843e-03, -7.71508436e-04, -2.59569311e-03],\n",
       "        [-4.56204871e-05, -1.03290426e-04, -1.03185540e-02, ...,\n",
       "         -1.93590764e-04,  1.26739545e-03,  3.15290736e-03]],\n",
       "\n",
       "       [[ 8.42831214e-05, -1.24291983e-03,  1.88527012e-03, ...,\n",
       "         -2.07922631e-03,  1.24320807e-03,  8.49450566e-03],\n",
       "        [ 1.14098447e-03, -4.75078821e-03,  2.65417504e-04, ...,\n",
       "         -7.93053186e-04,  3.73944640e-03,  1.50711276e-02],\n",
       "        [ 1.66840979e-03, -7.99553655e-03, -1.15083298e-03, ...,\n",
       "          3.76470620e-03,  8.38119909e-03,  1.87480636e-02],\n",
       "        ...,\n",
       "        [ 3.56580131e-05,  1.34388194e-03, -2.18830500e-02, ...,\n",
       "          3.06365360e-03,  1.03865913e-03, -2.06031231e-03],\n",
       "        [-1.25650549e-04, -3.42041720e-04, -9.09758639e-03, ...,\n",
       "         -5.84941823e-04,  2.65450915e-03,  4.21077292e-03],\n",
       "        [ 5.97825390e-04, -2.80858343e-03,  7.10980687e-03, ...,\n",
       "         -6.22089021e-03,  1.25555391e-03,  9.57412273e-03]],\n",
       "\n",
       "       [[ 3.17747123e-04, -2.28151912e-03,  1.75019423e-03, ...,\n",
       "         -7.44799036e-04,  2.28242530e-03,  9.23220254e-03],\n",
       "        [ 1.24318141e-03, -7.16914004e-03,  8.02967697e-04, ...,\n",
       "          3.06649646e-03,  7.16246432e-03,  1.66782606e-02],\n",
       "        [ 1.30339235e-03, -7.91507959e-03,  1.66978384e-03, ...,\n",
       "          1.07194837e-02,  1.26939509e-02,  2.10212134e-02],\n",
       "        ...,\n",
       "        [-1.89178158e-04, -3.81772406e-04, -8.86479206e-03, ...,\n",
       "         -4.16120049e-04,  4.27200506e-03,  4.81194071e-03],\n",
       "        [ 5.52717014e-04, -2.90221209e-03,  7.84886442e-03, ...,\n",
       "         -5.93701657e-03,  1.94520853e-03,  9.14449431e-03],\n",
       "        [ 5.22553106e-04, -2.89073354e-03,  8.78414419e-03, ...,\n",
       "         -6.80387719e-03,  1.16118812e-03,  1.28500853e-02]],\n",
       "\n",
       "       ...,\n",
       "\n",
       "       [[ 8.01045680e-05,  5.11742895e-04,  4.62284731e-03, ...,\n",
       "         -2.04001833e-03,  2.88680545e-04,  2.60555127e-04],\n",
       "        [ 3.71892937e-04, -6.87409658e-04,  6.01017196e-03, ...,\n",
       "         -1.94985035e-03,  9.51827271e-04,  5.39081229e-04],\n",
       "        [ 7.18401745e-04, -1.41717889e-03,  3.57224047e-03, ...,\n",
       "         -2.04127841e-03,  1.79897505e-03,  1.79598015e-03],\n",
       "        ...,\n",
       "        [ 4.45689191e-04, -8.59610364e-03,  6.69880211e-03, ...,\n",
       "         -2.84048473e-03,  8.07016343e-03, -3.48747429e-03],\n",
       "        [ 1.69385143e-03, -7.35502271e-03,  1.20113762e-02, ...,\n",
       "         -2.16657319e-03,  2.39291484e-03, -5.64506557e-03],\n",
       "        [ 3.00677819e-03, -6.01990893e-03,  1.89691484e-02, ...,\n",
       "         -1.03615352e-03, -1.42668269e-03, -7.33430265e-03]],\n",
       "\n",
       "       [[-4.61576856e-05,  4.28934814e-04,  4.73236619e-03, ...,\n",
       "         -2.09286879e-03,  4.47645551e-04,  4.08070395e-04],\n",
       "        [ 3.14799719e-04, -8.27400945e-04,  5.81646152e-03, ...,\n",
       "         -1.98613992e-03,  1.02232373e-03,  9.62926424e-04],\n",
       "        [ 5.94158890e-04, -1.61331869e-03,  3.79172876e-03, ...,\n",
       "         -2.23292434e-03,  1.83286774e-03,  2.26482959e-03],\n",
       "        ...,\n",
       "        [ 1.19203050e-03, -7.48050911e-03,  1.14864847e-02, ...,\n",
       "         -2.18591047e-03,  3.63075826e-03, -4.87563200e-03],\n",
       "        [ 2.60026241e-03, -5.94435446e-03,  1.85117163e-02, ...,\n",
       "         -1.24430284e-03, -9.17871599e-04, -7.27544865e-03],\n",
       "        [ 3.52213159e-03, -4.94919904e-03,  2.50974782e-02, ...,\n",
       "          4.66089696e-05, -3.16586578e-03, -7.85151310e-03]],\n",
       "\n",
       "       [[-1.18801836e-04,  3.05040274e-04,  4.67960723e-03, ...,\n",
       "         -2.16634735e-03,  6.63586194e-04,  5.28608973e-04],\n",
       "        [ 2.60116009e-04, -8.87650298e-04,  5.14872838e-03, ...,\n",
       "         -2.02436489e-03,  1.41705014e-03,  1.34870212e-03],\n",
       "        [ 5.34186489e-04, -1.78890303e-03,  3.68333608e-03, ...,\n",
       "         -2.35180091e-03,  2.20686197e-03,  2.73065083e-03],\n",
       "        ...,\n",
       "        [ 2.40096496e-03, -5.81179559e-03,  1.58468280e-02, ...,\n",
       "         -1.23743748e-03, -1.47453533e-03, -6.96509285e-03],\n",
       "        [ 3.55404103e-03, -4.56517190e-03,  2.36299019e-02, ...,\n",
       "          1.39462063e-04, -4.24371380e-03, -8.57492350e-03],\n",
       "        [ 3.67809925e-03, -4.06942610e-03,  2.57726535e-02, ...,\n",
       "          1.14580174e-03, -3.96722462e-03, -7.28503289e-03]]],\n",
       "      dtype=float32)"
      ]
     },
     "execution_count": 119,
     "metadata": {},
     "output_type": "execute_result"
    }
   ],
   "source": [
    "# 予測結果を確認\n",
    "print(predictions.shape)\n",
    "predictions"
   ]
  },
  {
   "cell_type": "code",
   "execution_count": 120,
   "id": "269997d9",
   "metadata": {},
   "outputs": [
    {
     "name": "stdout",
     "output_type": "stream",
     "text": [
      "(696, 16814)\n"
     ]
    },
    {
     "data": {
      "text/plain": [
       "array([[0., 0., 0., ..., 0., 0., 0.],\n",
       "       [0., 0., 0., ..., 0., 0., 0.],\n",
       "       [0., 0., 0., ..., 0., 0., 0.],\n",
       "       ...,\n",
       "       [0., 0., 0., ..., 0., 0., 0.],\n",
       "       [0., 0., 0., ..., 0., 0., 0.],\n",
       "       [0., 0., 0., ..., 0., 0., 0.]])"
      ]
     },
     "execution_count": 120,
     "metadata": {},
     "output_type": "execute_result"
    }
   ],
   "source": [
    "# 正解データを確認\n",
    "print(y_test.shape)\n",
    "y_test"
   ]
  },
  {
   "cell_type": "code",
   "execution_count": 121,
   "id": "933b3b4b",
   "metadata": {},
   "outputs": [],
   "source": [
    "# 結果をそれぞれ出力\n",
    "np.save(datedir+'/'+ npyname + '_predictions.npy', predictions)\n",
    "np.save(datedir+'/'+ npyname + '_y_test.npy', y_test)"
   ]
  },
  {
   "cell_type": "code",
   "execution_count": 122,
   "id": "d36ac586",
   "metadata": {},
   "outputs": [],
   "source": [
    "# モデルの保存　⇔ モデルの読込み model = load_model('traffic_pattern.h5')\n",
    "model.save(datedir+'/'+ npyname + '_model.h5')\n",
    "# import keras\n",
    "# model = keras.models.load_model('traffic_pattern_b.h5')"
   ]
  },
  {
   "cell_type": "code",
   "execution_count": null,
   "id": "25ae9216",
   "metadata": {},
   "outputs": [],
   "source": []
  },
  {
   "cell_type": "code",
   "execution_count": null,
   "id": "7da0e97b",
   "metadata": {},
   "outputs": [],
   "source": []
  }
 ],
 "metadata": {
  "kernelspec": {
   "display_name": "Python 3 (ipykernel)",
   "language": "python",
   "name": "python3"
  },
  "language_info": {
   "codemirror_mode": {
    "name": "ipython",
    "version": 3
   },
   "file_extension": ".py",
   "mimetype": "text/x-python",
   "name": "python",
   "nbconvert_exporter": "python",
   "pygments_lexer": "ipython3",
   "version": "3.9.15"
  }
 },
 "nbformat": 4,
 "nbformat_minor": 5
}
