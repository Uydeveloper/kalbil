{
 "cells": [
  {
   "cell_type": "code",
   "execution_count": 1,
   "id": "72c3dd0f",
   "metadata": {},
   "outputs": [],
   "source": [
    "import numpy as np\n",
    "import psycopg2\n",
    "import datetime\n",
    "import math"
   ]
  },
  {
   "cell_type": "code",
   "execution_count": 116,
   "id": "d8de06dc",
   "metadata": {},
   "outputs": [],
   "source": [
    "npyname = \"kddi_18_new_0316\"\n",
    "sttime = \"2022-04-01 18:00:00\""
   ]
  },
  {
   "cell_type": "code",
   "execution_count": 117,
   "id": "496cb426",
   "metadata": {},
   "outputs": [],
   "source": [
    "connection = psycopg2.connectconnection = psycopg2.connect(host=\"localhost\", database=\"analysisdb\", user=\"postgres\",password=\"setouchi1311\")"
   ]
  },
  {
   "cell_type": "code",
   "execution_count": 75,
   "id": "7d568484",
   "metadata": {},
   "outputs": [],
   "source": [
    "#道路情報に重なるメッシュIDをすべて取得\n",
    "sql = \"SELECT osm_id FROM roadmap\"\n",
    "cur =connection.cursor()\n",
    "cur.execute(sql)\n",
    "keylist = []\n",
    "for row in cur:\n",
    "    sql = \"SELECT a.grid_code\"\n",
    "    sql += \" FROM pointdata a , roadmap r \"\n",
    "    sql += \" WHERE ST_Distance(a.geom, r.geom) < 0.0013\" #0.001125 -> 125m  0.0013 -> 150m\n",
    "    sql += \" AND r.osm_id = \" + str(row[0])\n",
    "\n",
    "    cur2 =connection.cursor()\n",
    "    cur2.execute(sql)\n",
    "    childlist = []\n",
    "    for row2 in cur2:\n",
    "        childlist.append(row2[0])\n",
    "    cur2.close()\n",
    "    keylist.append([str(row[0]), childlist])\n",
    "cur.close()"
   ]
  },
  {
   "cell_type": "code",
   "execution_count": null,
   "id": "b32b3167",
   "metadata": {},
   "outputs": [],
   "source": [
    "#道路ID, メッシュID\n",
    "keylist"
   ]
  },
  {
   "cell_type": "code",
   "execution_count": 118,
   "id": "eaad280d",
   "metadata": {},
   "outputs": [
    {
     "data": {
      "text/plain": [
       "3715"
      ]
     },
     "execution_count": 118,
     "metadata": {},
     "output_type": "execute_result"
    }
   ],
   "source": [
    "len(keylist)"
   ]
  },
  {
   "cell_type": "code",
   "execution_count": 119,
   "id": "d6a94f44",
   "metadata": {},
   "outputs": [],
   "source": [
    "connection = psycopg2.connectconnection = psycopg2.connect(host=\"localhost\", database=\"analysisdb\", user=\"postgres\",password=\"setouchi1311\")"
   ]
  },
  {
   "cell_type": "code",
   "execution_count": null,
   "id": "ecf7884d",
   "metadata": {},
   "outputs": [],
   "source": [
    "#データが存在する道路IDごとに交通量を平均化して取得する\n",
    "cntDt = 0\n",
    "wks = \"\"\n",
    "wknp=\"\"\n",
    "find = 0\n",
    "dtstart = datetime.datetime.strptime(sttime, '%Y-%m-%d %H:%M:%S')\n",
    "\n",
    "cnts = 0\n",
    "for row in keylist:\n",
    "    cnts = cnts + 1\n",
    "    if wks == \"\":\n",
    "        wks = row[0]\n",
    "    elif wks != row[0]:\n",
    "        if cntDt != 0:\n",
    "            if find != 0:\n",
    "                a_1 = np.array([[wks, np.array(lstItems)]])\n",
    "                wknp = np.append(wknp, a_1, axis=0)\n",
    "            else:\n",
    "                find = 1\n",
    "                a_1 = np.array([[wks, np.array(lstItems)]])\n",
    "                wknp = a_1\n",
    "        wks = row[0]\n",
    "        cntDt = 0\n",
    "\n",
    "    lstItems = [-1, -1, -1, -1,  -1,-1, -1, -1,  -1, -1,-1, -1,   -1,-1, -1,-1,   -1,-1, -1, -1 ,  -1, -1, -1, -1,\n",
    "               -1, -1, -1, -1,  -1,-1, -1, -1,  -1, -1,-1, -1,   -1,-1, -1,-1,   -1,-1, -1, -1 ,  -1, -1, -1, -1,\n",
    "               -1, -1, -1, -1,  -1,-1, -1, -1,  -1, -1,-1, -1,   -1,-1, -1,-1,   -1,-1, -1, -1 ,  -1, -1, -1, -1,\n",
    "               -1, -1, -1, -1,  -1,-1, -1, -1,  -1, -1,-1, -1,   -1,-1, -1,-1,   -1,-1, -1, -1 ,  -1, -1, -1, -1]\n",
    "\n",
    "    print(row[0])\n",
    "    for meshid in row[1]:\n",
    "        \n",
    "        sql = \"SELECT times,tbran from \" + npyname + \" WHERE mesh = \" + meshid + \" order by times\"\n",
    "        cur =connection.cursor()\n",
    "        cur.execute(sql)\n",
    "        finds = 0\n",
    "        \n",
    "        for row2 in cur:\n",
    "            dtnow = datetime.datetime.strptime(str(row2[0]), '%Y-%m-%d %H:%M:%S')\n",
    "            dtdiff = dtnow - dtstart\n",
    "            finds = math.floor(dtdiff.seconds / 60 / 15)\n",
    "            if lstItems[finds] == -1:\n",
    "                lstItems[finds] = row2[1]\n",
    "            elif lstItems[finds] < row2[1]:\n",
    "                lstItems[finds] = row2[1]\n",
    "            cntDt = cntDt + 1\n",
    "        cur.close()\n",
    "if cntDt != 0:\n",
    "    if find != 0:\n",
    "        a_1 = np.array([[wks, np.array(lstItems)]])\n",
    "        wknp = np.append(wknp, a_1, axis=0)\n",
    "    else:\n",
    "        a_1 = np.array([[wks, np.array(lstItems)]])\n",
    "        wknp = a_1\n",
    "print(\"complete.\")\n"
   ]
  },
  {
   "cell_type": "code",
   "execution_count": 121,
   "id": "9af830bf",
   "metadata": {},
   "outputs": [],
   "source": [
    "connection.close()"
   ]
  },
  {
   "cell_type": "code",
   "execution_count": null,
   "id": "7fd756f2",
   "metadata": {},
   "outputs": [],
   "source": [
    "wknp"
   ]
  },
  {
   "cell_type": "code",
   "execution_count": 123,
   "id": "96acfbe2",
   "metadata": {},
   "outputs": [],
   "source": [
    "connection = psycopg2.connectconnection = psycopg2.connect(host=\"localhost\", database=\"analysisdb\", user=\"postgres\",password=\"setouchi1311\")"
   ]
  },
  {
   "cell_type": "code",
   "execution_count": 124,
   "id": "b6e98889",
   "metadata": {},
   "outputs": [],
   "source": [
    "np.savetxt(npyname + '_custom_0320_max.csv',wknp,fmt=\"%s\", delimiter='\\t')"
   ]
  },
  {
   "cell_type": "code",
   "execution_count": 125,
   "id": "628ed8b1",
   "metadata": {},
   "outputs": [],
   "source": [
    "sql = \"CREATE TABLE \" + npyname + \"_lastcustomsummary0320_max (times TIMESTAMP NULL DEFAULT NULL,osm_id BIGINT NULL DEFAULT NULL,tbran DOUBLE PRECISION NULL DEFAULT NULL )\"\n",
    "cur =connection.cursor()\n",
    "cur.execute(sql)\n",
    "cur.close()\n",
    "connection.commit()\n"
   ]
  },
  {
   "cell_type": "code",
   "execution_count": 126,
   "id": "c906e8de",
   "metadata": {},
   "outputs": [],
   "source": [
    "cur =connection.cursor()\n",
    "\n",
    "for items in wknp:\n",
    "    dte = datetime.datetime.strptime(sttime, '%Y-%m-%d %H:%M:%S')\n",
    "    for params in items[1]:\n",
    "        sql = \"INSERT INTO \" + npyname + \"_lastcustomsummary0320_max (times, osm_id,tbran) VALUES ('\"+ str(dte) + \"',\"  + str(items[0]) + \",\" + str(params) + \");\"\n",
    "        cur.execute(sql)\n",
    "        dte = dte + datetime.timedelta(minutes=15)\n",
    "cur.close()\n",
    "connection.commit()"
   ]
  },
  {
   "cell_type": "code",
   "execution_count": 127,
   "id": "049a725f",
   "metadata": {},
   "outputs": [],
   "source": [
    "#CreateGeojsonFile"
   ]
  },
  {
   "cell_type": "code",
   "execution_count": null,
   "id": "d0e4f180",
   "metadata": {},
   "outputs": [],
   "source": []
  }
 ],
 "metadata": {
  "kernelspec": {
   "display_name": "Python 3 (ipykernel)",
   "language": "python",
   "name": "python3"
  },
  "language_info": {
   "codemirror_mode": {
    "name": "ipython",
    "version": 3
   },
   "file_extension": ".py",
   "mimetype": "text/x-python",
   "name": "python",
   "nbconvert_exporter": "python",
   "pygments_lexer": "ipython3",
   "version": "3.9.15"
  }
 },
 "nbformat": 4,
 "nbformat_minor": 5
}
