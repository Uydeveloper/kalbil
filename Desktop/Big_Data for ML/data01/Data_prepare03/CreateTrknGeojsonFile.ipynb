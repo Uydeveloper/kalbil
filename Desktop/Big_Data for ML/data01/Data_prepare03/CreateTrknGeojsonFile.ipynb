{
 "cells": [
  {
   "cell_type": "code",
   "execution_count": 2,
   "id": "e0aa6032",
   "metadata": {},
   "outputs": [],
   "source": [
    "import psycopg2\n",
    "import datetime"
   ]
  },
  {
   "cell_type": "code",
   "execution_count": 5,
   "id": "514701f9",
   "metadata": {},
   "outputs": [],
   "source": [
    "connection = psycopg2.connectconnection = psycopg2.connect(host=\"localhost\", database=\"analysisdb\", user=\"postgres\",password=\"setouchi1311\")"
   ]
  },
  {
   "cell_type": "code",
   "execution_count": 21,
   "id": "b5482e25",
   "metadata": {},
   "outputs": [],
   "source": [
    "#geojson情報を作成する。\n",
    "sql = \"SELECT trakan2209.時刻,trakan2209.断面交通量,trakangeoload.multilinestring FROM trakangeoload \"\n",
    "sql += \"INNER JOIN roadmap on roadmap.osm_id = trakangeoload.osm_id \"\n",
    "sql += \"INNER JOIN trakanmap on trakanmap.gid = roadmap.gid \"\n",
    "sql += \"INNER JOIN trakan2209 on trakan2209.計測地点番号 = trakanmap.地点番号 \"\n",
    "sql += \"WHERE 時刻 < '2022-09-02 00:00:00' \"\n",
    "sql += \"ORDER BY trakan2209.時刻 \"\n",
    "\n",
    "cur =connection.cursor()\n",
    "cur.execute(sql)\n",
    "keylist = []\n",
    "for row in cur:\n",
    "    keylist.append([str(row[0]), str(row[1]), str(row[2])])\n",
    "cur.close()\n",
    "\n"
   ]
  },
  {
   "cell_type": "code",
   "execution_count": 9,
   "id": "a9775c39",
   "metadata": {},
   "outputs": [],
   "source": [
    "#geojson情報を作成する。\n",
    "sql = \"SELECT times,a.osm_id,max(tbran),trakangeoload.multilinestring \"\n",
    "sql += \" FROM kddi_1218_param_new_result_loadsummary  AS a \"\n",
    "sql += \" INNER JOIN trakangeoload on a.osm_id = trakangeoload.osm_id  \"\n",
    "sql += \" group BY times, a.osm_id,trakangeoload.multilinestring ORDER BY times, a.osm_id \"\n",
    "cur =connection.cursor()\n",
    "cur.execute(sql)\n",
    "keylist = []\n",
    "for row in cur:\n",
    "    keylist.append([str(row[0]), str(row[2]), str(row[3])])\n",
    "cur.close()\n",
    "\n"
   ]
  },
  {
   "cell_type": "code",
   "execution_count": null,
   "id": "da46e7c2",
   "metadata": {},
   "outputs": [],
   "source": [
    "keylist"
   ]
  },
  {
   "cell_type": "code",
   "execution_count": 11,
   "id": "75e74099",
   "metadata": {},
   "outputs": [],
   "source": [
    "f = open('leafletTL.geojson', 'w')\n",
    "find = 0\n",
    "f.write('{\\n')\n",
    "f.write('    \"type\": \"FeatureCollection\",\\n')\n",
    "f.write('    \"features\": [\\n')\n",
    "\n",
    "wk = \"\"\n",
    "for item in keylist:\n",
    "        if find != 0:\n",
    "            f.write('        ,\\n')\n",
    "        f.write('        {\\n')\n",
    "        f.write('           \"type\": \"Feature\",\\n')\n",
    "        f.write('           \"properties\": {\\n')\n",
    "        f.write('               \"start\": \"')\n",
    "        f.write(item[0])\n",
    "        dte = datetime.datetime.strptime(item[0], '%Y-%m-%d %H:%M:%S')\n",
    "        f.write('\",\\n')\n",
    "        f.write('               \"end\": \"')\n",
    "        dte = dte + datetime.timedelta(minutes=15)\n",
    "        f.write(str(dte))\n",
    "        f.write('\",\\n')\n",
    "        f.write('               \"colordata\":\"')\n",
    "        f.write(item[1])\n",
    "        f.write('\"\\n')\n",
    "        f.write('           },\\n')\n",
    "        f.write('           \"geometry\": {\\n')\n",
    "        f.write('               \"type\": \"MultiLineString\",\\n')\n",
    "        f.write('               \"coordinates\":\\n')\n",
    "        f.write('               ')\n",
    "        f.write(item[2])\n",
    "        f.write('           }\\n')\n",
    "        f.write('        }\\n')\n",
    "        find += 1\n",
    "        wk = item[0]\n",
    "f.write('    ]\\n')\n",
    "f.write('}\\n')\n",
    "f.close()\n"
   ]
  },
  {
   "cell_type": "code",
   "execution_count": 3,
   "id": "06c39e84",
   "metadata": {},
   "outputs": [],
   "source": [
    "sttime = \"2022-04-01 00:00:00\"\n",
    "\n",
    "f = open('leafletTL00-12.geojson', 'w')\n",
    "find = 0\n",
    "f.write('{\\n')\n",
    "f.write('    \"type\": \"FeatureCollection\",\\n')\n",
    "f.write('    \"features\": [\\n')\n",
    "\n",
    "wk = \"\"\n",
    "for i in range(30):\n",
    "    dte = datetime.datetime.strptime(sttime, '%Y-%m-%d %H:%M:%S')\n",
    "    if i != 0:\n",
    "        break\n",
    "        dte = dte + datetime.timedelta(days=i)\n",
    "    for j in range(48):\n",
    "        if find != 0:\n",
    "            f.write('        ,\\n')\n",
    "        f.write('        {\\n')\n",
    "        f.write('           \"type\": \"Feature\",\\n')\n",
    "        f.write('           \"properties\": {\\n')\n",
    "        f.write('               \"start\": \"')\n",
    "        f.write(str(dte))\n",
    "        f.write('\",\\n')\n",
    "        f.write('               \"end\": \"')\n",
    "        dte = dte + datetime.timedelta(minutes=15)\n",
    "        f.write(str(dte))\n",
    "        f.write('\"\\n')\n",
    "        f.write('           }\\n')\n",
    "        f.write('        }\\n')\n",
    "        find += 1\n",
    "f.write('    ]\\n')\n",
    "f.write('}\\n')\n",
    "f.close()\n"
   ]
  },
  {
   "cell_type": "code",
   "execution_count": null,
   "id": "5b06a225",
   "metadata": {},
   "outputs": [],
   "source": []
  }
 ],
 "metadata": {
  "kernelspec": {
   "display_name": "Python 3 (ipykernel)",
   "language": "python",
   "name": "python3"
  },
  "language_info": {
   "codemirror_mode": {
    "name": "ipython",
    "version": 3
   },
   "file_extension": ".py",
   "mimetype": "text/x-python",
   "name": "python",
   "nbconvert_exporter": "python",
   "pygments_lexer": "ipython3",
   "version": "3.9.15"
  }
 },
 "nbformat": 4,
 "nbformat_minor": 5
}
