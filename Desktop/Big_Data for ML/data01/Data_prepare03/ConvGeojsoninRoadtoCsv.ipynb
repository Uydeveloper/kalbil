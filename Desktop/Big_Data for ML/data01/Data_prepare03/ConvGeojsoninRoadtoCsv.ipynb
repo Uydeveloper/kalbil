{
 "cells": [
  {
   "cell_type": "code",
   "execution_count": 14,
   "id": "31660255",
   "metadata": {},
   "outputs": [],
   "source": [
    "import numpy as np\n",
    "import json\n",
    "with open(\"osm_road_single.geojson\") as f:\n",
    "    src = json.load(f) # 辞書型で取得"
   ]
  },
  {
   "cell_type": "code",
   "execution_count": 16,
   "id": "7e9eaec3",
   "metadata": {},
   "outputs": [
    {
     "name": "stdout",
     "output_type": "stream",
     "text": [
      "[['27755814'\n",
      "  list([[[132.69891110016727, 33.74275470016943], [132.7001027000797, 33.74209520033338], [132.7013840999964, 33.741396300299186], [132.7015260004248, 33.74129840010124], [132.70163080022144, 33.74119029979266], [132.7016833997693, 33.741107699760676], [132.7017398996768, 33.741012699876364], [132.70176770041917, 33.74092630020874], [132.70178260038688, 33.740818299724936], [132.70178249966284, 33.74070689980374], [132.701749900138, 33.74059559970732], [132.7016940000782, 33.74048150002136], [132.70149740018508, 33.74011030035024], [132.70114780043082, 33.73966409991846]]])]\n",
      " ['27755914'\n",
      "  list([[[132.68630309970843, 33.67201009978646], [132.68615960028546, 33.672759399626784], [132.68607889962175, 33.67344150032517], [132.6860310997556, 33.67414439964449], [132.68602839999085, 33.67466710000684], [132.68606630011982, 33.67519999958046], [132.6861193996907, 33.6756102001508], [132.68618480018858, 33.675989400190815], [132.68624220031745, 33.67622130027297], [132.68639940001253, 33.67680790016465], [132.6865189999521, 33.677157800292434], [132.68660879995628, 33.67736150033312], [132.68689619989993, 33.6779350996253], [132.6872480002952, 33.67854890041161], [132.68763059977255, 33.67909529970848], [132.6880523997986, 33.67962970025064], [132.6885139003964, 33.68012900025332], [132.68901990034828, 33.68063829981787], [132.68960309990337, 33.68111210044327], [132.69020540015924, 33.68150969971305], [132.69085989976475, 33.68190839975301], [132.6931576001433, 33.68314309967445], [132.6939623000203, 33.68362079976026], [132.69469190021118, 33.6841163001273], [132.6952872999691, 33.68460280007935], [132.69582380042823, 33.68512949972677], [132.6962957997116, 33.68563389978482], [132.6965962002546, 33.68601559994016], [132.69690089955702, 33.68646240021974]]])]\n",
      " ['27755921'\n",
      "  list([[[132.67462619973946, 33.64429010030807], [132.674993599775, 33.64466590001143], [132.67534800011026, 33.64499120008401], [132.67592709965606, 33.645397699944056], [132.6764421000231, 33.64579070008091], [132.67695710039004, 33.64614790000576], [132.67751500021723, 33.64657659963052], [132.67852349995974, 33.64736259990423], [132.6795770998035, 33.64833609983128]]])]\n",
      " ...\n",
      " ['1083697942'\n",
      "  list([[[132.7299033998222, 33.811042799685595], [132.72967900008598, 33.81107109955178], [132.72960319982803, 33.81112770018336]]])]\n",
      " ['1083697943'\n",
      "  list([[[132.72931639973228, 33.81149489967004], [132.72950740044632, 33.811461100449606], [132.7295923998695, 33.811416500371365]]])]\n",
      " ['1083697944'\n",
      "  list([[[132.7295923998695, 33.811416500371365], [132.7296778003904, 33.81146680035272], [132.72980770026538, 33.81150149979453]]])]]\n"
     ]
    },
    {
     "name": "stderr",
     "output_type": "stream",
     "text": [
      "C:\\Users\\BIGDATA_DEV\\AppData\\Local\\Temp\\ipykernel_16720\\3323598899.py:10: VisibleDeprecationWarning: Creating an ndarray from ragged nested sequences (which is a list-or-tuple of lists-or-tuples-or ndarrays with different lengths or shapes) is deprecated. If you meant to do this, you must specify 'dtype=object' when creating the ndarray.\n",
      "  a_1 = np.array([[osm_id, coordinates]])\n",
      "C:\\Users\\BIGDATA_DEV\\AppData\\Local\\Temp\\ipykernel_16720\\3323598899.py:6: VisibleDeprecationWarning: Creating an ndarray from ragged nested sequences (which is a list-or-tuple of lists-or-tuples-or ndarrays with different lengths or shapes) is deprecated. If you meant to do this, you must specify 'dtype=object' when creating the ndarray.\n",
      "  a_1 = np.array([[osm_id, coordinates]])\n"
     ]
    }
   ],
   "source": [
    "find = 0\n",
    "for item in src.get('features'):\n",
    "    osm_id = item.get('properties').get('osm_id')  \n",
    "    coordinates = item.get('geometry').get('coordinates') \n",
    "    if find != 0:\n",
    "        a_1 = np.array([[osm_id, coordinates]])\n",
    "        wknp = np.append(wknp, a_1, axis=0)\n",
    "    else:\n",
    "        find += 1\n",
    "        a_1 = np.array([[osm_id, coordinates]])\n",
    "        wknp = a_1"
   ]
  },
  {
   "cell_type": "code",
   "execution_count": 18,
   "id": "0d52186c",
   "metadata": {},
   "outputs": [],
   "source": [
    "np.savetxt('osm_road_single.csv',wknp,fmt=\"%s\", delimiter='\\t')"
   ]
  },
  {
   "cell_type": "code",
   "execution_count": null,
   "id": "9c850364",
   "metadata": {},
   "outputs": [],
   "source": []
  }
 ],
 "metadata": {
  "kernelspec": {
   "display_name": "Python 3 (ipykernel)",
   "language": "python",
   "name": "python3"
  },
  "language_info": {
   "codemirror_mode": {
    "name": "ipython",
    "version": 3
   },
   "file_extension": ".py",
   "mimetype": "text/x-python",
   "name": "python",
   "nbconvert_exporter": "python",
   "pygments_lexer": "ipython3",
   "version": "3.9.15"
  }
 },
 "nbformat": 4,
 "nbformat_minor": 5
}
