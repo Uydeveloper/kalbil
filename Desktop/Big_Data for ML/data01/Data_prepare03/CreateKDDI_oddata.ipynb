{
 "cells": [
  {
   "cell_type": "code",
   "execution_count": 10,
   "id": "e0aa6032",
   "metadata": {},
   "outputs": [],
   "source": [
    "import psycopg2\n",
    "import datetime"
   ]
  },
  {
   "cell_type": "code",
   "execution_count": 83,
   "id": "2cb82e82",
   "metadata": {},
   "outputs": [],
   "source": [
    "timestr = \"03:00:00\"\n",
    "times = \"0300\""
   ]
  },
  {
   "cell_type": "code",
   "execution_count": 84,
   "id": "514701f9",
   "metadata": {},
   "outputs": [],
   "source": [
    "connection = psycopg2.connectconnection = psycopg2.connect(host=\"localhost\", database=\"analysisdb\", user=\"postgres\",password=\"setouchi1311\")"
   ]
  },
  {
   "cell_type": "code",
   "execution_count": 85,
   "id": "ec1976eb",
   "metadata": {},
   "outputs": [],
   "source": [
    "sql = \"CREATE TABLE plist\"+times+\" (id SERIAL NOT NULL, \"\n",
    "sql += \"mesh BIGINT NULL DEFAULT NULL,\"\n",
    "sql += \"i INTEGER NULL DEFAULT NULL,\"\n",
    "sql += \"j INTEGER NULL DEFAULT NULL,\"\n",
    "sql += \"param REAL NULL DEFAULT NULL \"\n",
    "sql += \");\"\n",
    "\n",
    "cur =connection.cursor()\n",
    "cur.execute(sql)\n",
    "cur.close()\n",
    "connection.commit()"
   ]
  },
  {
   "cell_type": "code",
   "execution_count": 86,
   "id": "bca453b4",
   "metadata": {},
   "outputs": [],
   "source": [
    "#geojson情報を作成する。\n",
    "sql = \"SELECT tb_uni.start_mesh_area,  tb_uni.stI, tb_uni.stJ, SUM( tb_uni.param ) AS summ FROM \"\n",
    "sql += \"( \"\n",
    "sql += \"SELECT distinct start_mesh_area,  st.i AS stI, st.j AS stJ, cast(kddi_location_0127.population AS FLOAT )  * -1 AS param \"\n",
    "sql += \"FROM kddi_location_0127 \"\n",
    "sql += \"INNER JOIN pointdata_index AS st ON st.mesh = kddi_location_0127.start_mesh_area \"\n",
    "sql += \"WHERE yyyymmdd = 20220401 AND end_time = '\"+timestr+\"' and odroutetype = 'S' \"\n",
    "sql += \"UNION \"\n",
    "sql += \"SELECT distinct end_mesh_area,  ed.i AS edI, ed.j AS edJ, cast(kddi_location_0127.population AS FLOAT ) AS param \"\n",
    "sql += \"FROM kddi_location_0127  \"\n",
    "sql += \"INNER JOIN pointdata_index AS ed ON ed.mesh = kddi_location_0127.end_mesh_area \"\n",
    "sql += \"WHERE yyyymmdd = 20220401 AND end_time = '\"+timestr+\"' and odroutetype = 'S'  \"\n",
    "sql += \") as tb_uni \"\n",
    "sql += \"GROUP BY tb_uni.start_mesh_area,  tb_uni.stI, tb_uni.stJ \"\n",
    "sql += \"ORDER BY tb_uni.start_mesh_area \"\n",
    "cur =connection.cursor()\n",
    "#print(sql)\n",
    "cur.execute(sql)\n",
    "result = cur.fetchall()\n",
    "for row in result:\n",
    "    sql = \"INSERT INTO plist\"+times+\"(id,mesh,i,j,param) VALUES(DEFAULT,\"+str(row[0])+\",\"+str(row[1])+\",\"+str(row[2])+\",\"+str(row[3])+\");\" \n",
    "    cur.execute(sql)\n",
    "connection.commit()\n",
    "cur.close()"
   ]
  },
  {
   "cell_type": "code",
   "execution_count": 87,
   "id": "dd0a8ada",
   "metadata": {},
   "outputs": [],
   "source": [
    "f = open('test'+times+'.json', 'w')\n",
    "find = 0\n",
    "f.write('{\\n')\n",
    "f.write('    \"nodes\": [\\n')\n",
    "\n",
    "sql = \"SELECT  'n' || id AS id ,i ,j,param,mesh FROM plist\"+times+\" \"\n",
    "cur =connection.cursor()\n",
    "cur.execute(sql)\n",
    "finda=0\n",
    "findb=0\n",
    "for row in cur:\n",
    "    if find != 0:\n",
    "        f.write(',')\n",
    "    f.write('        {\\n')\n",
    "    f.write('            \"id\": \"' + str(row[0]) + '\",\\n')\n",
    "    f.write('            \"label\": \"' + str(row[3]) + '\",\\n')\n",
    "    f.write('            \"x\": ' + str(row[2]) + ',\\n')\n",
    "    f.write('            \"y\": ' + str(row[1]) + ',\\n')\n",
    "    if str(row[4]) == '50326611134':\n",
    "        finda = 1\n",
    "        f.write('            \"size\": 2\\n')\n",
    "    elif str(row[4]) == '50326610134':\n",
    "        findb = 1\n",
    "        f.write('            \"size\": 2\\n')\n",
    "    else:\n",
    "        f.write('            \"size\": 1\\n')\n",
    "    f.write('        }\\n')\n",
    "    find = find + 1\n",
    "\n",
    "if finda == 0:\n",
    "    if find != 0:\n",
    "        f.write(',')\n",
    "    f.write('        {\\n')\n",
    "    f.write('            \"id\": \"50326611134\",\\n')\n",
    "    f.write('            \"label\": \"99999\",\\n')\n",
    "    f.write('            \"x\": 175,\\n')\n",
    "    f.write('            \"y\": 219,\\n')\n",
    "    f.write('            \"size\": 2\\n')\n",
    "    f.write('        }\\n')\n",
    "\n",
    "if findb == 0:\n",
    "    if find != 0:\n",
    "        f.write(',')\n",
    "    f.write('        {\\n')\n",
    "    f.write('            \"id\": \"50326610134\",\\n')\n",
    "    f.write('            \"label\": \"88888\",\\n')\n",
    "    f.write('            \"x\": 167,\\n')\n",
    "    f.write('            \"y\": 219,\\n')\n",
    "    f.write('            \"size\": 2\\n')\n",
    "    f.write('        }\\n')\n",
    "f.write('    ],\\n')\n",
    "cur.close()\n"
   ]
  },
  {
   "cell_type": "code",
   "execution_count": 88,
   "id": "ef4702e4",
   "metadata": {},
   "outputs": [],
   "source": [
    "#geojson情報を作成する。\n",
    "sql = \"SELECT kddi_location_0127.population, pst15.id AS source, ped15.id AS target, kddi_location_0127.start_time \"\n",
    "sql += \"FROM kddi_location_0127 \"\n",
    "sql += \"INNER JOIN pointdata_index AS st ON st.mesh = kddi_location_0127.start_mesh_area \"\n",
    "sql += \"INNER JOIN plist\"+times+\" AS pst15 ON st.mesh = pst15.mesh \"\n",
    "sql += \"INNER JOIN pointdata_index AS ed ON ed.mesh = kddi_location_0127.end_mesh_area \"\n",
    "sql += \"INNER JOIN plist\"+times+\" AS ped15 ON ed.mesh = ped15.mesh \"\n",
    "sql += \"WHERE yyyymmdd = 20220401 AND end_time = '\"+timestr+\"' and odroutetype = 'S' \"\n",
    "cur =connection.cursor()\n",
    "cur.execute(sql)\n",
    "find = 0\n",
    "f.write('    \"edges\": [\\n')\n",
    "for row in cur:\n",
    "    if find != 0:\n",
    "        f.write(',')\n",
    "    f.write('        {\\n')\n",
    "    f.write('            \"id\": \"e' + str(find) + '\",\\n')\n",
    "    f.write('            \"type\": \"arrow\",\\n')\n",
    "    f.write('            \"source\": \"n' + str(row[1]) + '\",\\n')\n",
    "    f.write('            \"target\": \"n' + str(row[2]) + '\",\\n')\n",
    "    f.write('            \"label\": \"' + str(row[0]) +'*' + str(row[3]) + '\"\\n')\n",
    "    f.write('        }\\n')\n",
    "    find = find + 1\n",
    "f.write('    ]\\n')\n",
    "f.write('}\\n')\n",
    "cur.close()\n",
    "f.close()"
   ]
  },
  {
   "cell_type": "code",
   "execution_count": null,
   "id": "996e19ec",
   "metadata": {},
   "outputs": [],
   "source": []
  },
  {
   "cell_type": "code",
   "execution_count": null,
   "id": "85bff8fd",
   "metadata": {},
   "outputs": [],
   "source": []
  }
 ],
 "metadata": {
  "kernelspec": {
   "display_name": "Python 3 (ipykernel)",
   "language": "python",
   "name": "python3"
  },
  "language_info": {
   "codemirror_mode": {
    "name": "ipython",
    "version": 3
   },
   "file_extension": ".py",
   "mimetype": "text/x-python",
   "name": "python",
   "nbconvert_exporter": "python",
   "pygments_lexer": "ipython3",
   "version": "3.9.15"
  }
 },
 "nbformat": 4,
 "nbformat_minor": 5
}
