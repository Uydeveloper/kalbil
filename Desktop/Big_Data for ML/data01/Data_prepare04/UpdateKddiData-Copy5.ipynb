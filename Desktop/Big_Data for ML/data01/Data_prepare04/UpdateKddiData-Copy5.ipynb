{
 "cells": [
  {
   "cell_type": "code",
   "execution_count": 1,
   "id": "6fd65a56",
   "metadata": {},
   "outputs": [],
   "source": [
    "# ライブラリのインポート\n",
    "import numpy as np\n",
    "import pandas as pd\n",
    "import psycopg2\n",
    "import datetime"
   ]
  },
  {
   "cell_type": "code",
   "execution_count": 2,
   "id": "894aae8f",
   "metadata": {
    "scrolled": true
   },
   "outputs": [],
   "source": [
    "filename = 'trkn12.csv'\n",
    "dbname = 'kddi_12_new_marge'\n",
    "df_csv = pd.read_csv(filename)"
   ]
  },
  {
   "cell_type": "code",
   "execution_count": 3,
   "id": "a1cc1f92",
   "metadata": {},
   "outputs": [
    {
     "data": {
      "text/html": [
       "<div>\n",
       "<style scoped>\n",
       "    .dataframe tbody tr th:only-of-type {\n",
       "        vertical-align: middle;\n",
       "    }\n",
       "\n",
       "    .dataframe tbody tr th {\n",
       "        vertical-align: top;\n",
       "    }\n",
       "\n",
       "    .dataframe thead th {\n",
       "        text-align: right;\n",
       "    }\n",
       "</style>\n",
       "<table border=\"1\" class=\"dataframe\">\n",
       "  <thead>\n",
       "    <tr style=\"text-align: right;\">\n",
       "      <th></th>\n",
       "      <th>times</th>\n",
       "      <th>mesh</th>\n",
       "      <th>tbran</th>\n",
       "      <th>stmesh</th>\n",
       "      <th>edmesh</th>\n",
       "    </tr>\n",
       "  </thead>\n",
       "  <tbody>\n",
       "    <tr>\n",
       "      <th>0</th>\n",
       "      <td>2022-04-01 12:00:00</td>\n",
       "      <td>50324526133</td>\n",
       "      <td>29.600000</td>\n",
       "      <td>50324526341</td>\n",
       "      <td>50324526133</td>\n",
       "    </tr>\n",
       "    <tr>\n",
       "      <th>1</th>\n",
       "      <td>2022-04-01 12:00:00</td>\n",
       "      <td>50324526134</td>\n",
       "      <td>28.011983</td>\n",
       "      <td>50324526341</td>\n",
       "      <td>50324526133</td>\n",
       "    </tr>\n",
       "    <tr>\n",
       "      <th>2</th>\n",
       "      <td>2022-04-01 12:00:00</td>\n",
       "      <td>50324526311</td>\n",
       "      <td>27.906301</td>\n",
       "      <td>50324526341</td>\n",
       "      <td>50324526133</td>\n",
       "    </tr>\n",
       "    <tr>\n",
       "      <th>3</th>\n",
       "      <td>2022-04-01 12:00:00</td>\n",
       "      <td>50324526312</td>\n",
       "      <td>25.863882</td>\n",
       "      <td>50324526341</td>\n",
       "      <td>50324526133</td>\n",
       "    </tr>\n",
       "    <tr>\n",
       "      <th>4</th>\n",
       "      <td>2022-04-01 12:00:00</td>\n",
       "      <td>50324526314</td>\n",
       "      <td>24.039343</td>\n",
       "      <td>50324526341</td>\n",
       "      <td>50324526133</td>\n",
       "    </tr>\n",
       "    <tr>\n",
       "      <th>...</th>\n",
       "      <td>...</td>\n",
       "      <td>...</td>\n",
       "      <td>...</td>\n",
       "      <td>...</td>\n",
       "      <td>...</td>\n",
       "    </tr>\n",
       "    <tr>\n",
       "      <th>1219675</th>\n",
       "      <td>2022-04-30 17:45:00</td>\n",
       "      <td>51320614324</td>\n",
       "      <td>63.000000</td>\n",
       "      <td>51320625324</td>\n",
       "      <td>50327691223</td>\n",
       "    </tr>\n",
       "    <tr>\n",
       "      <th>1219676</th>\n",
       "      <td>2022-04-30 17:45:00</td>\n",
       "      <td>51320614342</td>\n",
       "      <td>63.000000</td>\n",
       "      <td>51320625324</td>\n",
       "      <td>50327691223</td>\n",
       "    </tr>\n",
       "    <tr>\n",
       "      <th>1219677</th>\n",
       "      <td>2022-04-30 17:45:00</td>\n",
       "      <td>51320614413</td>\n",
       "      <td>63.000000</td>\n",
       "      <td>51320625324</td>\n",
       "      <td>50327691223</td>\n",
       "    </tr>\n",
       "    <tr>\n",
       "      <th>1219678</th>\n",
       "      <td>2022-04-30 17:45:00</td>\n",
       "      <td>51320614431</td>\n",
       "      <td>63.000000</td>\n",
       "      <td>51320625324</td>\n",
       "      <td>50327691223</td>\n",
       "    </tr>\n",
       "    <tr>\n",
       "      <th>1219679</th>\n",
       "      <td>2022-04-30 17:45:00</td>\n",
       "      <td>51320614433</td>\n",
       "      <td>63.000000</td>\n",
       "      <td>51320625324</td>\n",
       "      <td>50327691223</td>\n",
       "    </tr>\n",
       "  </tbody>\n",
       "</table>\n",
       "<p>1219680 rows × 5 columns</p>\n",
       "</div>"
      ],
      "text/plain": [
       "                       times         mesh      tbran       stmesh       edmesh\n",
       "0        2022-04-01 12:00:00  50324526133  29.600000  50324526341  50324526133\n",
       "1        2022-04-01 12:00:00  50324526134  28.011983  50324526341  50324526133\n",
       "2        2022-04-01 12:00:00  50324526311  27.906301  50324526341  50324526133\n",
       "3        2022-04-01 12:00:00  50324526312  25.863882  50324526341  50324526133\n",
       "4        2022-04-01 12:00:00  50324526314  24.039343  50324526341  50324526133\n",
       "...                      ...          ...        ...          ...          ...\n",
       "1219675  2022-04-30 17:45:00  51320614324  63.000000  51320625324  50327691223\n",
       "1219676  2022-04-30 17:45:00  51320614342  63.000000  51320625324  50327691223\n",
       "1219677  2022-04-30 17:45:00  51320614413  63.000000  51320625324  50327691223\n",
       "1219678  2022-04-30 17:45:00  51320614431  63.000000  51320625324  50327691223\n",
       "1219679  2022-04-30 17:45:00  51320614433  63.000000  51320625324  50327691223\n",
       "\n",
       "[1219680 rows x 5 columns]"
      ]
     },
     "execution_count": 3,
     "metadata": {},
     "output_type": "execute_result"
    }
   ],
   "source": [
    "df_csv"
   ]
  },
  {
   "cell_type": "code",
   "execution_count": 4,
   "id": "aa42a8ba",
   "metadata": {},
   "outputs": [],
   "source": [
    "connection = psycopg2.connectconnection = psycopg2.connect(host=\"localhost\", database=\"analysisdb\", user=\"postgres\",password=\"setouchi1311\")"
   ]
  },
  {
   "cell_type": "code",
   "execution_count": 5,
   "id": "8a94f73c",
   "metadata": {
    "scrolled": false
   },
   "outputs": [
    {
     "name": "stdout",
     "output_type": "stream",
     "text": [
      "cnt=900000\n",
      "cnt=910000\n",
      "cnt=920000\n",
      "cnt=930000\n",
      "cnt=940000\n",
      "cnt=950000\n",
      "cnt=960000\n",
      "cnt=970000\n",
      "cnt=980000\n",
      "cnt=990000\n",
      "cnt=1000000\n",
      "cnt=1010000\n",
      "cnt=1020000\n",
      "cnt=1030000\n",
      "cnt=1040000\n",
      "cnt=1050000\n",
      "cnt=1060000\n",
      "cnt=1070000\n",
      "cnt=1080000\n",
      "cnt=1090000\n"
     ]
    }
   ],
   "source": [
    "cur =connection.cursor()\n",
    "i = 0\n",
    "for item in df_csv.values:\n",
    "    if i < 900000:\n",
    "        i = i + 1\n",
    "        continue\n",
    "    if i >= 1100000:\n",
    "        break\n",
    "    sql = \"UPDATE \" + dbname + \" set tbran = \"+ str(item[2]) + \" \"\n",
    "    sql += \"WHERE mesh = '\" + str(item[1]) + \"' and times ='\" + str(item[0]) + \"'\"\n",
    "    cur.execute(sql)\n",
    "    #connection.commit()\n",
    "    #print(sql)\n",
    "    if i % 10000 == 0:\n",
    "        connection.commit()\n",
    "        print(\"cnt=\"+str(i))\n",
    "    i = i + 1\n",
    "cur.close()\n"
   ]
  },
  {
   "cell_type": "code",
   "execution_count": 6,
   "id": "2115817e",
   "metadata": {},
   "outputs": [],
   "source": [
    "connection.close()"
   ]
  },
  {
   "cell_type": "code",
   "execution_count": 7,
   "id": "454a73ad",
   "metadata": {},
   "outputs": [],
   "source": [
    "#ConvertMeshtoRoad"
   ]
  },
  {
   "cell_type": "code",
   "execution_count": null,
   "id": "840adaae",
   "metadata": {},
   "outputs": [],
   "source": []
  }
 ],
 "metadata": {
  "kernelspec": {
   "display_name": "Python 3 (ipykernel)",
   "language": "python",
   "name": "python3"
  },
  "language_info": {
   "codemirror_mode": {
    "name": "ipython",
    "version": 3
   },
   "file_extension": ".py",
   "mimetype": "text/x-python",
   "name": "python",
   "nbconvert_exporter": "python",
   "pygments_lexer": "ipython3",
   "version": "3.9.15"
  }
 },
 "nbformat": 4,
 "nbformat_minor": 5
}
