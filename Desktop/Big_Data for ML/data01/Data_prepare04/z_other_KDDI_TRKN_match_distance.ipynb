{
 "cells": [
  {
   "cell_type": "code",
   "execution_count": null,
   "id": "2b3d50c9",
   "metadata": {},
   "outputs": [],
   "source": [
    "#トラカンの最近傍の値と距離を計算し、マッチさせていく(検証版2)"
   ]
  },
  {
   "cell_type": "code",
   "execution_count": 1,
   "id": "6fd65a56",
   "metadata": {},
   "outputs": [],
   "source": [
    "# ライブラリのインポート\n",
    "import numpy as np\n",
    "import pandas as pd\n",
    "import psycopg2\n",
    "import datetime"
   ]
  },
  {
   "cell_type": "code",
   "execution_count": 17,
   "id": "03ba6d6f",
   "metadata": {},
   "outputs": [],
   "source": [
    "dbname = \"kddi_18_param_custom2\"\n",
    "npyname = \"trkn_distance\"\n",
    "datedir = \"230120\"\n",
    "sttime = \"2022-04-01 18:00:00\""
   ]
  },
  {
   "cell_type": "code",
   "execution_count": 150,
   "id": "df8354be",
   "metadata": {},
   "outputs": [],
   "source": [
    "connection = psycopg2.connectconnection = psycopg2.connect(host=\"localhost\", database=\"analysisdb\", user=\"postgres\",password=\"setouchi1311\")"
   ]
  },
  {
   "cell_type": "code",
   "execution_count": null,
   "id": "454a73ad",
   "metadata": {},
   "outputs": [],
   "source": [
    "#特定日付のトラカンデータを全取得 > 緯度経度\n",
    "cur =connection.cursor()\n",
    "sql = \"SELECT trakanmap.gridcode, 断面交通量,pointdata.latitude,pointdata.longitude , trakanmap.geom FROM trakan2204 \"\n",
    "sql += \"INNER JOIN trakanmap ON trakan2204.計測地点番号 = trakanmap.地点番号 \"\n",
    "sql += \"INNER JOIN pointdata ON trakanmap.gridcode = pointdata.grid_code \"\n",
    "sql += \"WHERE 時刻 = '\"+sttime+\"' AND trakanmap.gridcode != '0' \"\n",
    "sql += \"ORDER BY trakanmap.gridcode\"\n",
    "cur.execute(sql)\n",
    "trknDf = pd.DataFrame(cur.fetchall())\n",
    "cur.close()"
   ]
  },
  {
   "cell_type": "code",
   "execution_count": 81,
   "id": "93b035e9",
   "metadata": {},
   "outputs": [],
   "source": [
    "#特定日付のKDDIメッシュ情報を全取得\n",
    "cur =connection.cursor()\n",
    "sql = \"SELECT mesh, tbran,pointdata.latitude,pointdata.longitude FROM kddi_18_param  \"\n",
    "sql += \"INNER JOIN pointdata ON mesh = cast(pointdata.grid_code AS BIGINT)  \"\n",
    "sql += \"WHERE times = '\"+sttime+\"' AND pointdata.grid_code != '0'  ORDER BY mesh \"\n",
    "cur.execute(sql)\n",
    "kddiDf = pd.DataFrame.from_records(cur.fetchall(), columns=[\"mesh\",\"tbran\",\"latitude\",\"longitude\"])\n",
    "cur.close()"
   ]
  },
  {
   "cell_type": "code",
   "execution_count": 152,
   "id": "aa13b4db",
   "metadata": {},
   "outputs": [
    {
     "ename": "TypeError",
     "evalue": "unsupported operand type(s) for +: 'NoneType' and 'int'",
     "output_type": "error",
     "traceback": [
      "\u001b[1;31m---------------------------------------------------------------------------\u001b[0m",
      "\u001b[1;31mTypeError\u001b[0m                                 Traceback (most recent call last)",
      "Cell \u001b[1;32mIn[152], line 37\u001b[0m\n\u001b[0;32m     35\u001b[0m nearAngle \u001b[38;5;241m=\u001b[39m nearRow[\u001b[38;5;241m5\u001b[39m]\n\u001b[0;32m     36\u001b[0m \u001b[38;5;66;03m#逆向きに置換\u001b[39;00m\n\u001b[1;32m---> 37\u001b[0m \u001b[38;5;28;01mif\u001b[39;00m (\u001b[43mnearAngle\u001b[49m\u001b[43m \u001b[49m\u001b[38;5;241;43m+\u001b[39;49m\u001b[43m \u001b[49m\u001b[38;5;241;43m180\u001b[39;49m) \u001b[38;5;241m>\u001b[39m\u001b[38;5;241m=\u001b[39m \u001b[38;5;241m360\u001b[39m:\n\u001b[0;32m     38\u001b[0m     nearAngle \u001b[38;5;241m=\u001b[39m nearAngle \u001b[38;5;241m-\u001b[39m \u001b[38;5;241m180\u001b[39m\n\u001b[0;32m     39\u001b[0m \u001b[38;5;28;01melse\u001b[39;00m:\n",
      "\u001b[1;31mTypeError\u001b[0m: unsupported operand type(s) for +: 'NoneType' and 'int'"
     ]
    }
   ],
   "source": [
    "curwrite =connection.cursor()\n",
    "\n",
    "#KDDIをループ\n",
    "for kddiIndex, kddiRow in kddiDf.iterrows():\n",
    "    kddilat = str(kddiRow[2])\n",
    "    kddilng = str(kddiRow[3])\n",
    "    #print(str(kddiRow[0]))\n",
    "    #直近のトラカンの位置と、その角度を求める\n",
    "    cur =connection.cursor()\n",
    "    sql = \"SELECT trakanmap.gridcode, pointdata.latitude,pointdata.longitude,断面交通量,\"\n",
    "    sql += \"ST_Distance( pointdata.geom, ST_GeographyFromText('SRID=4612;POINT(\"+kddilng+\" \"+kddilat+\")')) AS distance , \"\n",
    "    sql += \"st_azimuth(pointdata.geom, ST_GeographyFromText('SRID=4612;POINT(\"+kddilng+\" \"+kddilat+\")')) /(2*pi())*360 AS angle \"\n",
    "    sql += \"FROM trakan2204 \"\n",
    "    sql += \"INNER JOIN trakanmap ON trakan2204.計測地点番号 = trakanmap.地点番号 \"\n",
    "    sql += \"INNER JOIN pointdata on pointdata.grid_code = trakanmap.gridcode \"\n",
    "    sql += \"WHERE ST_DWithin(pointdata.geom, ST_GeographyFromText('SRID=4612;POINT(\"+kddilng+\" \"+kddilat+\")'), 1000000.0) \"\n",
    "    sql += \"and 時刻 = '\"+sttime+\"' AND trakanmap.gridcode != '0' \"\n",
    "    sql += \"ORDER BY distance limit 1\"\n",
    "    cur.execute(sql)\n",
    "    nearDf = pd.DataFrame(cur.fetchall())\n",
    "    cur.close()\n",
    "    finds = 0\n",
    "    for nearIndex, nearRow in nearDf.iterrows():\n",
    "        nearGrd = str(nearRow[0])\n",
    "        kddiParam = kddiDf.query('mesh == '+nearGrd)\n",
    "        if len(kddiParam) == 0:\n",
    "            print(nearGrd + \" is kddi none!\")\n",
    "            continue\n",
    "        finds = 1\n",
    "        print(nearRow)\n",
    "        nearTbran = kddiParam['tbran'].iloc[-1] #kddi\n",
    "        nearlat = str(nearRow[1])\n",
    "        nearlng = str(nearRow[2])\n",
    "        nearDanmen = nearRow[3] #trkn\n",
    "        nearDst = nearRow[4]\n",
    "        nearAngle = nearRow[5]\n",
    "        #逆向きに置換\n",
    "        if (nearAngle + 180) >= 360:\n",
    "            nearAngle = nearAngle - 180\n",
    "        else:\n",
    "            nearAngle = nearAngle + 180\n",
    "        nearAngle = str(nearAngle)\n",
    "        \n",
    "        #直近のトラカン位置から半径5kmのトラカン位置と角度を求める\n",
    "        cur =connection.cursor()\n",
    "        sql = \"SELECT trakanmap.gridcode, pointdata.latitude,pointdata.longitude,断面交通量, \"\n",
    "        sql += \"ST_Distance( pointdata.geom, ST_GeographyFromText('SRID=4612;POINT(\"+nearlng+\" \"+nearlat+\")')) AS distance , \"\n",
    "        sql += \"abs(st_azimuth(pointdata.geom, ST_GeographyFromText('SRID=4612;POINT(\"+nearlng+\" \"+nearlat+\")')) /(2*pi())*360 - \" + nearAngle  + \") AS angle \"\n",
    "        sql += \"FROM trakan2204 \"\n",
    "        sql += \"INNER JOIN trakanmap ON trakan2204.計測地点番号 = trakanmap.地点番号 \"\n",
    "        sql += \"INNER JOIN pointdata on pointdata.grid_code = trakanmap.gridcode \"\n",
    "        sql += \"WHERE ST_DWithin(pointdata.geom, ST_GeographyFromText('SRID=4612;POINT(\"+nearlng+\" \"+nearlat+\")'), 5000.0) \"\n",
    "        sql += \"and trakanmap.gridcode <> '\" +nearGrd+ \"' AND 時刻 = '\"+sttime+\"' AND trakanmap.gridcode != '0' \"\n",
    "        sql += \"ORDER BY angle limit 1\"\n",
    "        cur.execute(sql)\n",
    "        areatrknDf = pd.DataFrame(cur.fetchall())\n",
    "        cur.close()\n",
    "        \n",
    "        find = 0\n",
    "        for areatrknIndex, areatrknRow in areatrknDf.iterrows():\n",
    "            if len(kddiParam) == 0:\n",
    "                print(\"kddiPtParam is zero\")\n",
    "                break\n",
    "            kddiParam = kddiDf.query('mesh == '+areatrknRow[0])\n",
    "            nextTbran = kddiParam['tbran'].iloc[-1] #kddi\n",
    "            nextDanmen = areatrknRow[3]  #trkn\n",
    "            nextDst = areatrknRow[4] \n",
    "            find = 1\n",
    "        \n",
    "        if find == 0:\n",
    "            print(\"trkn data none!\")\n",
    "        #pprint(\"baseTbran = \" + str(kddiRow[1]))\n",
    "        #pprint(\"nearTbran = \" + str(nearTbran))\n",
    "        #pprint(\"nextTbran = \" + str(nextTbran))\n",
    "        #print(\"nearDanmen = \" + str(nearDanmen))\n",
    "        #print(\"nextDanmen = \" + str(nextDanmen))\n",
    "        #print(\"nearDst = \" + str(nearDst))\n",
    "        #print(\"nextDst = \" + str(nextDst))\n",
    "\n",
    "        #断面が大きいほうから小さいほうを引いて差を求める\n",
    "        diffDanmen = 0\n",
    "        baseDanmen = 0\n",
    "        if nearDanmen > nextDanmen:\n",
    "            diffDanmen = nearDanmen - nextDanmen\n",
    "            baseDanmen = nextDanmen\n",
    "        else:\n",
    "            baseDanmen = nearDanmen\n",
    "            diffDanmen = nextDanmen - nearDanmen\n",
    "\n",
    "        #比率から加算値を求める\n",
    "        diffDist = round(nearDst / nextDst * diffDanmen)\n",
    "        #元値を無視する？\n",
    "        #print(\"baseDanmen = \" + str(baseDanmen))\n",
    "        #print(\"diffDist = \" + str(diffDist))\n",
    "        #print(\"setDist = \" + str(baseDanmen + diffDist))\n",
    "        sql = \"INSERT INTO kddi_18_distparam (times, mesh, tbran) VALUES ('\"+sttime+\"',\"  + str(kddiRow[0]) + \",\"  + str(baseDanmen + diffDist) + \");\"\n",
    "        curwrite.execute(sql)\n",
    "        connection.commit()\n",
    "curwrite.close()\n",
    "\n"
   ]
  },
  {
   "cell_type": "code",
   "execution_count": null,
   "id": "dcfcdf13",
   "metadata": {},
   "outputs": [],
   "source": [
    "print(\"ok\")"
   ]
  },
  {
   "cell_type": "code",
   "execution_count": 147,
   "id": "f2490095",
   "metadata": {},
   "outputs": [
    {
     "ename": "NameError",
     "evalue": "name 'trknDf' is not defined",
     "output_type": "error",
     "traceback": [
      "\u001b[1;31m---------------------------------------------------------------------------\u001b[0m",
      "\u001b[1;31mNameError\u001b[0m                                 Traceback (most recent call last)",
      "Cell \u001b[1;32mIn[147], line 3\u001b[0m\n\u001b[0;32m      1\u001b[0m \u001b[38;5;66;03m#見つかったトラカンをループしながら、最近傍のデータとの緯度、経度を取得\u001b[39;00m\n\u001b[0;32m      2\u001b[0m \u001b[38;5;66;03m#そのエリア内に含まれるKDDIメッシュ情報を取得\u001b[39;00m\n\u001b[1;32m----> 3\u001b[0m \u001b[38;5;28;01mfor\u001b[39;00m trknIndex, trknRow \u001b[38;5;129;01min\u001b[39;00m \u001b[43mtrknDf\u001b[49m\u001b[38;5;241m.\u001b[39miterrows():\n\u001b[0;32m      4\u001b[0m     cur \u001b[38;5;241m=\u001b[39mconnection\u001b[38;5;241m.\u001b[39mcursor()\n\u001b[0;32m      5\u001b[0m     sql \u001b[38;5;241m=\u001b[39m \u001b[38;5;124m\"\u001b[39m\u001b[38;5;124mSELECT trknmesh2,meter,pointdata.latitude,pointdata.longitude \u001b[39m\u001b[38;5;124m\"\u001b[39m\n",
      "\u001b[1;31mNameError\u001b[0m: name 'trknDf' is not defined"
     ]
    }
   ],
   "source": [
    "#見つかったトラカンをループしながら、最近傍のデータとの緯度、経度を取得\n",
    "#そのエリア内に含まれるKDDIメッシュ情報を取得\n",
    "for trknIndex, trknRow in trknDf.iterrows():\n",
    "    cur =connection.cursor()\n",
    "    sql = \"SELECT trknmesh2,meter,pointdata.latitude,pointdata.longitude \"\n",
    "    sql += \"FROM trkn_distance \"\n",
    "    sql += \"INNER JOIN pointdata ON trknmesh2 = cast(pointdata.grid_code AS BIGINT) \"\n",
    "    sql += \"WHERE trknmesh1 = '\"+trknRow[0]+\"' ORDER BY meter LIMIT 1\"\n",
    "    cur.execute(sql)\n",
    "    pathDf = pd.DataFrame(cur.fetchall())\n",
    "    cur.close()\n",
    "    \n",
    "    cur =connection.cursor()\n",
    "    sql = \"SELECT trknmesh2,meter,pointdata.latitude,pointdata.longitude \"\n",
    "    sql += \"FROM trkn_distance \"\n",
    "    sql += \"INNER JOIN pointdata ON trknmesh2 = cast(pointdata.grid_code AS BIGINT) \"\n",
    "    sql += \"WHERE trknmesh1 = '\"+trknRow[0]+\"' ORDER BY meter LIMIT 1\"\n",
    "    cur.execute(sql)\n",
    "    pathDf = pd.DataFrame(cur.fetchall())\n",
    "    cur.close()\n",
    "    \n",
    "#起終点のメッシュの重みはトラカン値そのままを利用\n",
    "#縦と横のメッシュ数を計算\n",
    "#該当のKDDIメッシュから、トラカン起終点の距離を取得\n",
    "#起点までの距離と終点までの距離から比率を求める\n",
    "#自身の重みを起終点から比率配分し平均化する。\n",
    "\n"
   ]
  },
  {
   "cell_type": "code",
   "execution_count": null,
   "id": "83405f02",
   "metadata": {},
   "outputs": [],
   "source": []
  },
  {
   "cell_type": "code",
   "execution_count": null,
   "id": "6412b5ba",
   "metadata": {},
   "outputs": [],
   "source": [
    "connection.close()"
   ]
  },
  {
   "cell_type": "code",
   "execution_count": null,
   "id": "8f2344af",
   "metadata": {},
   "outputs": [],
   "source": []
  }
 ],
 "metadata": {
  "kernelspec": {
   "display_name": "Python 3 (ipykernel)",
   "language": "python",
   "name": "python3"
  },
  "language_info": {
   "codemirror_mode": {
    "name": "ipython",
    "version": 3
   },
   "file_extension": ".py",
   "mimetype": "text/x-python",
   "name": "python",
   "nbconvert_exporter": "python",
   "pygments_lexer": "ipython3",
   "version": "3.9.15"
  }
 },
 "nbformat": 4,
 "nbformat_minor": 5
}
