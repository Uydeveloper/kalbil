{
 "cells": [
  {
   "cell_type": "code",
   "execution_count": null,
   "id": "ee0e753e",
   "metadata": {},
   "outputs": [],
   "source": [
    "#トラカンの最近傍の値と距離を計算し、マッチさせていく(検証版)"
   ]
  },
  {
   "cell_type": "code",
   "execution_count": 1,
   "id": "6fd65a56",
   "metadata": {},
   "outputs": [],
   "source": [
    "# ライブラリのインポート\n",
    "import numpy as np\n",
    "import pandas as pd\n",
    "import psycopg2\n",
    "import datetime"
   ]
  },
  {
   "cell_type": "code",
   "execution_count": 17,
   "id": "03ba6d6f",
   "metadata": {},
   "outputs": [],
   "source": [
    "dbname = \"kddi_18_param_custom2\"\n",
    "npyname = \"trkn_distance\"\n",
    "datedir = \"230120\"\n",
    "sttime = \"2022-04-01 18:00:00\""
   ]
  },
  {
   "cell_type": "code",
   "execution_count": 32,
   "id": "41cad622",
   "metadata": {},
   "outputs": [],
   "source": [
    "connection = psycopg2.connectconnection = psycopg2.connect(host=\"localhost\", database=\"analysisdb\", user=\"postgres\",password=\"setouchi1311\")"
   ]
  },
  {
   "cell_type": "code",
   "execution_count": 21,
   "id": "134faab1",
   "metadata": {},
   "outputs": [],
   "source": [
    "sql = \"CREATE TABLE \" + npyname + \" (trknmesh1 BIGINT NULL DEFAULT NULL,trknmesh2 BIGINT NULL DEFAULT NULL,meter DOUBLE PRECISION NULL DEFAULT NULL )\"\n",
    "cur =connection.cursor()\n",
    "cur.execute(sql)\n",
    "cur.close()\n",
    "connection.commit()"
   ]
  },
  {
   "cell_type": "code",
   "execution_count": 51,
   "id": "708be170",
   "metadata": {},
   "outputs": [],
   "source": [
    "cur =connection.cursor()\n",
    "meshcnt = 0\n",
    "sql = \"WITH gs_list AS (\"\n",
    "sql += \"SELECT gridcode , geography( geom ) AS geom \"\n",
    "sql += \"FROM trakanmap \"\n",
    "sql += \")\"\n",
    "sql += \"SELECT \"\n",
    "sql += \"a.gridcode,b.gridcode, MIN( ST_Distance( a.geom , b.geom ) ) \"\n",
    "sql += \"FROM \"\n",
    "sql += \"gs_list AS a , gs_list AS b \"\n",
    "sql += \"WHERE \"\n",
    "sql += \"a.gridcode <> b.gridcode AND a.gridcode <> '0' AND b.gridcode <> '0' \"\n",
    "sql += \"GROUP BY \"\n",
    "sql += \"a.gridcode,b.gridcode \"\n",
    "sql += \"ORDER BY \"\n",
    "sql += \"a.gridcode,b.gridcode ;\"\n",
    "cur.execute(sql)\n",
    "df = pd.DataFrame(cur.fetchall())\n",
    "cur.close()\n",
    "cur =connection.cursor()\n",
    "for index, row in df.iterrows():\n",
    "    sql = \"INSERT INTO \" + npyname + \" (trknmesh1, trknmesh2, meter) VALUES (\"+ str(int(row[0])) + \",\"  + str(int(row[1])) + \",\"  + str(int(row[2])) + \");\"\n",
    "    cur.execute(sql)\n",
    "connection.commit()\n",
    "cur.close()"
   ]
  },
  {
   "cell_type": "code",
   "execution_count": null,
   "id": "df8354be",
   "metadata": {},
   "outputs": [],
   "source": [
    "connection = psycopg2.connectconnection = psycopg2.connect(host=\"localhost\", database=\"analysisdb\", user=\"postgres\",password=\"setouchi1311\")"
   ]
  },
  {
   "cell_type": "code",
   "execution_count": null,
   "id": "454a73ad",
   "metadata": {},
   "outputs": [],
   "source": [
    "#特定日付のトラカンデータを全取得 > 緯度経度\n",
    "cur =connection.cursor()\n",
    "sql = \"SELECT trakanmap.gridcode, 断面交通量,pointdata.latitude,pointdata.longitude , trakanmap.geom FROM trakan2204 \"\n",
    "sql += \"INNER JOIN trakanmap ON trakan2204.計測地点番号 = trakanmap.地点番号 \"\n",
    "sql += \"INNER JOIN pointdata ON trakanmap.gridcode = pointdata.grid_code \"\n",
    "sql += \"WHERE 時刻 = '2022-04-01 18:00:00' AND trakanmap.gridcode != '0' \"\n",
    "sql += \"ORDER BY trakanmap.gridcode\"\n",
    "cur.execute(sql)\n",
    "trknDf = pd.DataFrame(cur.fetchall())\n",
    "cur.close()"
   ]
  },
  {
   "cell_type": "code",
   "execution_count": null,
   "id": "93b035e9",
   "metadata": {},
   "outputs": [],
   "source": [
    "#特定日付のKDDIメッシュ情報を全取得\n",
    "cur =connection.cursor()\n",
    "sql = \"SELECT mesh, tbran,pointdata.latitude,pointdata.longitude FROM kddi_18_param  \"\n",
    "sql += \"INNER JOIN pointdata ON mesh = cast(pointdata.grid_code AS BIGINT)  \"\n",
    "sql += \"WHERE times = '2022-04-01 18:00:00' AND pointdata.grid_code != '0'  ORDER BY mesh \"\n",
    "cur.execute(sql)\n",
    "kddiDf = pd.DataFrame(cur.fetchall())\n",
    "cur.close()"
   ]
  },
  {
   "cell_type": "code",
   "execution_count": null,
   "id": "f2490095",
   "metadata": {},
   "outputs": [],
   "source": [
    "#見つかったトラカンをループしながら、最近傍のデータとの緯度、経度を取得\n",
    "#そのエリア内に含まれるKDDIメッシュ情報を取得\n",
    "for trknIndex, trknRow in trknDf.iterrows():\n",
    "    cur =connection.cursor()\n",
    "    sql = \"SELECT trknmesh2,meter,pointdata.latitude,pointdata.longitude \"\n",
    "    sql += \"FROM trkn_distance \"\n",
    "    sql += \"INNER JOIN pointdata ON trknmesh2 = cast(pointdata.grid_code AS BIGINT) \"\n",
    "    sql += \"WHERE trknmesh1 = '\"+trknRow[0]+\"' ORDER BY meter LIMIT 1\"\n",
    "    cur.execute(sql)\n",
    "    pathDf = pd.DataFrame(cur.fetchall())\n",
    "    cur.close()\n",
    "    \n",
    "    cur =connection.cursor()\n",
    "    sql = \"SELECT trknmesh2,meter,pointdata.latitude,pointdata.longitude \"\n",
    "    sql += \"FROM trkn_distance \"\n",
    "    sql += \"INNER JOIN pointdata ON trknmesh2 = cast(pointdata.grid_code AS BIGINT) \"\n",
    "    sql += \"WHERE trknmesh1 = '\"+trknRow[0]+\"' ORDER BY meter LIMIT 1\"\n",
    "    cur.execute(sql)\n",
    "    pathDf = pd.DataFrame(cur.fetchall())\n",
    "    cur.close()\n",
    "    \n",
    "#起終点のメッシュの重みはトラカン値そのままを利用\n",
    "#縦と横のメッシュ数を計算\n",
    "#該当のKDDIメッシュから、トラカン起終点の距離を取得\n",
    "#起点までの距離と終点までの距離から比率を求める\n",
    "#自身の重みを起終点から比率配分し平均化する。\n",
    "\n"
   ]
  },
  {
   "cell_type": "code",
   "execution_count": null,
   "id": "83405f02",
   "metadata": {},
   "outputs": [],
   "source": []
  },
  {
   "cell_type": "code",
   "execution_count": null,
   "id": "6412b5ba",
   "metadata": {},
   "outputs": [],
   "source": [
    "connection.close()"
   ]
  },
  {
   "cell_type": "code",
   "execution_count": null,
   "id": "8f2344af",
   "metadata": {},
   "outputs": [],
   "source": []
  }
 ],
 "metadata": {
  "kernelspec": {
   "display_name": "Python 3 (ipykernel)",
   "language": "python",
   "name": "python3"
  },
  "language_info": {
   "codemirror_mode": {
    "name": "ipython",
    "version": 3
   },
   "file_extension": ".py",
   "mimetype": "text/x-python",
   "name": "python",
   "nbconvert_exporter": "python",
   "pygments_lexer": "ipython3",
   "version": "3.9.15"
  }
 },
 "nbformat": 4,
 "nbformat_minor": 5
}
