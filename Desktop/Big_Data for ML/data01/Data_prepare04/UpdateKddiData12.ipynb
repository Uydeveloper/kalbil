{
 "cells": [
  {
   "cell_type": "code",
   "execution_count": 1,
   "id": "6fd65a56",
   "metadata": {},
   "outputs": [],
   "source": [
    "# ライブラリのインポート\n",
    "import numpy as np\n",
    "import pandas as pd\n",
    "import psycopg2\n",
    "import datetime"
   ]
  },
  {
   "cell_type": "code",
   "execution_count": 2,
   "id": "894aae8f",
   "metadata": {
    "scrolled": true
   },
   "outputs": [],
   "source": [
    "filename = 'kddi_trkn12_change12.csv'\n",
    "dbname = 'kddi_12_param_marge'\n",
    "df_csv = pd.read_csv(filename)"
   ]
  },
  {
   "cell_type": "code",
   "execution_count": 3,
   "id": "a1cc1f92",
   "metadata": {},
   "outputs": [
    {
     "data": {
      "text/html": [
       "<div>\n",
       "<style scoped>\n",
       "    .dataframe tbody tr th:only-of-type {\n",
       "        vertical-align: middle;\n",
       "    }\n",
       "\n",
       "    .dataframe tbody tr th {\n",
       "        vertical-align: top;\n",
       "    }\n",
       "\n",
       "    .dataframe thead th {\n",
       "        text-align: right;\n",
       "    }\n",
       "</style>\n",
       "<table border=\"1\" class=\"dataframe\">\n",
       "  <thead>\n",
       "    <tr style=\"text-align: right;\">\n",
       "      <th></th>\n",
       "      <th>times</th>\n",
       "      <th>mesh</th>\n",
       "      <th>max</th>\n",
       "    </tr>\n",
       "  </thead>\n",
       "  <tbody>\n",
       "    <tr>\n",
       "      <th>0</th>\n",
       "      <td>2022-04-29 15:30:00</td>\n",
       "      <td>50326537321</td>\n",
       "      <td>41.000000</td>\n",
       "    </tr>\n",
       "    <tr>\n",
       "      <th>1</th>\n",
       "      <td>2022-04-29 15:30:00</td>\n",
       "      <td>50326539224</td>\n",
       "      <td>212.000000</td>\n",
       "    </tr>\n",
       "    <tr>\n",
       "      <th>2</th>\n",
       "      <td>2022-04-29 15:30:00</td>\n",
       "      <td>50326547222</td>\n",
       "      <td>58.000000</td>\n",
       "    </tr>\n",
       "    <tr>\n",
       "      <th>3</th>\n",
       "      <td>2022-04-29 15:30:00</td>\n",
       "      <td>50326569424</td>\n",
       "      <td>50.036494</td>\n",
       "    </tr>\n",
       "    <tr>\n",
       "      <th>4</th>\n",
       "      <td>2022-04-29 15:30:00</td>\n",
       "      <td>50326569442</td>\n",
       "      <td>35.000000</td>\n",
       "    </tr>\n",
       "    <tr>\n",
       "      <th>...</th>\n",
       "      <td>...</td>\n",
       "      <td>...</td>\n",
       "      <td>...</td>\n",
       "    </tr>\n",
       "    <tr>\n",
       "      <th>15813</th>\n",
       "      <td>2022-04-30 17:45:00</td>\n",
       "      <td>50327642333</td>\n",
       "      <td>60.623253</td>\n",
       "    </tr>\n",
       "    <tr>\n",
       "      <th>15814</th>\n",
       "      <td>2022-04-30 17:45:00</td>\n",
       "      <td>50327652112</td>\n",
       "      <td>58.741352</td>\n",
       "    </tr>\n",
       "    <tr>\n",
       "      <th>15815</th>\n",
       "      <td>2022-04-30 17:45:00</td>\n",
       "      <td>50327652114</td>\n",
       "      <td>57.160901</td>\n",
       "    </tr>\n",
       "    <tr>\n",
       "      <th>15816</th>\n",
       "      <td>2022-04-30 17:45:00</td>\n",
       "      <td>50327652132</td>\n",
       "      <td>55.580451</td>\n",
       "    </tr>\n",
       "    <tr>\n",
       "      <th>15817</th>\n",
       "      <td>2022-04-30 17:45:00</td>\n",
       "      <td>50327652134</td>\n",
       "      <td>54.000000</td>\n",
       "    </tr>\n",
       "  </tbody>\n",
       "</table>\n",
       "<p>15818 rows × 3 columns</p>\n",
       "</div>"
      ],
      "text/plain": [
       "                     times         mesh         max\n",
       "0      2022-04-29 15:30:00  50326537321   41.000000\n",
       "1      2022-04-29 15:30:00  50326539224  212.000000\n",
       "2      2022-04-29 15:30:00  50326547222   58.000000\n",
       "3      2022-04-29 15:30:00  50326569424   50.036494\n",
       "4      2022-04-29 15:30:00  50326569442   35.000000\n",
       "...                    ...          ...         ...\n",
       "15813  2022-04-30 17:45:00  50327642333   60.623253\n",
       "15814  2022-04-30 17:45:00  50327652112   58.741352\n",
       "15815  2022-04-30 17:45:00  50327652114   57.160901\n",
       "15816  2022-04-30 17:45:00  50327652132   55.580451\n",
       "15817  2022-04-30 17:45:00  50327652134   54.000000\n",
       "\n",
       "[15818 rows x 3 columns]"
      ]
     },
     "execution_count": 3,
     "metadata": {},
     "output_type": "execute_result"
    }
   ],
   "source": [
    "df_csv"
   ]
  },
  {
   "cell_type": "code",
   "execution_count": 4,
   "id": "aa42a8ba",
   "metadata": {},
   "outputs": [],
   "source": [
    "connection = psycopg2.connectconnection = psycopg2.connect(host=\"localhost\", database=\"analysisdb\", user=\"postgres\",password=\"setouchi1311\")"
   ]
  },
  {
   "cell_type": "code",
   "execution_count": 5,
   "id": "8a94f73c",
   "metadata": {},
   "outputs": [
    {
     "name": "stdout",
     "output_type": "stream",
     "text": [
      "cnt=0\n",
      "cnt=1000\n",
      "cnt=2000\n",
      "cnt=3000\n",
      "cnt=4000\n",
      "cnt=5000\n",
      "cnt=6000\n",
      "cnt=7000\n",
      "cnt=8000\n",
      "cnt=9000\n",
      "cnt=10000\n",
      "cnt=11000\n",
      "cnt=12000\n",
      "cnt=13000\n",
      "cnt=14000\n",
      "cnt=15000\n"
     ]
    }
   ],
   "source": [
    "cur =connection.cursor()\n",
    "i = 0\n",
    "for item in df_csv.values:\n",
    "    sql = \"SELECT tbran from \" + dbname + \" \"\n",
    "    sql += \"WHERE mesh = '\" + str(item[1]) + \"'  and times = '\" + str(item[0]) + \"' for update\"\n",
    "    cur.execute(sql)\n",
    "        \n",
    "    sql = \"UPDATE \" + dbname + \" set tbran = \"+ str(item[2]) + \" \"\n",
    "    sql += \"WHERE mesh = '\" + str(item[1]) + \"' and times = '\" + str(item[0]) + \"'\"\n",
    "    cur.execute(sql)\n",
    "    connection.commit()\n",
    "    if i % 1000 == 0:\n",
    "        print(\"cnt=\"+str(i))\n",
    "    i = i + 1\n",
    "cur.close()\n"
   ]
  },
  {
   "cell_type": "code",
   "execution_count": 6,
   "id": "2115817e",
   "metadata": {},
   "outputs": [],
   "source": [
    "connection.close()"
   ]
  },
  {
   "cell_type": "code",
   "execution_count": null,
   "id": "454a73ad",
   "metadata": {},
   "outputs": [],
   "source": [
    "#ConvertMeshtoRoad"
   ]
  }
 ],
 "metadata": {
  "kernelspec": {
   "display_name": "Python 3 (ipykernel)",
   "language": "python",
   "name": "python3"
  },
  "language_info": {
   "codemirror_mode": {
    "name": "ipython",
    "version": 3
   },
   "file_extension": ".py",
   "mimetype": "text/x-python",
   "name": "python",
   "nbconvert_exporter": "python",
   "pygments_lexer": "ipython3",
   "version": "3.9.15"
  }
 },
 "nbformat": 4,
 "nbformat_minor": 5
}
