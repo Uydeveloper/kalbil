{
 "cells": [
  {
   "cell_type": "code",
   "execution_count": 1,
   "id": "6fd65a56",
   "metadata": {},
   "outputs": [],
   "source": [
    "# ライブラリのインポート\n",
    "import numpy as np\n",
    "import pandas as pd\n",
    "import psycopg2\n",
    "import datetime"
   ]
  },
  {
   "cell_type": "code",
   "execution_count": 2,
   "id": "894aae8f",
   "metadata": {
    "scrolled": true
   },
   "outputs": [],
   "source": [
    "filename = 'kddi_trkn12_change4.csv'\n",
    "dbname = 'kddi_12_param_marge'\n",
    "df_csv = pd.read_csv(filename)"
   ]
  },
  {
   "cell_type": "code",
   "execution_count": 3,
   "id": "a1cc1f92",
   "metadata": {},
   "outputs": [
    {
     "data": {
      "text/html": [
       "<div>\n",
       "<style scoped>\n",
       "    .dataframe tbody tr th:only-of-type {\n",
       "        vertical-align: middle;\n",
       "    }\n",
       "\n",
       "    .dataframe tbody tr th {\n",
       "        vertical-align: top;\n",
       "    }\n",
       "\n",
       "    .dataframe thead th {\n",
       "        text-align: right;\n",
       "    }\n",
       "</style>\n",
       "<table border=\"1\" class=\"dataframe\">\n",
       "  <thead>\n",
       "    <tr style=\"text-align: right;\">\n",
       "      <th></th>\n",
       "      <th>times</th>\n",
       "      <th>mesh</th>\n",
       "      <th>max</th>\n",
       "    </tr>\n",
       "  </thead>\n",
       "  <tbody>\n",
       "    <tr>\n",
       "      <th>0</th>\n",
       "      <td>2022-04-08 16:00:00</td>\n",
       "      <td>50324585213</td>\n",
       "      <td>32.000000</td>\n",
       "    </tr>\n",
       "    <tr>\n",
       "      <th>1</th>\n",
       "      <td>2022-04-08 16:00:00</td>\n",
       "      <td>50324585214</td>\n",
       "      <td>12.993894</td>\n",
       "    </tr>\n",
       "    <tr>\n",
       "      <th>2</th>\n",
       "      <td>2022-04-08 16:00:00</td>\n",
       "      <td>50324585231</td>\n",
       "      <td>12.875787</td>\n",
       "    </tr>\n",
       "    <tr>\n",
       "      <th>3</th>\n",
       "      <td>2022-04-08 16:00:00</td>\n",
       "      <td>50324585232</td>\n",
       "      <td>12.869276</td>\n",
       "    </tr>\n",
       "    <tr>\n",
       "      <th>4</th>\n",
       "      <td>2022-04-08 16:00:00</td>\n",
       "      <td>50324585234</td>\n",
       "      <td>12.744658</td>\n",
       "    </tr>\n",
       "    <tr>\n",
       "      <th>...</th>\n",
       "      <td>...</td>\n",
       "      <td>...</td>\n",
       "      <td>...</td>\n",
       "    </tr>\n",
       "    <tr>\n",
       "      <th>29994</th>\n",
       "      <td>2022-04-11 13:45:00</td>\n",
       "      <td>50325596244</td>\n",
       "      <td>51.333333</td>\n",
       "    </tr>\n",
       "    <tr>\n",
       "      <th>29995</th>\n",
       "      <td>2022-04-11 13:45:00</td>\n",
       "      <td>50325596412</td>\n",
       "      <td>161.000000</td>\n",
       "    </tr>\n",
       "    <tr>\n",
       "      <th>29996</th>\n",
       "      <td>2022-04-11 13:45:00</td>\n",
       "      <td>50325596432</td>\n",
       "      <td>19.000000</td>\n",
       "    </tr>\n",
       "    <tr>\n",
       "      <th>29997</th>\n",
       "      <td>2022-04-11 13:45:00</td>\n",
       "      <td>50325596443</td>\n",
       "      <td>33.939152</td>\n",
       "    </tr>\n",
       "    <tr>\n",
       "      <th>29998</th>\n",
       "      <td>2022-04-11 13:45:00</td>\n",
       "      <td>50325597133</td>\n",
       "      <td>55.666667</td>\n",
       "    </tr>\n",
       "  </tbody>\n",
       "</table>\n",
       "<p>29999 rows × 3 columns</p>\n",
       "</div>"
      ],
      "text/plain": [
       "                     times         mesh         max\n",
       "0      2022-04-08 16:00:00  50324585213   32.000000\n",
       "1      2022-04-08 16:00:00  50324585214   12.993894\n",
       "2      2022-04-08 16:00:00  50324585231   12.875787\n",
       "3      2022-04-08 16:00:00  50324585232   12.869276\n",
       "4      2022-04-08 16:00:00  50324585234   12.744658\n",
       "...                    ...          ...         ...\n",
       "29994  2022-04-11 13:45:00  50325596244   51.333333\n",
       "29995  2022-04-11 13:45:00  50325596412  161.000000\n",
       "29996  2022-04-11 13:45:00  50325596432   19.000000\n",
       "29997  2022-04-11 13:45:00  50325596443   33.939152\n",
       "29998  2022-04-11 13:45:00  50325597133   55.666667\n",
       "\n",
       "[29999 rows x 3 columns]"
      ]
     },
     "execution_count": 3,
     "metadata": {},
     "output_type": "execute_result"
    }
   ],
   "source": [
    "df_csv"
   ]
  },
  {
   "cell_type": "code",
   "execution_count": 4,
   "id": "aa42a8ba",
   "metadata": {},
   "outputs": [],
   "source": [
    "connection = psycopg2.connectconnection = psycopg2.connect(host=\"localhost\", database=\"analysisdb\", user=\"postgres\",password=\"setouchi1311\")"
   ]
  },
  {
   "cell_type": "code",
   "execution_count": null,
   "id": "8a94f73c",
   "metadata": {},
   "outputs": [
    {
     "name": "stdout",
     "output_type": "stream",
     "text": [
      "cnt=0\n",
      "cnt=1000\n",
      "cnt=2000\n",
      "cnt=3000\n",
      "cnt=4000\n",
      "cnt=5000\n",
      "cnt=6000\n",
      "cnt=7000\n",
      "cnt=8000\n",
      "cnt=9000\n",
      "cnt=10000\n",
      "cnt=11000\n",
      "cnt=12000\n",
      "cnt=13000\n",
      "cnt=14000\n",
      "cnt=15000\n",
      "cnt=16000\n",
      "cnt=17000\n",
      "cnt=18000\n",
      "cnt=19000\n",
      "cnt=20000\n",
      "cnt=21000\n",
      "cnt=22000\n",
      "cnt=23000\n",
      "cnt=24000\n",
      "cnt=25000\n",
      "cnt=26000\n",
      "cnt=27000\n",
      "cnt=28000\n"
     ]
    }
   ],
   "source": [
    "cur =connection.cursor()\n",
    "i = 0\n",
    "for item in df_csv.values:\n",
    "    sql = \"SELECT tbran from \" + dbname + \" \"\n",
    "    sql += \"WHERE mesh = '\" + str(item[1]) + \"' and times = '\" + str(item[0]) + \"' for update\"\n",
    "    cur.execute(sql)\n",
    "        \n",
    "    sql = \"UPDATE \" + dbname + \" set tbran = \"+ str(item[2]) + \" \"\n",
    "    sql += \"WHERE mesh = '\" + str(item[1]) + \"' and times = '\" + str(item[0]) + \"'\"\n",
    "    cur.execute(sql)\n",
    "    connection.commit()\n",
    "    if i % 1000 == 0:\n",
    "        print(\"cnt=\"+str(i))\n",
    "    i = i + 1\n",
    "cur.close()\n"
   ]
  },
  {
   "cell_type": "code",
   "execution_count": null,
   "id": "2115817e",
   "metadata": {},
   "outputs": [],
   "source": [
    "connection.close()"
   ]
  },
  {
   "cell_type": "code",
   "execution_count": null,
   "id": "454a73ad",
   "metadata": {},
   "outputs": [],
   "source": [
    "#ConvertMeshtoRoad"
   ]
  }
 ],
 "metadata": {
  "kernelspec": {
   "display_name": "Python 3 (ipykernel)",
   "language": "python",
   "name": "python3"
  },
  "language_info": {
   "codemirror_mode": {
    "name": "ipython",
    "version": 3
   },
   "file_extension": ".py",
   "mimetype": "text/x-python",
   "name": "python",
   "nbconvert_exporter": "python",
   "pygments_lexer": "ipython3",
   "version": "3.9.15"
  }
 },
 "nbformat": 4,
 "nbformat_minor": 5
}
