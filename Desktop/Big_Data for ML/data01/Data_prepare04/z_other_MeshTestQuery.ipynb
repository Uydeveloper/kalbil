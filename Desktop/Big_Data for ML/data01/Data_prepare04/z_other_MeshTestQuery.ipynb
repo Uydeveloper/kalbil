{
 "cells": [
  {
   "cell_type": "code",
   "execution_count": null,
   "id": "79e95a58",
   "metadata": {},
   "outputs": [],
   "source": [
    "#検証時、メッシュ確認で利用したクエリ"
   ]
  },
  {
   "cell_type": "code",
   "execution_count": 53,
   "id": "5b4b6c33",
   "metadata": {},
   "outputs": [],
   "source": [
    "import psycopg2"
   ]
  },
  {
   "cell_type": "code",
   "execution_count": 61,
   "id": "caed7936",
   "metadata": {},
   "outputs": [],
   "source": [
    "connection = psycopg2.connectconnection = psycopg2.connect(host=\"localhost\", database=\"analysisdb\", user=\"postgres\",password=\"setouchi1311\")"
   ]
  },
  {
   "cell_type": "code",
   "execution_count": 55,
   "id": "6d9bab1a",
   "metadata": {},
   "outputs": [
    {
     "ename": "KeyboardInterrupt",
     "evalue": "",
     "output_type": "error",
     "traceback": [
      "\u001b[1;31m---------------------------------------------------------------------------\u001b[0m",
      "\u001b[1;31mKeyboardInterrupt\u001b[0m                         Traceback (most recent call last)",
      "Cell \u001b[1;32mIn[55], line 11\u001b[0m\n\u001b[0;32m      9\u001b[0m sql \u001b[38;5;241m+\u001b[39m\u001b[38;5;241m=\u001b[39m \u001b[38;5;124m\"\u001b[39m\u001b[38;5;124m    LIMIT 1) AS T\u001b[39m\u001b[38;5;124m\"\u001b[39m\n\u001b[0;32m     10\u001b[0m cur \u001b[38;5;241m=\u001b[39mconnection\u001b[38;5;241m.\u001b[39mcursor()\n\u001b[1;32m---> 11\u001b[0m \u001b[43mcur\u001b[49m\u001b[38;5;241;43m.\u001b[39;49m\u001b[43mexecute\u001b[49m\u001b[43m(\u001b[49m\u001b[43msql\u001b[49m\u001b[43m)\u001b[49m\n\u001b[0;32m     12\u001b[0m target_list \u001b[38;5;241m=\u001b[39m []\n\u001b[0;32m     13\u001b[0m \u001b[38;5;28;01mfor\u001b[39;00m row \u001b[38;5;129;01min\u001b[39;00m cur:\n",
      "File \u001b[1;32m~\\anaconda3\\envs\\bigdata_dev\\lib\\encodings\\utf_8.py:15\u001b[0m, in \u001b[0;36mdecode\u001b[1;34m(input, errors)\u001b[0m\n\u001b[0;32m     11\u001b[0m \u001b[38;5;66;03m### Codec APIs\u001b[39;00m\n\u001b[0;32m     13\u001b[0m encode \u001b[38;5;241m=\u001b[39m codecs\u001b[38;5;241m.\u001b[39mutf_8_encode\n\u001b[1;32m---> 15\u001b[0m \u001b[38;5;28;01mdef\u001b[39;00m \u001b[38;5;21mdecode\u001b[39m(\u001b[38;5;28minput\u001b[39m, errors\u001b[38;5;241m=\u001b[39m\u001b[38;5;124m'\u001b[39m\u001b[38;5;124mstrict\u001b[39m\u001b[38;5;124m'\u001b[39m):\n\u001b[0;32m     16\u001b[0m     \u001b[38;5;28;01mreturn\u001b[39;00m codecs\u001b[38;5;241m.\u001b[39mutf_8_decode(\u001b[38;5;28minput\u001b[39m, errors, \u001b[38;5;28;01mTrue\u001b[39;00m)\n\u001b[0;32m     18\u001b[0m \u001b[38;5;28;01mclass\u001b[39;00m \u001b[38;5;21;01mIncrementalEncoder\u001b[39;00m(codecs\u001b[38;5;241m.\u001b[39mIncrementalEncoder):\n",
      "\u001b[1;31mKeyboardInterrupt\u001b[0m: "
     ]
    }
   ],
   "source": [
    "sql = \"select kddi_tran.mesh,ktran900,T.mesh,T.ttran900 \"\n",
    "sql += \"from kddi_tran \"\n",
    "sql += \"INNER JOIN pointdata as a ON kddi_tran.mesh = cast(a.grid_code AS BIGINT) \"\n",
    "sql += \"CROSS JOIN LATERAL\"\n",
    "sql += \"  (\"\n",
    "sql += \"    SELECT mesh,ttran900 from trakan_tran\"\n",
    "sql += \"    inner JOIN pointdata as b ON trakan_tran.mesh = cast(grid_code AS BIGINT) \"\n",
    "sql += \"    ORDER BY a.geom <-> b.geom, ST_Distance(a.geom, b.geom) \"\n",
    "sql += \"    LIMIT 1) AS T\"\n",
    "cur =connection.cursor()\n",
    "cur.execute(sql)\n",
    "target_list = []\n",
    "for row in cur:\n",
    "    if row[1] >= 0 && row[3] >= 0 :\n",
    "        target_list.append(row)\n",
    "cur.close()"
   ]
  },
  {
   "cell_type": "code",
   "execution_count": null,
   "id": "f1524a28",
   "metadata": {},
   "outputs": [],
   "source": [
    "target_list"
   ]
  },
  {
   "cell_type": "code",
   "execution_count": 48,
   "id": "9602892a",
   "metadata": {},
   "outputs": [],
   "source": [
    "cntDt = 0\n",
    "cur =connection.cursor()\n",
    "for row in target_list:\n",
    "    sql = \"SELECT kddi_tran.mesh,ktran900 from kddi_tran \"\n",
    "    sql += \"WHERE kddi_tran.mesh = '\" + str(row[2]) + \"'\"\n",
    "    cur.execute(sql)\n",
    "    hits = 0\n",
    "    for row in cur:\n",
    "        target_list[cntDt] += row[1],\n",
    "        hits += 1\n",
    "    if hits == 0:\n",
    "        target_list[cntDt] += -1,\n",
    "    cntDt += 1\n",
    "cur.close()\n"
   ]
  },
  {
   "cell_type": "code",
   "execution_count": null,
   "id": "0f2d0fd2",
   "metadata": {},
   "outputs": [],
   "source": [
    "target_list"
   ]
  },
  {
   "cell_type": "code",
   "execution_count": 51,
   "id": "307bea0b",
   "metadata": {},
   "outputs": [],
   "source": [
    "result_list = []\n",
    "for row in target_list:\n",
    "    if row[4] != -1:\n",
    "        param = row[1] * row[3] / row[4]\n",
    "        wktpl = row[0], param\n",
    "        result_list.append(wktpl)"
   ]
  },
  {
   "cell_type": "code",
   "execution_count": null,
   "id": "bee2b23e",
   "metadata": {},
   "outputs": [],
   "source": [
    "result_list"
   ]
  },
  {
   "cell_type": "code",
   "execution_count": 62,
   "id": "2fddcfd5",
   "metadata": {},
   "outputs": [
    {
     "ename": "SyntaxError",
     "evalue": "列名を修飾する必要があります\n",
     "output_type": "error",
     "traceback": [
      "\u001b[1;31m---------------------------------------------------------------------------\u001b[0m",
      "\u001b[1;31mSyntaxError\u001b[0m                               Traceback (most recent call last)",
      "Cell \u001b[1;32mIn[62], line 9\u001b[0m\n\u001b[0;32m      7\u001b[0m     sql \u001b[38;5;241m+\u001b[39m\u001b[38;5;241m=\u001b[39m \u001b[38;5;124m\"\u001b[39m\u001b[38;5;124mCOMMENT ON COLUMN mesh IS \u001b[39m\u001b[38;5;124m'\u001b[39m\u001b[38;5;124m'\u001b[39m\u001b[38;5;124m;\u001b[39m\u001b[38;5;124m\"\u001b[39m\n\u001b[0;32m      8\u001b[0m     sql \u001b[38;5;241m+\u001b[39m\u001b[38;5;241m=\u001b[39m \u001b[38;5;124m\"\u001b[39m\u001b[38;5;124mCOMMENT ON COLUMN params IS \u001b[39m\u001b[38;5;124m'\u001b[39m\u001b[38;5;124m'\u001b[39m\u001b[38;5;124m;\u001b[39m\u001b[38;5;124m\"\u001b[39m\n\u001b[1;32m----> 9\u001b[0m     \u001b[43mcursor\u001b[49m\u001b[38;5;241;43m.\u001b[39;49m\u001b[43mexecute\u001b[49m\u001b[43m(\u001b[49m\u001b[43msql\u001b[49m\u001b[43m)\u001b[49m\n\u001b[0;32m     10\u001b[0m \u001b[38;5;66;03m# コミットしてトランザクション実行\u001b[39;00m\n\u001b[0;32m     11\u001b[0m connection\u001b[38;5;241m.\u001b[39mcommit()\n",
      "\u001b[1;31mSyntaxError\u001b[0m: 列名を修飾する必要があります\n"
     ]
    }
   ],
   "source": [
    "    with connection.cursor() as cursor:\n",
    "        # レコードを挿入\n",
    "        sql = \"CREATE TABLE margeresult (\"\n",
    "        sql += \"mesh BIGINT NULL DEFAULT NULL,\"\n",
    "        sql += \"params DOUBLE NULL DEFAULT NULL\"\n",
    "        sql += \");\"\n",
    "        sql += \"COMMENT ON COLUMN mesh IS '';\"\n",
    "        sql += \"COMMENT ON COLUMN params IS '';\"\n",
    "        cursor.execute(sql)\n",
    "    # コミットしてトランザクション実行\n",
    "    connection.commit()"
   ]
  },
  {
   "cell_type": "code",
   "execution_count": 58,
   "id": "3904fcaf",
   "metadata": {},
   "outputs": [
    {
     "ename": "UndefinedTable",
     "evalue": "リレーション\"margeresult\"は存在しません\nLINE 1: INSERT INTO margeresult (mesh, params) VALUES (51320614132, ...\n                    ^\n",
     "output_type": "error",
     "traceback": [
      "\u001b[1;31m---------------------------------------------------------------------------\u001b[0m",
      "\u001b[1;31mUndefinedTable\u001b[0m                            Traceback (most recent call last)",
      "Cell \u001b[1;32mIn[58], line 5\u001b[0m\n\u001b[0;32m      2\u001b[0m \u001b[38;5;28;01mwith\u001b[39;00m connection\u001b[38;5;241m.\u001b[39mcursor() \u001b[38;5;28;01mas\u001b[39;00m cursor:\n\u001b[0;32m      3\u001b[0m     \u001b[38;5;66;03m# レコードを挿入\u001b[39;00m\n\u001b[0;32m      4\u001b[0m     sql \u001b[38;5;241m=\u001b[39m \u001b[38;5;124m\"\u001b[39m\u001b[38;5;124mINSERT INTO margeresult (mesh, params) VALUES (\u001b[39m\u001b[38;5;124m\"\u001b[39m\u001b[38;5;241m+\u001b[39m\u001b[38;5;28mstr\u001b[39m(row[\u001b[38;5;241m0\u001b[39m])\u001b[38;5;241m+\u001b[39m\u001b[38;5;124m\"\u001b[39m\u001b[38;5;124m, \u001b[39m\u001b[38;5;124m\"\u001b[39m\u001b[38;5;241m+\u001b[39m\u001b[38;5;28mstr\u001b[39m(row[\u001b[38;5;241m1\u001b[39m])\u001b[38;5;241m+\u001b[39m\u001b[38;5;124m\"\u001b[39m\u001b[38;5;124m)\u001b[39m\u001b[38;5;124m\"\u001b[39m\n\u001b[1;32m----> 5\u001b[0m     \u001b[43mcursor\u001b[49m\u001b[38;5;241;43m.\u001b[39;49m\u001b[43mexecute\u001b[49m\u001b[43m(\u001b[49m\u001b[43msql\u001b[49m\u001b[43m)\u001b[49m\n\u001b[0;32m      6\u001b[0m \u001b[38;5;66;03m# コミットしてトランザクション実行\u001b[39;00m\n\u001b[0;32m      7\u001b[0m connection\u001b[38;5;241m.\u001b[39mcommit()\n",
      "\u001b[1;31mUndefinedTable\u001b[0m: リレーション\"margeresult\"は存在しません\nLINE 1: INSERT INTO margeresult (mesh, params) VALUES (51320614132, ...\n                    ^\n"
     ]
    }
   ],
   "source": [
    "for row in target_list:\n",
    "    with connection.cursor() as cursor:\n",
    "        # レコードを挿入\n",
    "        sql = \"INSERT INTO margeresult (mesh, params) VALUES (\"+str(row[0])+\", \"+str(row[1])+\")\"\n",
    "        cursor.execute(sql)\n",
    "    # コミットしてトランザクション実行\n",
    "    connection.commit()"
   ]
  },
  {
   "cell_type": "code",
   "execution_count": null,
   "id": "ca7a421e",
   "metadata": {},
   "outputs": [],
   "source": [
    "connection.close()"
   ]
  }
 ],
 "metadata": {
  "kernelspec": {
   "display_name": "Python 3 (ipykernel)",
   "language": "python",
   "name": "python3"
  },
  "language_info": {
   "codemirror_mode": {
    "name": "ipython",
    "version": 3
   },
   "file_extension": ".py",
   "mimetype": "text/x-python",
   "name": "python",
   "nbconvert_exporter": "python",
   "pygments_lexer": "ipython3",
   "version": "3.9.15"
  }
 },
 "nbformat": 4,
 "nbformat_minor": 5
}
