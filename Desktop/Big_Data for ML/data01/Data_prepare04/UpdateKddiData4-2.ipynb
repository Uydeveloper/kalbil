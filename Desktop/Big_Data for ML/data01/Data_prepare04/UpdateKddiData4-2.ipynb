{
 "cells": [
  {
   "cell_type": "code",
   "execution_count": 1,
   "id": "6fd65a56",
   "metadata": {},
   "outputs": [],
   "source": [
    "# ライブラリのインポート\n",
    "import numpy as np\n",
    "import pandas as pd\n",
    "import psycopg2\n",
    "import datetime"
   ]
  },
  {
   "cell_type": "code",
   "execution_count": 2,
   "id": "894aae8f",
   "metadata": {
    "scrolled": true
   },
   "outputs": [],
   "source": [
    "filename = 'trkn18.csv'\n",
    "dbname = 'kddi_18_new_marge'\n",
    "df_csv = pd.read_csv(filename)"
   ]
  },
  {
   "cell_type": "code",
   "execution_count": 3,
   "id": "a1cc1f92",
   "metadata": {},
   "outputs": [
    {
     "data": {
      "text/html": [
       "<div>\n",
       "<style scoped>\n",
       "    .dataframe tbody tr th:only-of-type {\n",
       "        vertical-align: middle;\n",
       "    }\n",
       "\n",
       "    .dataframe tbody tr th {\n",
       "        vertical-align: top;\n",
       "    }\n",
       "\n",
       "    .dataframe thead th {\n",
       "        text-align: right;\n",
       "    }\n",
       "</style>\n",
       "<table border=\"1\" class=\"dataframe\">\n",
       "  <thead>\n",
       "    <tr style=\"text-align: right;\">\n",
       "      <th></th>\n",
       "      <th>times</th>\n",
       "      <th>mesh</th>\n",
       "      <th>tbran</th>\n",
       "      <th>stmesh</th>\n",
       "      <th>edmesh</th>\n",
       "    </tr>\n",
       "  </thead>\n",
       "  <tbody>\n",
       "    <tr>\n",
       "      <th>0</th>\n",
       "      <td>2022-04-01 18:00:00</td>\n",
       "      <td>50324526133</td>\n",
       "      <td>24.400000</td>\n",
       "      <td>50324526341</td>\n",
       "      <td>50324526133</td>\n",
       "    </tr>\n",
       "    <tr>\n",
       "      <th>1</th>\n",
       "      <td>2022-04-01 18:00:00</td>\n",
       "      <td>50324526134</td>\n",
       "      <td>24.338237</td>\n",
       "      <td>50324526341</td>\n",
       "      <td>50324526133</td>\n",
       "    </tr>\n",
       "    <tr>\n",
       "      <th>2</th>\n",
       "      <td>2022-04-01 18:00:00</td>\n",
       "      <td>50324526311</td>\n",
       "      <td>24.334127</td>\n",
       "      <td>50324526341</td>\n",
       "      <td>50324526133</td>\n",
       "    </tr>\n",
       "    <tr>\n",
       "      <th>3</th>\n",
       "      <td>2022-04-01 18:00:00</td>\n",
       "      <td>50324526312</td>\n",
       "      <td>24.254691</td>\n",
       "      <td>50324526341</td>\n",
       "      <td>50324526133</td>\n",
       "    </tr>\n",
       "    <tr>\n",
       "      <th>4</th>\n",
       "      <td>2022-04-01 18:00:00</td>\n",
       "      <td>50324526314</td>\n",
       "      <td>24.183730</td>\n",
       "      <td>50324526341</td>\n",
       "      <td>50324526133</td>\n",
       "    </tr>\n",
       "    <tr>\n",
       "      <th>...</th>\n",
       "      <td>...</td>\n",
       "      <td>...</td>\n",
       "      <td>...</td>\n",
       "      <td>...</td>\n",
       "      <td>...</td>\n",
       "    </tr>\n",
       "    <tr>\n",
       "      <th>1060629</th>\n",
       "      <td>2022-04-30 23:45:00</td>\n",
       "      <td>50327642334</td>\n",
       "      <td>6.612275</td>\n",
       "      <td>50327652134</td>\n",
       "      <td>50327600232</td>\n",
       "    </tr>\n",
       "    <tr>\n",
       "      <th>1060630</th>\n",
       "      <td>2022-04-30 23:45:00</td>\n",
       "      <td>50327652112</td>\n",
       "      <td>6.530635</td>\n",
       "      <td>50327652134</td>\n",
       "      <td>50327600232</td>\n",
       "    </tr>\n",
       "    <tr>\n",
       "      <th>1060631</th>\n",
       "      <td>2022-04-30 23:45:00</td>\n",
       "      <td>50327652114</td>\n",
       "      <td>6.448995</td>\n",
       "      <td>50327652134</td>\n",
       "      <td>50327600232</td>\n",
       "    </tr>\n",
       "    <tr>\n",
       "      <th>1060632</th>\n",
       "      <td>2022-04-30 23:45:00</td>\n",
       "      <td>50327652132</td>\n",
       "      <td>6.367355</td>\n",
       "      <td>50327652134</td>\n",
       "      <td>50327600232</td>\n",
       "    </tr>\n",
       "    <tr>\n",
       "      <th>1060633</th>\n",
       "      <td>2022-04-30 23:45:00</td>\n",
       "      <td>50327652134</td>\n",
       "      <td>6.285714</td>\n",
       "      <td>50327652134</td>\n",
       "      <td>50327600232</td>\n",
       "    </tr>\n",
       "  </tbody>\n",
       "</table>\n",
       "<p>1060634 rows × 5 columns</p>\n",
       "</div>"
      ],
      "text/plain": [
       "                       times         mesh      tbran       stmesh       edmesh\n",
       "0        2022-04-01 18:00:00  50324526133  24.400000  50324526341  50324526133\n",
       "1        2022-04-01 18:00:00  50324526134  24.338237  50324526341  50324526133\n",
       "2        2022-04-01 18:00:00  50324526311  24.334127  50324526341  50324526133\n",
       "3        2022-04-01 18:00:00  50324526312  24.254691  50324526341  50324526133\n",
       "4        2022-04-01 18:00:00  50324526314  24.183730  50324526341  50324526133\n",
       "...                      ...          ...        ...          ...          ...\n",
       "1060629  2022-04-30 23:45:00  50327642334   6.612275  50327652134  50327600232\n",
       "1060630  2022-04-30 23:45:00  50327652112   6.530635  50327652134  50327600232\n",
       "1060631  2022-04-30 23:45:00  50327652114   6.448995  50327652134  50327600232\n",
       "1060632  2022-04-30 23:45:00  50327652132   6.367355  50327652134  50327600232\n",
       "1060633  2022-04-30 23:45:00  50327652134   6.285714  50327652134  50327600232\n",
       "\n",
       "[1060634 rows x 5 columns]"
      ]
     },
     "execution_count": 3,
     "metadata": {},
     "output_type": "execute_result"
    }
   ],
   "source": [
    "df_csv"
   ]
  },
  {
   "cell_type": "code",
   "execution_count": 4,
   "id": "aa42a8ba",
   "metadata": {},
   "outputs": [],
   "source": [
    "connection = psycopg2.connectconnection = psycopg2.connect(host=\"localhost\", database=\"analysisdb\", user=\"postgres\",password=\"setouchi1311\")"
   ]
  },
  {
   "cell_type": "code",
   "execution_count": 5,
   "id": "8a94f73c",
   "metadata": {
    "scrolled": false
   },
   "outputs": [
    {
     "name": "stdout",
     "output_type": "stream",
     "text": [
      "cnt=500000\n",
      "cnt=510000\n",
      "cnt=520000\n",
      "cnt=530000\n",
      "cnt=540000\n",
      "cnt=550000\n",
      "cnt=560000\n",
      "cnt=570000\n",
      "cnt=580000\n",
      "cnt=590000\n",
      "cnt=600000\n",
      "cnt=610000\n",
      "cnt=620000\n",
      "cnt=630000\n",
      "cnt=640000\n",
      "cnt=650000\n",
      "cnt=660000\n",
      "cnt=670000\n",
      "cnt=680000\n",
      "cnt=690000\n"
     ]
    }
   ],
   "source": [
    "cur =connection.cursor()\n",
    "i = 0\n",
    "for item in df_csv.values:\n",
    "    if i < 500000:\n",
    "        i = i + 1\n",
    "        continue\n",
    "    if i >= 700000:\n",
    "        break\n",
    "    sql = \"UPDATE \" + dbname + \" set tbran = \"+ str(item[2]) + \" \"\n",
    "    sql += \"WHERE mesh = '\" + str(item[1]) + \"' and times ='\" + str(item[0]) + \"'\"\n",
    "    cur.execute(sql)\n",
    "    #connection.commit()\n",
    "    #print(sql)\n",
    "    if i % 10000 == 0:\n",
    "        connection.commit()\n",
    "        print(\"cnt=\"+str(i))\n",
    "    i = i + 1\n",
    "cur.close()\n"
   ]
  },
  {
   "cell_type": "code",
   "execution_count": 6,
   "id": "2115817e",
   "metadata": {},
   "outputs": [],
   "source": [
    "connection.close()"
   ]
  },
  {
   "cell_type": "code",
   "execution_count": null,
   "id": "454a73ad",
   "metadata": {},
   "outputs": [],
   "source": [
    "#ConvertMeshtoRoad"
   ]
  }
 ],
 "metadata": {
  "kernelspec": {
   "display_name": "Python 3 (ipykernel)",
   "language": "python",
   "name": "python3"
  },
  "language_info": {
   "codemirror_mode": {
    "name": "ipython",
    "version": 3
   },
   "file_extension": ".py",
   "mimetype": "text/x-python",
   "name": "python",
   "nbconvert_exporter": "python",
   "pygments_lexer": "ipython3",
   "version": "3.9.15"
  }
 },
 "nbformat": 4,
 "nbformat_minor": 5
}
